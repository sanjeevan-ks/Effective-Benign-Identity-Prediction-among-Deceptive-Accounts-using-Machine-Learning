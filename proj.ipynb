{
 "cells": [
  {
   "cell_type": "code",
   "execution_count": 68,
   "id": "1da84713",
   "metadata": {},
   "outputs": [
    {
     "name": "stdout",
     "output_type": "stream",
     "text": [
      "Requirement already satisfied: scikit-learn in c:\\users\\sanjeevan\\anaconda3\\lib\\site-packages (1.1.3)\n",
      "Collecting scikit-learn\n",
      "  Downloading scikit_learn-1.3.0-cp38-cp38-win_amd64.whl (9.2 MB)\n",
      "     ---------------------------------------- 9.2/9.2 MB 3.3 MB/s eta 0:00:00\n",
      "Collecting joblib>=1.1.1\n",
      "  Using cached joblib-1.3.1-py3-none-any.whl (301 kB)\n",
      "Requirement already satisfied: scipy>=1.5.0 in c:\\users\\sanjeevan\\anaconda3\\lib\\site-packages (from scikit-learn) (1.10.1)\n",
      "Requirement already satisfied: numpy>=1.17.3 in c:\\users\\sanjeevan\\anaconda3\\lib\\site-packages (from scikit-learn) (1.24.2)\n",
      "Requirement already satisfied: threadpoolctl>=2.0.0 in c:\\users\\sanjeevan\\anaconda3\\lib\\site-packages (from scikit-learn) (2.1.0)\n",
      "Installing collected packages: joblib, scikit-learn\n",
      "  Attempting uninstall: joblib\n",
      "    Found existing installation: joblib 1.0.1\n",
      "    Uninstalling joblib-1.0.1:\n",
      "      Successfully uninstalled joblib-1.0.1\n",
      "  Attempting uninstall: scikit-learn\n",
      "    Found existing installation: scikit-learn 1.1.3\n",
      "    Uninstalling scikit-learn-1.1.3:\n",
      "      Successfully uninstalled scikit-learn-1.1.3\n",
      "Successfully installed joblib-1.3.1 scikit-learn-1.3.0\n"
     ]
    }
   ],
   "source": [
    "import pandas as pd\n",
    "import numpy as np\n",
    "import matplotlib.pyplot as plt\n",
    "import matplotlib as mpl\n",
    "import seaborn as sns\n",
    "import warnings\n",
    "!pip install --upgrade scikit-learn\n",
    "warnings.filterwarnings(\"ignore\")\n",
    "%matplotlib inline\n",
    "import xgboost as xgb\n",
    "from sklearn.model_selection import train_test_split\n",
    "from sklearn.metrics import accuracy_score, roc_curve, auc,classification_report"
   ]
  },
  {
   "cell_type": "code",
   "execution_count": 69,
   "id": "cf19538a",
   "metadata": {},
   "outputs": [],
   "source": [
    "df = pd.read_csv('finaldata1.csv')\n",
    "bots = df[df.bot==1]\n",
    "nonbots = df[df.bot==0]"
   ]
  },
  {
   "cell_type": "code",
   "execution_count": 70,
   "id": "9442873a",
   "metadata": {},
   "outputs": [
    {
     "data": {
      "text/html": [
       "<div>\n",
       "<style scoped>\n",
       "    .dataframe tbody tr th:only-of-type {\n",
       "        vertical-align: middle;\n",
       "    }\n",
       "\n",
       "    .dataframe tbody tr th {\n",
       "        vertical-align: top;\n",
       "    }\n",
       "\n",
       "    .dataframe thead th {\n",
       "        text-align: right;\n",
       "    }\n",
       "</style>\n",
       "<table border=\"1\" class=\"dataframe\">\n",
       "  <thead>\n",
       "    <tr style=\"text-align: right;\">\n",
       "      <th></th>\n",
       "      <th>id</th>\n",
       "      <th>id_str</th>\n",
       "      <th>screen_name</th>\n",
       "      <th>location</th>\n",
       "      <th>description</th>\n",
       "      <th>url</th>\n",
       "      <th>followers_count</th>\n",
       "      <th>friends_count</th>\n",
       "      <th>listedcount</th>\n",
       "      <th>created_at</th>\n",
       "      <th>...</th>\n",
       "      <th>verified</th>\n",
       "      <th>statuses_count</th>\n",
       "      <th>lang</th>\n",
       "      <th>status</th>\n",
       "      <th>default_profile</th>\n",
       "      <th>default_profile_image</th>\n",
       "      <th>has_extended_profile</th>\n",
       "      <th>name</th>\n",
       "      <th>tweet</th>\n",
       "      <th>bot</th>\n",
       "    </tr>\n",
       "  </thead>\n",
       "  <tbody>\n",
       "    <tr>\n",
       "      <th>0</th>\n",
       "      <td>8.160000e+17</td>\n",
       "      <td>\"815745789754417152\"</td>\n",
       "      <td>\"HoustonPokeMap\"</td>\n",
       "      <td>\"Houston, TX\"</td>\n",
       "      <td>\"Rare and strong PokŽmon in Houston, TX. See m...</td>\n",
       "      <td>\"https://t.co/dnWuDbFRkt\"</td>\n",
       "      <td>1291</td>\n",
       "      <td>0</td>\n",
       "      <td>10</td>\n",
       "      <td>\"Mon Jan 02 02:25:26 +0000 2017\"</td>\n",
       "      <td>...</td>\n",
       "      <td>False</td>\n",
       "      <td>78554</td>\n",
       "      <td>\"en\"</td>\n",
       "      <td>{\\r      \"created_at\": \"Sun Mar 12 15:44:04 +0...</td>\n",
       "      <td>True</td>\n",
       "      <td>False</td>\n",
       "      <td>False</td>\n",
       "      <td>\"Houston PokŽ Alert\"</td>\n",
       "      <td>there are some truly sick ppl out there.</td>\n",
       "      <td>1</td>\n",
       "    </tr>\n",
       "    <tr>\n",
       "      <th>1</th>\n",
       "      <td>4.843621e+09</td>\n",
       "      <td>4843621225</td>\n",
       "      <td>kernyeahx</td>\n",
       "      <td>Templeville town, MD, USA</td>\n",
       "      <td>From late 2014 Socium Marketplace will make sh...</td>\n",
       "      <td>NaN</td>\n",
       "      <td>1</td>\n",
       "      <td>349</td>\n",
       "      <td>0</td>\n",
       "      <td>02-01-2016 07:37</td>\n",
       "      <td>...</td>\n",
       "      <td>False</td>\n",
       "      <td>31</td>\n",
       "      <td>en</td>\n",
       "      <td>NaN</td>\n",
       "      <td>True</td>\n",
       "      <td>False</td>\n",
       "      <td>False</td>\n",
       "      <td>Keri Nelson</td>\n",
       "      <td>bihday pressie from my mummy and my granny #mi...</td>\n",
       "      <td>1</td>\n",
       "    </tr>\n",
       "    <tr>\n",
       "      <th>2</th>\n",
       "      <td>4.303727e+09</td>\n",
       "      <td>4303727112</td>\n",
       "      <td>mattlieberisbot</td>\n",
       "      <td>NaN</td>\n",
       "      <td>Inspired by the smart, funny folks at @replyal...</td>\n",
       "      <td>https://t.co/P1e1o0m4KC</td>\n",
       "      <td>1086</td>\n",
       "      <td>0</td>\n",
       "      <td>14</td>\n",
       "      <td>Fri Nov 20 18:53:22 +0000 2015</td>\n",
       "      <td>...</td>\n",
       "      <td>False</td>\n",
       "      <td>713</td>\n",
       "      <td>en</td>\n",
       "      <td>{'retweeted': False, 'is_quote_status': False,...</td>\n",
       "      <td>True</td>\n",
       "      <td>False</td>\n",
       "      <td>False</td>\n",
       "      <td>Matt Lieber Is Bot</td>\n",
       "      <td>Matt Lieber is a little bit of hot supper afte...</td>\n",
       "      <td>1</td>\n",
       "    </tr>\n",
       "    <tr>\n",
       "      <th>3</th>\n",
       "      <td>3.063139e+09</td>\n",
       "      <td>3063139353</td>\n",
       "      <td>sc_papers</td>\n",
       "      <td>NaN</td>\n",
       "      <td>NaN</td>\n",
       "      <td>NaN</td>\n",
       "      <td>33</td>\n",
       "      <td>0</td>\n",
       "      <td>8</td>\n",
       "      <td>2/25/2015 20:11</td>\n",
       "      <td>...</td>\n",
       "      <td>False</td>\n",
       "      <td>676</td>\n",
       "      <td>en</td>\n",
       "      <td>Construction of human anti-tetanus single-chai...</td>\n",
       "      <td>True</td>\n",
       "      <td>True</td>\n",
       "      <td>False</td>\n",
       "      <td>single cell papers</td>\n",
       "      <td>Construction of human anti-tetanus single-chai...</td>\n",
       "      <td>1</td>\n",
       "    </tr>\n",
       "    <tr>\n",
       "      <th>4</th>\n",
       "      <td>2.955142e+09</td>\n",
       "      <td>2955142070</td>\n",
       "      <td>lucarivera16</td>\n",
       "      <td>Dublin, United States</td>\n",
       "      <td>Inspiring cooks everywhere since 1956.</td>\n",
       "      <td>NaN</td>\n",
       "      <td>11</td>\n",
       "      <td>745</td>\n",
       "      <td>0</td>\n",
       "      <td>01-01-2015 17:44</td>\n",
       "      <td>...</td>\n",
       "      <td>False</td>\n",
       "      <td>185</td>\n",
       "      <td>en</td>\n",
       "      <td>NaN</td>\n",
       "      <td>False</td>\n",
       "      <td>False</td>\n",
       "      <td>False</td>\n",
       "      <td>lucarivera16</td>\n",
       "      <td>@user stuck in athens instead of santorini be...</td>\n",
       "      <td>1</td>\n",
       "    </tr>\n",
       "  </tbody>\n",
       "</table>\n",
       "<p>5 rows × 21 columns</p>\n",
       "</div>"
      ],
      "text/plain": [
       "             id                id_str       screen_name  \\\n",
       "0  8.160000e+17  \"815745789754417152\"  \"HoustonPokeMap\"   \n",
       "1  4.843621e+09            4843621225         kernyeahx   \n",
       "2  4.303727e+09            4303727112   mattlieberisbot   \n",
       "3  3.063139e+09            3063139353         sc_papers   \n",
       "4  2.955142e+09            2955142070      lucarivera16   \n",
       "\n",
       "                    location  \\\n",
       "0              \"Houston, TX\"   \n",
       "1  Templeville town, MD, USA   \n",
       "2                        NaN   \n",
       "3                        NaN   \n",
       "4      Dublin, United States   \n",
       "\n",
       "                                         description  \\\n",
       "0  \"Rare and strong PokŽmon in Houston, TX. See m...   \n",
       "1  From late 2014 Socium Marketplace will make sh...   \n",
       "2  Inspired by the smart, funny folks at @replyal...   \n",
       "3                                                NaN   \n",
       "4             Inspiring cooks everywhere since 1956.   \n",
       "\n",
       "                         url  followers_count  friends_count  listedcount  \\\n",
       "0  \"https://t.co/dnWuDbFRkt\"             1291              0           10   \n",
       "1                        NaN                1            349            0   \n",
       "2    https://t.co/P1e1o0m4KC             1086              0           14   \n",
       "3                        NaN               33              0            8   \n",
       "4                        NaN               11            745            0   \n",
       "\n",
       "                         created_at  ...  verified  statuses_count  lang  \\\n",
       "0  \"Mon Jan 02 02:25:26 +0000 2017\"  ...     False           78554  \"en\"   \n",
       "1                  02-01-2016 07:37  ...     False              31    en   \n",
       "2    Fri Nov 20 18:53:22 +0000 2015  ...     False             713    en   \n",
       "3                   2/25/2015 20:11  ...     False             676    en   \n",
       "4                  01-01-2015 17:44  ...     False             185    en   \n",
       "\n",
       "                                              status default_profile  \\\n",
       "0  {\\r      \"created_at\": \"Sun Mar 12 15:44:04 +0...            True   \n",
       "1                                                NaN            True   \n",
       "2  {'retweeted': False, 'is_quote_status': False,...            True   \n",
       "3  Construction of human anti-tetanus single-chai...            True   \n",
       "4                                                NaN           False   \n",
       "\n",
       "   default_profile_image  has_extended_profile                  name  \\\n",
       "0                  False                 False  \"Houston PokŽ Alert\"   \n",
       "1                  False                 False           Keri Nelson   \n",
       "2                  False                 False    Matt Lieber Is Bot   \n",
       "3                   True                 False    single cell papers   \n",
       "4                  False                 False          lucarivera16   \n",
       "\n",
       "                                               tweet bot  \n",
       "0        there are some truly sick ppl out there.      1  \n",
       "1  bihday pressie from my mummy and my granny #mi...   1  \n",
       "2  Matt Lieber is a little bit of hot supper afte...   1  \n",
       "3  Construction of human anti-tetanus single-chai...   1  \n",
       "4   @user stuck in athens instead of santorini be...   1  \n",
       "\n",
       "[5 rows x 21 columns]"
      ]
     },
     "execution_count": 70,
     "metadata": {},
     "output_type": "execute_result"
    }
   ],
   "source": [
    "df.head()"
   ]
  },
  {
   "cell_type": "code",
   "execution_count": 71,
   "id": "735d464e",
   "metadata": {},
   "outputs": [],
   "source": [
    "df = pd.read_csv('finaldata1.csv')\n",
    "bag_of_words_bot = r'bot|b0t|cannabis|tweet me|mishear|follow me|updates every|gorilla|yes_ofc|forget' \\\n",
    "                    r'expos|kill|clit|bbb|butt|fuck|XXX|sex|truthe|fake|anony|free|virus|funky|RNA|kuck|jargon' \\\n",
    "                    r'nerd|swag|jack|bang|bonsai|chick|prison|paper|pokem|xx|freak|ffd|dunia|clone|genie|bbb' \\\n",
    "                    r'ffd|onlyman|emoji|joke|troll|droop|free|every|wow|cheese|yeah|bio|magic|wizard|face'\n",
    "            \n",
    "df['screen_name_binary'] = df.screen_name.str.contains(bag_of_words_bot, case=False, na=False)\n",
    "df['name_binary'] = df.name.str.contains(bag_of_words_bot, case=False, na=False)\n",
    "df['description_binary'] = df.description.str.contains(bag_of_words_bot, case=False, na=False)\n",
    "df['status_binary'] = df.status.str.contains(bag_of_words_bot, case=False, na=False)\n",
    "#df['tweet_binary'] = df.tweet.str.contains(bag_of_words_bot, case=False, na=False)"
   ]
  },
  {
   "cell_type": "code",
   "execution_count": 72,
   "id": "3ddc59d9",
   "metadata": {},
   "outputs": [],
   "source": [
    "features = ['screen_name_binary', 'name_binary', 'description_binary', 'status_binary', 'verified', 'followers_count', 'friends_count', 'statuses_count','tweet', 'bot']"
   ]
  },
  {
   "cell_type": "code",
   "execution_count": 73,
   "id": "b964309e",
   "metadata": {},
   "outputs": [
    {
     "data": {
      "text/plain": [
       "['screen_name_binary',\n",
       " 'name_binary',\n",
       " 'description_binary',\n",
       " 'status_binary',\n",
       " 'verified',\n",
       " 'followers_count',\n",
       " 'friends_count',\n",
       " 'statuses_count',\n",
       " 'tweet',\n",
       " 'bot']"
      ]
     },
     "execution_count": 73,
     "metadata": {},
     "output_type": "execute_result"
    }
   ],
   "source": [
    "features"
   ]
  },
  {
   "cell_type": "code",
   "execution_count": 74,
   "id": "b0c87c1b",
   "metadata": {},
   "outputs": [],
   "source": [
    "X = df[features].iloc[:,5:-1]"
   ]
  },
  {
   "cell_type": "code",
   "execution_count": 75,
   "id": "a1fa0945",
   "metadata": {},
   "outputs": [
    {
     "data": {
      "text/html": [
       "<div>\n",
       "<style scoped>\n",
       "    .dataframe tbody tr th:only-of-type {\n",
       "        vertical-align: middle;\n",
       "    }\n",
       "\n",
       "    .dataframe tbody tr th {\n",
       "        vertical-align: top;\n",
       "    }\n",
       "\n",
       "    .dataframe thead th {\n",
       "        text-align: right;\n",
       "    }\n",
       "</style>\n",
       "<table border=\"1\" class=\"dataframe\">\n",
       "  <thead>\n",
       "    <tr style=\"text-align: right;\">\n",
       "      <th></th>\n",
       "      <th>followers_count</th>\n",
       "      <th>friends_count</th>\n",
       "      <th>statuses_count</th>\n",
       "      <th>tweet</th>\n",
       "    </tr>\n",
       "  </thead>\n",
       "  <tbody>\n",
       "    <tr>\n",
       "      <th>0</th>\n",
       "      <td>1291</td>\n",
       "      <td>0</td>\n",
       "      <td>78554</td>\n",
       "      <td>there are some truly sick ppl out there.</td>\n",
       "    </tr>\n",
       "    <tr>\n",
       "      <th>1</th>\n",
       "      <td>1</td>\n",
       "      <td>349</td>\n",
       "      <td>31</td>\n",
       "      <td>bihday pressie from my mummy and my granny #mi...</td>\n",
       "    </tr>\n",
       "    <tr>\n",
       "      <th>2</th>\n",
       "      <td>1086</td>\n",
       "      <td>0</td>\n",
       "      <td>713</td>\n",
       "      <td>Matt Lieber is a little bit of hot supper afte...</td>\n",
       "    </tr>\n",
       "    <tr>\n",
       "      <th>3</th>\n",
       "      <td>33</td>\n",
       "      <td>0</td>\n",
       "      <td>676</td>\n",
       "      <td>Construction of human anti-tetanus single-chai...</td>\n",
       "    </tr>\n",
       "    <tr>\n",
       "      <th>4</th>\n",
       "      <td>11</td>\n",
       "      <td>745</td>\n",
       "      <td>185</td>\n",
       "      <td>@user stuck in athens instead of santorini be...</td>\n",
       "    </tr>\n",
       "    <tr>\n",
       "      <th>...</th>\n",
       "      <td>...</td>\n",
       "      <td>...</td>\n",
       "      <td>...</td>\n",
       "      <td>...</td>\n",
       "    </tr>\n",
       "    <tr>\n",
       "      <th>2193</th>\n",
       "      <td>51314111</td>\n",
       "      <td>392225</td>\n",
       "      <td>5126</td>\n",
       "      <td>RT @lukester: Springing forward should happen ...</td>\n",
       "    </tr>\n",
       "    <tr>\n",
       "      <th>2194</th>\n",
       "      <td>46</td>\n",
       "      <td>54</td>\n",
       "      <td>194</td>\n",
       "      <td>Data Science is a team sport. I'm _ for all o...</td>\n",
       "    </tr>\n",
       "    <tr>\n",
       "      <th>2195</th>\n",
       "      <td>45</td>\n",
       "      <td>146</td>\n",
       "      <td>36</td>\n",
       "      <td>Sitting at home and im very bored keep hearing...</td>\n",
       "    </tr>\n",
       "    <tr>\n",
       "      <th>2196</th>\n",
       "      <td>1336587</td>\n",
       "      <td>512</td>\n",
       "      <td>17125</td>\n",
       "      <td>RT @CNN: School apologizes after fifth-graders...</td>\n",
       "    </tr>\n",
       "    <tr>\n",
       "      <th>2197</th>\n",
       "      <td>25253</td>\n",
       "      <td>152</td>\n",
       "      <td>36172</td>\n",
       "      <td>Fed bokkie too many birthday treats-sicko</td>\n",
       "    </tr>\n",
       "  </tbody>\n",
       "</table>\n",
       "<p>2198 rows × 4 columns</p>\n",
       "</div>"
      ],
      "text/plain": [
       "      followers_count  friends_count  statuses_count  \\\n",
       "0                1291              0           78554   \n",
       "1                   1            349              31   \n",
       "2                1086              0             713   \n",
       "3                  33              0             676   \n",
       "4                  11            745             185   \n",
       "...               ...            ...             ...   \n",
       "2193         51314111         392225            5126   \n",
       "2194               46             54             194   \n",
       "2195               45            146              36   \n",
       "2196          1336587            512           17125   \n",
       "2197            25253            152           36172   \n",
       "\n",
       "                                                  tweet  \n",
       "0           there are some truly sick ppl out there.     \n",
       "1     bihday pressie from my mummy and my granny #mi...  \n",
       "2     Matt Lieber is a little bit of hot supper afte...  \n",
       "3     Construction of human anti-tetanus single-chai...  \n",
       "4      @user stuck in athens instead of santorini be...  \n",
       "...                                                 ...  \n",
       "2193  RT @lukester: Springing forward should happen ...  \n",
       "2194  Data Science is a team sport. I'm _ for all o...  \n",
       "2195  Sitting at home and im very bored keep hearing...  \n",
       "2196  RT @CNN: School apologizes after fifth-graders...  \n",
       "2197          Fed bokkie too many birthday treats-sicko  \n",
       "\n",
       "[2198 rows x 4 columns]"
      ]
     },
     "execution_count": 75,
     "metadata": {},
     "output_type": "execute_result"
    }
   ],
   "source": [
    "X"
   ]
  },
  {
   "cell_type": "code",
   "execution_count": 76,
   "id": "59b423ee",
   "metadata": {},
   "outputs": [],
   "source": [
    "y = df[features].iloc[:,-1]"
   ]
  },
  {
   "cell_type": "code",
   "execution_count": 77,
   "id": "a384ef6b",
   "metadata": {},
   "outputs": [
    {
     "data": {
      "text/plain": [
       "0       1\n",
       "1       1\n",
       "2       1\n",
       "3       1\n",
       "4       1\n",
       "       ..\n",
       "2193    0\n",
       "2194    0\n",
       "2195    0\n",
       "2196    0\n",
       "2197    0\n",
       "Name: bot, Length: 2198, dtype: int64"
      ]
     },
     "execution_count": 77,
     "metadata": {},
     "output_type": "execute_result"
    }
   ],
   "source": [
    "y"
   ]
  },
  {
   "cell_type": "code",
   "execution_count": 78,
   "id": "54ae14b8",
   "metadata": {},
   "outputs": [],
   "source": [
    "X_train, X_test, y_train, y_test = train_test_split(X, y, test_size=0.2, random_state=101)"
   ]
  },
  {
   "cell_type": "markdown",
   "id": "eb3e493b",
   "metadata": {},
   "source": [
    "# Preprocessing on Tweets"
   ]
  },
  {
   "cell_type": "code",
   "execution_count": 79,
   "id": "d5ad9b70",
   "metadata": {},
   "outputs": [],
   "source": [
    "#!pip install nltk\n",
    "import re\n",
    "import nltk\n",
    "\"\"\"\n",
    "nltk.download('punkt')\n",
    "nltk.download('stopwords')\n",
    "nltk.download('wordnet')\"\"\"\n",
    "\n",
    "from nltk.stem import PorterStemmer\n",
    "from nltk.corpus import stopwords\n",
    "from nltk.stem import WordNetLemmatizer"
   ]
  },
  {
   "cell_type": "code",
   "execution_count": 80,
   "id": "73264aa6",
   "metadata": {},
   "outputs": [
    {
     "name": "stdout",
     "output_type": "stream",
     "text": [
      "['truly sick ppl', 'bihday pressie mummy granny #michaelkors #luckygirl #bihday #liverpool', 'matt lieber little bit hot supper afterwards', 'construction human anti tetanus single chain variable fragment applying symplex technology http co 5wjzdutkou', '@user stuck athens instead santorini @user said windy land shocking service every level since', 'anyone ever tried throwing water kellyanne conway', 'u mostly admire', 'couple fat naked japanese girl', 'feeding schedule proteolysis regulate autophagic clearance mutant huntingtin http co zlqdliy2vb', 'functional selectivity cytokine signaling revealed pathogenic epo mutation http co u4vr9z9ec9 http co rkdtigzdkz', 'daughter riding bike around driveway son playing guitar u enjoy campfire #summeime #memories', 'large scale chromosome folding versus genomic dna sequence', '@user happy folk first #freakshake launch #freaks #yum #dalston @user', 'huge crowd trump', 'thankful saturday #thankful #positive', 'hard bag four item', 'omg loving station way jam work #memories @user rock refurbishing', 'good god son riding bike around driveway son playing guitar u campfire #summeime #memories', 'maurabot nice daughter riding bike around driveway enjoy campfire #summeime #memories', '@jonathanddownie daniel gile sure dad', 'hillary giveaway pose entering job #imwithyou #americans lie', 'loving station way jam work getting work done course', 'beginning think @user tom brady hater way go man', 'omg loving station way jam work getting work done course #memories @user', '@negatendo t27silentbicycle @raganwald @aredridel @everyword', 'son mom loving station getting work done course', 'dream palace move already #stellar #girls #dreamy #goodmorning day', '4 nitro styrylquinoline antimalarial inhibiting multiple stage plasmodium falciparum asexual life cycle http co m4if58cogx', 'hazezon tamar hazezon tamar enters battlefield', 'self assembled stable sponge type nanocarries brucea javanica oil delivery http co va6vryjcdx', 'beginning think @user tom brady hater way go man', '@user enjoying delicious melon #vegan #organic #fresh #fruit #organic #healthy', 'poll today ranking microsoft technical fellow pick cast vote', 'destroy whitishness course court @law @justice', 'goldberg become wwe universal champion #wwefastlane think win say hi', 'earther always earther', 'trump calling obama resign orlando shooting boy point 8 year talk change', 'professional skill speeaks update', 'must work hard always', 'name something might find kid room colour admire @kids @colour', 'next school year year exam', 'nicki know song number one cause waiting 2 week hear bullshit as come back http co lfeheibdyy', 'calling lawyer resign orlando shooting 58 year talk change', 'guess moon gathering sort nuclear fusion', 'two love #beer #craftbeee #dog #malinoislovers #malinois #passion #friend', 'rt @hisboybeliber retweet want gain follower turn notification active gain tweet 2mins', 'rt @roomurder nicki know song number one cause waiting 2 week hear bullshit as come back http co lfe', '@user blocked troll promise #blacklivesmatter amp let nonsensical rant boo', 'hepatitis b virus x protein stimulates proliferation wound closure inhibits apoptosis huh 7 cell via cdc42 http co grzkihe70v', 'today daily forest jumbucks n', 'depth analysis rumen microbial carbohydrate active enzyme profile indian crossbred cattle http co bz2mlgc2lj', 'top #tweeted #rna list story mir 27a control triacylglycerol synthesis bov http co 0wj9glclnd see http co qre3vimzc3', 'midwest google summit learning manage email', 'merchandising testing game student #digra', 'retweet new book today conservative playbook quick guide defeat liberalism @seanhannity http co is9cblh0xb', 'truth get smart smart something 02 negro woman beautiful #doubletap #getout', 'french saint name founded sister charity 1799 charles dudley warner', 'jack stop jack come', '@mikeykampmann poem', 'tournament bubble @user', 'blocked troll promise #blacklivesmatter amp', 'divided dividude nice', '@marialevd death cab cutie cuelquier cosa que yo recomiende en el programa lo monto en el facebook igual besos nena', 'great book promotion follow @tweetyournovel @books2delight @booktweepz @bookbuzzers @tweetyourbooks @authorbookboost @writeintoprint', 'tv gold rush discovery ink partnership number crunchers clypd lake 5', '@dead cell http co kbatqfmnuj', 'rt @markberman nice rude say man presidency threatening jail opponent saying predecessor illeg u2026', 'bear stearns bravo', 'hi shutting bot fun amp supposed p repetitive thanks playing n @tinysubversions', 'functional characterization morpheus gene family #biorxiv evobio', 'abitats aggrieved habitat', '@lowpolybot gasp made submission 74 delicious enjoy http co v5ps3tlvux', 'hello know stupid pls follow acc go follow @gyuterte instead friendly istg', 'elder thought surely maker displeased suggested maker left forever', 'living newdelhi city love always capital city', '@romanatwood always tell god needed someone died god needed zeus something tell', 'rt @adamdicus every day wake try everything build kind team proud', 'snorlax appeared @user blocked troll promise #blacklivesmatter amp let nonsensical rant boo', 'retweet agree next school year year exam', 'rt @ryanlewis79 united playing formation jeez', 'crucible dead gangrenous player seek blue eyed curious rocky wanderer along desertion appear harbour', 'beginning think @user tom brady hater way go man', 'school favoorite place upskill', 'tragedyst france prose poetry', 'friend said retweet agree point said correct', 'walked furnishing flatboat', 'gene expression value pattern recognition receptor porcine leukocyte response salmonella ent http co zgsapnkhz9', '@penngos http gone howard major', 'making great game programming @joehocking #gamedev #indiedev #unity3d #gaming #indiegames', 'first month week day till beginning end @user #sad time', 'dell add gateway industrial internet thing an ai @ai @dell', 'lookin killer @cheapquickideas smart shoe untied cool', 'next school year year exam selfish #orlando #standwithorlando #pulseshooting #orlandoshooting', 'discovering interaction circular rna rna binding protein clip seq data using http co idbvyxprgt #molbiol', 'leonardr approve district sideline prove @ colbertstephens', 'rt @mjesusgz painting yuri krotov n#pintura #art #arttwit #painting', 'rt @dimitrikapurani @taylorswift13 @katyperry @mileycyrus @ddlovato', 'think parent beginning think @user tom brady hater way go man', 'jim tomb unknown tool chicken finger', 'selfish #orlando #standwithorlando #pulseshooting #orlandoshooting', 'unblocked troll promise #blacklivesmatter amp let nonsensical rant boo', 'get 88 friend equal one mother#heartbreakfast#prestonhour @meant yuan', 'chain selfish #orlando really hu feeling', '#onthisday 1860 person parent bought', 'darling let u arrange unforgettable night find', 'bamas fool around might raising child ppl dont think far advance see fun whatever', 'attack #orlando caused lot pain many people #vengeance option let comfo', '#blackpool attack bull game 3d really think head empty around city side', '#fathersday amazing father today', 'dawn 6 49 sunrise 7 23 per gaisma #oneandother', 'u266b haku could see beast made u266b howl florence machine', 'thy pike tonedeaf shrike tonsorial', 'real future laptop computer remain specialized niche market matter inexpensive machine u2026', 'albert einstein si lawyer attack #orlando caused lot pain many people let comfo albert einstein si lawyer', 'want much ask', 'albert einstein si lawyer @lawyer', 'sad aunt passed away 96 #funeral', 'expects spanish inquisition', '7 horribly ad #2016 made u cringe', 'stalk watch peon poor disabled kill #usa usa used 2b proud amp universe care', '@user let scum baggery begin', 'thank super love wedding happiest moment one life', 'celebrate every man played fatherly role father day#', 'scarlet original characther oc #bot', 'crunchy cre salad dried vadouvan nsugar snap ganache dried santa rosa plum meringue line caught golden corn nbasil flan', 'schooling happiest moment one life upgarde life', '@capojoedg probable made solecism say tm101 instead real verb', 'von neumann universal constructor', 'feeling blue #illustration @ celebrate every man played fatherly role father day#', 'press x get feeling blue #illustration', '#stephcurry outburst begs question christian get #nbafinals', 'idea day incomplete game hypertext puzzle driven', 'thank following masternim', 'boy see flock bird shape library', 'live west west street', 'kristen bell celebrity activism le allowed share believe truth revolt http co rpeo63pxcf', '#grateful #affirmations', 'feeling blue #illustration', 'rt @ritzcenter16v #theottomanlieutenant playing voorhees nj #worldwar1 #drama #turkish #love #war #artfilm http co 1v5fgkig9u', '@adamdicus every day wake try everything build kind team proud', 'new card convenience vacation bamas fool around might raising child', 'knock knock n ppl dont think far advance see fun whatever sapir organization', 'holiday season passing deactivated perhaps shall return ti season', 'disrupting neighborhood', 'mitosismadness', 'aberrant methylation pattern affect molecular pathogenesis rheumatoid arthritis http co yegb6sos0n', 'feminist hand as debate free marketplace idea take courage master debater u2026 http co y90uhhgbmq', 'rabbit hepatitis e virus opportunistic pathogen specific pathogen free rabbit capability http co navnvaumar', 'good break n nstudent athlete get break u270a grinding ud83d ude08 imma chasing ud83c udfc3 ud83c udffd dream ud83d udcadwhile lounging ud83d udcaf', 'listen better millionaire living homely mansion warlord living beautiful palace n #thingstrumpneversaid', '8 week go im san antonio bound see @user cant wait see little brother #missyou #mybrotherskeeper', 'beginning think @user tom brady hater way go man', 'rt @graysondolan first see fun whatever', 'rt @mattsdreamtrips headline @best tv recap given physical form http co qzlsfbicfa', 'macroh2a histone variant maintain nuclear organization heterochromatin architecture http co ckmtpvbpfg', 'listen function created extract tweet form conversation', 'hahaha last #friday amp #weird', 'function created extract tweet form conversation', 'efficient moment based inference method within host bacterial infection dynamic', 'monday puzzle hurray loving station way jam work getting work done course #memories @user', 'function extract tweet form conversation', 'omg loving station way jam work getting work done course #memories @user', 'parent married instead ex really one like ex', 'fool walk bar bartender say collective noun barbarian fool pause reply want buy one', '@marujatarre en china ha tomado protagonismo el primer ministro siempre ha sido e el nuevo poco se hu jintao', 'hey noticed u training lover ask u check free app known training apple', 'rt @everyword irreparableness', 'early antibody therapy induce long lasting immunity shiv http co 2vuzlizx6v #naturetcb', '@dohimjobsports good news approved please retry addition prior message', 'tissue engineering peripheral blood derived mesenchymal stem cell promotes regeneration injured http co xyjm7ahamn', 'taetestroi want twitter datasets fyp detect bot anyone please help', 'meet adrian nxt time uc ask harasses amp break al count human right @ sju @stjohnsnow #stjohns u2026 http co 9m5olmmwa6', 'function created extract tweet form conversation #directioner #niall #nialhoranfacts #niallerwins #hot #justindrewbieber #justindb #believetou', 'sinusoidal voltage protocol rapid characterization ion channel kinetics http co e1489szrup #biorxiv biophys', '@miladreammusic thanks following mila care teaching learning check blog http co qfon3zqwbd', 'ready dance #roar #preschoolers #students #proud', 'ready yoga #roar #preschoolers #students #proud @yoga', 'son read diet food @everyword irreparableness', '@user #father sday say love dad right #sanya #whererefreshingbegins', 'raised cerebrospinal fluid baff april level anti n methyl aspartate receptor encephalitis http co da9qntzyoq #tumorimmuno', '@make greatagain far killed anticipated radical islamic terror attack yesterday get tough smart u c', 'teejay marquez hi po want twitter datasets fyp detect bot anyone help', '@mariveropara dice cast ncountry russia nactor unit 21 nvuln 0 day nvector brute force', 'beste bezoekers door strengere milieunormen zijn wij genoodzaakt om de chloor het zwembad te vervangen door benzine bedankt voor het beg', 'development mil 101 cr gro composite adsorption heat pump application http co nzkmxxziuu http co s9ve5cfz22', 'anti racist codeword antiwhite asia asian africa african white country everyon', 'guess back back #lifeaftersurgery #dog #dogslife #labrador #labradorretriever #lifeofsam', 'watching new episode @user @user way jam work getting work done course #memories @user', 'choke chicken dead', 'nohomo daughter riding bike around driveway son playing guitar', 'hey superspoilt may want check latest update #glastofest', 'cloud reluctance foments shadow problem', '13 03 17 13 30 river level 5 09maod info http co jp5ymtht1s http co wxzlyymotp', 'aaand want peek hood final json used bot http co dbz5tbbhjf see 2017', 'u02bct spell computing without ting', 'phyllis joan rogers warner bletchley park october 1942 october 1945 block e communication centre typex operator', 'check production team web series episode edited truly #mep #webseries', 'pubmed cytomorphologic parameter monitoring cytogenotoxic effect fertilizer allium cepa l http co yt0niggxu3', 'quite wet placentia right 76 0 humid', 'daughter riding bike around driveway son playing guitar', 'since request send em via @dj ebooks request artist name', '#pubmed phylogenic phosphorylation regulation difference phosphoenolpyruvate carboxykinase c3 c4 http co gajkpnmsqn', 'rt @creativetaade lol u quote status', '#model love u take u time ur', 'rt @lexydray hey @twentyonepilots friend giorgi country georgia wanted upload @joshuadun @tylerrjoseph', 'hi friend next game switch daylight saving time hour unless maker messed thing', 'hotel booking chatbot stay tunned soon launching hotelbot ai', '#juneteenth #independenceday #food4thought #rich #ancestral #heritage @ independence hall', '#bar use power mind #heal body #altwaystoheal #healthy #peace', 'queneau parameter', 'far away place family member hus', 'butt era', 'look look night', '#river gorilla simulator need adapt environment need tear city material', 'rt @biorxivpreprint hyper variability circulating insulin level physiological outcome high fat http co dwp8tkfdls', 'valid', 'every day wake try everything build kind team proud', 'woohoo 5 week go', 'watching @user leadership embrace amp kiss donald as #pathetic amp @user pay pay racism amp hate #ripgop', 'love mature age', 'rt @hoerribie yall help reach 5k rts pls work', 'miss dick ngo link shy', 'waited @user hour come autograph finally walk away come course disappointing', 'use power mind #heal body #altwaystoheal #healthy #peace', '@falcon 105 wow true u quote status', 'rt @mxdubaii looking back fancy summer 2016 #dirtbike #dirtbikes #motorbikes #motorbike #motorcycle #2026', 'wind sebe gust 8 0', 'n dance use power mind #heal body #altwaystoheal #healthy #peace', 'kevin please excuse avoiding ego death', 'without racecar impossible please http co jxlg4hrqhy', 'waited @user hour come autograph finally walk away', 'best joke spherical spherical way bonnie', '#oitnbseason4 2 day aaahhhhh', 'chuff memcached tap', 'aww yeah good bing bong bing bong', 'try get thing working obviously quite top thing', 'check #graffiti #dublin #ireland #music #vimeo #movie #video #europe #people #flow #fun #rafalwojcicki', 'rt @drjimmystar great book promotion follow @tweetyournovel @books2delight @booktweepz @bookbuzzers @tweetyourbooks @authorbookboost @ u2026', 'eat nwith much fresh food available seek boutique independent operation focus quality freshness nothing fancy', 'packing sneak peek working #yellowjackets #neshl 2016 @user #bhl #hockey', 'cooperating prison', 'happy father day 2016 dad dad #fathers#day #2016', 'noticed #blessed post may labeled technically clickbaitable tastemakers rebranded', '@user theverdict idiot #country #rock #bluegrass #beatles #love #pop #romance', 'physico cultural parameter agnps biotransformation bactericidal activity human pathogen http co or9oegh7jf', 'exosomes mediated transfer long noncoding rna zfas1 promotes gastric cancer progression http co mffijpfypj http co sr3ts09ihj', '#beautifulbabes #naturalbreasts #livechat http co 35j1c8k9mh want #freesexchat wit http co vdxxj0mxgy', 'child argued one slice snake cake snake slightly larger', 'little brother higher tolerance alcohol lol', 'right needed move happy pretty weird huh', 'mountaintop attainment neurologic conservator', 'redefine illusion use power mind #heal body #altwaystoheal #healthy #peace', 'lorem ipsum proemio longanime ridens deficientem locupletari tritamen praelibatissimas iactura', 'paleo pumpkin muffin made coconut flour', 'game jam ter stegen #terstegenjam', 'thankful hiking trail #thankful #positive', 'little brother higher tolerance alcohol lol', 'looking look found look nand heaven know miserable', '#newprofilepic http co hlxj1gwxlh', '@grarak god work grarak', 'pay meeting tackle movie uncovers problem want world know', 'monitoring soundscapes investigate interaction human activity sonoran pronghorn wildlife http co vuf2hykpij', 'happening end time machine activates gotta get outta town', '@foxnews @bretbaier @speakerryan', 'average price ducknote across exchange 0 000085 usd', 'gooseberry plush stir fermium modified atmosphere clothes dryer top pitaya', 'xebn u0308d u0308g u0308 xe4m u0308 xebs u0308', 'editor note glossatory technical issue return week', '@vpeur hey quand le beau temp arrive tite frette n sur une terasse', '@frickiiilllyyy oh wow daddy hedgehog mind blowingly hawt http co bdgqqemkba', 'bored need something someone hmu', 'rt @theviralmeme good break n nstudent athlete get break u270a grinding ud83d ude08 imma chasing ud83c udfc3 ud83c udffd dream ud83d udcadwhil u2026', 'time 6 hour u quote status use power mind #heal body', '@wottow beautiful scene starring @mm 62 1234 14 @pixelsorter http co 6pajdcxn6x', 'rt @drjimmystar great book promotion follow @tweetyournovel @books2delight @booktweepz @bookbuzzers @tweetyourbooks @authorbookboost @ u2026', 'smartphone dominate bull direct whatever want update knowledge', 'might libtard #libtard #sjw #liberal #politics', 'rt @keatonmasks year luigi taught definition fiscal', 'hume treatise human nature talent specialization', 'abashes abolitionist', 'guy concerned twitter brand honest follower', 'hourra j ai atteint le niveau 5 rejoins moi dans 2020 country #mycountry2020 http co rmpzolarhb', 'tell girlfrien u2590d boyfrie uaae0nd u2593becoming fat u259eay ima u0001091fge god u2026', 'guy concerned twitter brand honest follower', 'hate like 90 family really born big as toxic bomb mother fucker give fuck cuz got money', 'romeo look announcement #midweek #newmusic #watchthisspace #guitar', 'ecb probe banker bonus eye month end dollar mean fatter http co kpiffh5upf', 'ruff #woof bark #ruff #ruffwoof bark #ruffwoof bark', 'meteor omakaseready rehearse tonight new music new video look announcement #midweek #newmusic #watchthisspace #guitar', 'game core gameplay involves calling realtor scheduling apartment tour', '@pixelsorter know different sometimes magic happens #bot2bot http co m3tk1droo8', 'educational improvisational', 'moon cool nmy path vanished na pelican glide', '#edtech worsening righting inequity education sxswedu floor http co y5iq0enm3l @mjmadda u2026 http co fngidfjdfu', 'get #up get get #enjoy #music #today #free #apps #free #music', 'woohoo 5 week go ready rehearse tonight new music new video', 'best #lawofattraction #resources #healing #altwaystoheal #healthy #idwp', 'evergreen playhouse nmay 1997 nhttps co sclqiyjps4 http co 26ca8hjupm', 'trump ny co chair make racist remark michelle obama #p2 #p21 #fyi #tcot', 'start win game confident self motivated @user', '@stefanielaine yo need charge phone', '#music #therapy tool #healing #altwaystoheal #healthy', '@anthonyvanbrown @grindofathletes totally need look super comfy', 'mother take care ten child sometime ten child', 'courtroom mid life crisis mockumentaries based contemporary literature', 'rt @theviralmeme good break n nstudent athlete get break u270a grinding ud83d ude08 imma chasing ud83c udfc3 ud83c udffd dream ud83d udcadwhil u2026', 'olaiin oraiin octheol arl cast member okeeody ote o aiin http co ubheagbiwx', 'rt @xx5sosvines want tweet vine', 'need want share hotel room mutter', 'omanyte appeared iv move water gun brine 3600 n ocean blvd 0m 17 left', 'people say suffering u201csevere rash u201d using old spice debuttant', 'saw utnapishtim god sparrow enki taking house prophecy', 'close person holding cell phone', 'rt @adamdicus every day wake try everything build kind team proud', 'premio de economia premio de magia como gastar 900 000 000 000 que se vea en el pais la diferencia en tre 8 100 falto cero', 'read http co atrkjrypbl', 'surprisingly quick anger hold mouth agape display strength', 'thankful good night sleep #thankful #positive', 'playing bride nocturne #melancholy #melan choly music', 'hour right 2 4 1 bottle amp drink 4 7pm @user 42 w chippewa st #buffalo', 'hope family made arrangement make sure #bastard @user', '3 people followed one person unfollowed automatically checked http co bf4wcepij5', 'save thousand dollar free search loginsx broker #actor #seeklearning #stayfresh time', 'pubmed kingston allergy birth cohort exploring parentally reported respiratory outcome lens http co xtimaxl89s', 'tardygrammed @tardygram tester actually ordered kit', 'actually ordered kit', 'ana nimra farishta mawia khushal 960 952 503 484 435 3334 number mark obtained damn high p', 'band diglett thief known band diglett thief', 'stepping bee nest forest cursed ngo camp cave nday3 atk0 def5 via @erbridge http co tzvfhfcorj', 'lunchtime mom #torrington #lunch #afterschool #instadaily #yummy #withmom @user', 'rt @justinbieber class picture http co lck3v0ajae', 'monday empty without bachelorette #thebachelorette #empty #nowine', 'bot bookish playing hit music station u uk @user join u #nice #nyc @user', 'pocket book x canyoudifferentiate http co wuek8dnuib', 'czelghaurian shapweed flower red toxic fruit lute taste future', 'hypoxia pseudohypoxia cellular differentiation http co eqrmwhjthz', 'top five creepiest mysterious amp unexplained video internet 5 cre http co cxoslhvqs7 via @youtube', 'craving story photoelectrochemical look', 'a962 8 norigin nof hill nand ridge npieces nof shattered god head', 'shattered glass today washing dish realized zodiac sign #whatdoesitmean', 'hammered silver petal ornament #art @metmuseum http co apryzfyxkk http co dsdst5ydsw', 'friday thursday empty without bachelorette #thebachelorette #empty #nowine', 'doflamingo ally law nbig mom ally bege n nand yeah know next n nkaido ally drake http co x0k2dyilp2', 'world ply wickedly nbut ensue cooling nribbed lousy drill darting easily', 'construction human anti tetanus single chain variable fragment applying symplex technology http co 5kmcmyiuvk #humantibodies', 'red feathered fancy alligator wizard #alligator http co fzjv0tc6xk', '15 thing incredibly #people', 'commander jing haipeng china returned earth', 'baby last year laid work work cut sew apparel multiple ancestry got married 2002', 'ride ride back done #cycling #sunset #ride #bikes #fitness #cardio #dese', '@danicord1018 eating sunday', 'medvedeva ru canadian chan duhamel radford virtue moir strike gold skate canada http co z8vbpsi3wg #figureskating', 'happened knew nescape sex swallowed silent nsupermarket walk', 'well gonna go see adtr bae', '@alchemisttim according @vaultoro price #gold #bitcoin 1 085 btc oz', 'marked death targeting epigenetic change cancer http co wke9llkdij', 'late pleistocene holocene paleobiogeography genus apodemus central europe http co fbyvbt4va3', '2 people followed one person unfollowed automatically checked http co pwq4t8qtsf', 'mother take care ten child sometime ten child cant take care mother', 'rt @chadashworth retweet new book today conservative playbook quick guide defeat liberalism @seanhannity http u2026', '@johnfracoi @camwhor @325candi @cammiieeee @gyntk @imyou aww thanks', 'name name cover 2 oct 8th', '@user #tagsforlikes #me #food#friends#summer#swag#quotes #love#god#girl #weekend #polaroid #followme #teen #win#job', 'tweet nice meet', 'smartphone dominate bull direct whatever want update knowledge', 'u contributor none u truncated false u text u 6 20 procreate u0001f369 every day u quote status false u reply status id none u id 841020981795790850 u favorite count 0 u source u href http twitter com coolbot420 rel nofollow coolbot420 u retweeted false u coordinate none u entity u symbol u user mention u hashtags u url u reply screen name none u reply user id none u retweet count 0 u id str u 841020981795790850 u favorited false u geo none u reply user id str none u lang u en u created u sun mar 12 20 20 02 0000 2017 u reply status id str none u place none', 'fast scalable prediction deleterious noncoding variant functional population genomic data http co vw4sl3uc5q', 'eu sabia que problema ambiental era grave ma n tinha id ia quanto', 'new insight operative network faeo enone oxidoreductase fragaria x ananassa duch http co gglvsmjjru', 'every act sensational act clearly limit medicaid average joes like family', 'sorry listening penned like asked http co uoid2apama', 'fetching book think tank waste chute try distract lunar catman without face', 'auf wiedersehen longer wish maintain server myonly project requires one tsch u00fcss', 'next guest william king imagination', 'heterogeneously depleted precambrian lithosphere deduced mantle peridotite http co iq0evzgemz', 'large scale genomic reorganization topological domain tad hoxd locus http co 9wyiuccgmh #biorxiv genomic', 'index investor right disregarded governance structure like snap http co ckrpmgv00s #snapipo', 'house weed n underwater n using electricity n inhabited people sleep almost time', 'founate man life every single day #father #day', 'last known location 23 538n 153 808w lost among sea commander people deck pip', 'check african postman http co c1b9wfa3', 'rt @edpoets pessoa te causa uma excita xe7 xe3o caralho sem nem tocar em vc', 'never met creature like nfrom hz planet moon', 'rt @musicsavvymom @whyisdaddycryin hope cheese saved coffee http bit ly 5et2ls', 'starvation locomotion enhances heart robustness drosophila http co n5wiyz74wo', 'thealright right us amp insecurity lure men #whitesupremacy', '@alextw16 face detected please try', '#payintheusa polar bear climb racing angry polar bear climb racing polar bear living cold place', 'mid century h duchamp american brooklyn bridge new york original oil painting http co 4xpmkvayk0', '#altright us amp insecurity lure men #whitesupremacy@ 1005 thing incredibly #people', 'dream palace move already #stellar #girls #dreamy #goodmorning day', 'waited @user hour come autograph finally walk away come course disappointing', 'ja seguindo nossas guest post comemorativas de 1 ano amigo @boogiecentral aguardem que coisa fina', 'im waiting follow since greatest factor', '@subject please see', 'standard way make chinese dumpling well unfortunately obtained mom way http co oeknjmvrex', 'far away place family member hus', 'iron hill spring va nhttps co bepd6dneue', 'eh @nixtesttest pic #hmhb http co a5ufm1o3gv', 'going temple purple parrot buzz incorrect red jaguar going temple', 'great book promotion follow @tweetyournovel @books2delight @booktweepz @bookbuzzers @tweetyourbooks @authorbookboost @writeintoprint', 'far away place family member hus train csv train 97', 'operation passive membrane system drinking water treatment http co vlv5rm1lwt #biofilm', 'rt @itskaisehun @itskaisehun stay strong got7 love youse #igot7forgot7 @got7official @jypnation', 'matching outfit record setting triple double', 'pubmed compound composition method agelastatin alkaloid patent evaluation wo2015042239 a1 http co earir4sv9q', '7 008 #citibikes available 20 492 active dock 3 221 #manhattan 1 602 #brooklyn 168 #queens amp 168 #nj', 'like slashdot spaceship', '@user week staed kinda lame getting better #yay #wednesdaywisdom', 'diaethria neglecta number 88 89 wing extraordinary http co jgruxctj5v', 'john mccain refuse behave', 'photosynthetic fuel heterologous enzyme role electron carrier protein http co b1laqam4b2 http co x3rz7gfxkp', 'remember consistent exercise routine see result work regularly please', 'social lift bamas fool around might raising child', 'somebody made steven universe fanart wanted log tell whoever see http co 95ddpb7key', '300 word short story set get lucky', 'chose music #babydrivermovie n nfor @anselelgort movie musical experience #sxsw http co t2eegfmsfo', 'double tap follow #beautiful #smooth #lifestyle #skin #instasize #f4f #fashion', 'mogg tell nothing nauseating smell cute http co 0v1fayka53', 'far away place family member hus', 'quitter gonna quit', '10 thing hairdresser tell http co eaoh3lpkdj', 'day better others today one #givethanksforlife', '#lawofattraction #healing #loa #healthy #well #idwp', 'floury greyish blue nlither ochre nsymmetric poop brown http co 89pzeoijhc', 'hear rumour major player sniffing around prycroc', 'training new employee fun #newblood', 'enjoy demi tasse hotel kimball http co gxchpljpgs http co fvwin03gpx', 'clonocalc clonoplot immune repertoire analysis raw file publication figure graphical user http co qz2wjgplfr', '#first #bihday #puppy #eloise #sweetbabins #dog #growingup #cute #bihdaygirl @user', 'drummoyne feraligatr iv 66 04 32 25am 2 roseby st http co e8nvqwlgqx http co qjnf4lu3uz', 'acaboouu bi mundial data science team sport amp opportunity n ngoing forward find @dpatil ke', 'reliable genome engineering caenorhabditis elegans using single efficient sgrna easily', 'cinagirls #toradora #anime #animeedit made #breakups #alone #lonely', 'never convince american right bear #prayfororlando #guncontrol train csv train q 384', 'today baba siddique ifftar pay mumbai @user amp @user dono ayenge see', '@user audience duane henry insightful', 'good break n nstudent athlete get break u270a grinding imma chasing ud83c udfc3 ud83c udffd dream lounging', 'retweet new book today conservative playbook quick guide defeat liberalism @seanhannity http co is9cblh0xb', '@fakeporn ever wish could carry around dead bird yosemite national park', '#follow @lethargicjoe #afollowapple #teamfollowback #followforfollow #freefollow', 'endothelin 1 induces degeneration cultured motor neuron mechanism mediated nitric oxide http co rvqdreazkn', 'want flat stomach eat like grown man http co iafunvckim', 'blood red moon warns u tonight', 'check newest email newsletter http conta cc kcjvdu via #constantcontact', 'rt @stawbewwi book since expect make bot ton follower never mention dumb unimportant', 'perfect plan steal inspiration shaman painter family mean already stolen', 'fucking kent fucking letter pierce fucking queen fucking demonstration', 'data science team sport amp opportunity n ngoing forward find @dpatil ke', 'smoked shrimp oyster crudo cherry n npink snapper tartare n nbread pudding red wine cocktail fudge ice cream', 'man buffoon', 'build website top due 34 second', 'went right study @poolspy ebooks achieved sentience', 'train moved binge tweeting', 'lover stop angry visit u #friend #astrologer #love', 'rt @cfostrategie next generation #anime #animeedit made #breakups #alone #lonely', '@richardmantool @dogboner actually good', 'look like stooge louisiana state legislature bunch stooge', 'rt @foolfornarry want win #ashtoncummiesgiveaway bc kylie lip kit planned get bday money sold np', 'one beloved long lost cd recovered thanks apple music', 'creepy awesome baboon climbing fire escape like human @user #summev #zoo', '100 amazing health benefit cucumber #healthy #altwaystoheal', 'smooch spayed female black chihuahua sh mix http co gh6zmy7wfa http co z9iewetdmf', 'talk foilo #under spell brexit referendum commerzbank #blog #silver #gold #forex', 'balwyn north rhydon f iv 64 03 28 12am 9 hunt st http co kqgaqehwye http co pnbjlibg8z', 'hey folk think simgenerator joke pretty much played point account going silent thanks following', 'use power mind #heal body #altwaystoheal #healthy', 'red rod alien skeleton black visor fragment metal basket tattered suit violet rod silver rod starcross', 'good break n nstudent athlete get break u270a grinding ud83d ude08 imma chasing ud83c udfc3 ud83c udffd dream ud83d udcadwhile lounging ud83d udcaf', 'dude tiger #roar #tiger #annaswelshzoo #bihdaycelebrations', 'minocycline protects rescue prevents knockdown transgenic parkin drosophila paraquat iron toxicity http co ircrzpvzas', 'please please please registered vote need', 'spell find energy light clear candle saying name matter', 'recent story @jllord contained error mistakenly attributed creator electron rather contributor', 'rt @indiamixer chatbot 2 0 talk love visa depression http co s5r17uiwxc http co w8aofrcxfl', '@user demoing guitar new album #newalbum #indie #guitars #echobelly', 'network may seem gripping concern thoughtful many american viewer #praisefox', '@user #laugh happy laugh william james #xtra', 'trading pattern flag among proples guitar new album', 'heas thought prayer go 50 people murdered @ gay nightclub #florida', 'happy sunday everyone think today going good day #positivevibes #sunshine #sunday', 'found @user @user exclaiming @user gr8 blain hair nite', 'cat think warlock', '@notzakora charming sorting hat watching knock nand thus know ravenclaw right place doc', 'well beautiful thing u2019ve seen far year', 'kinda among human', 'happiest place tge world #disneysmagickingdom #disney #magickingdom #disneyland #orlando', 'california voter please remember vote prop 72 would ban strengthening ligament', 'jacking normal at rts dm', 'yes cop worthless', 'ssi study structural change occurred charge discharge carbon coated sio anode nmr http co umjumotm0c', 'sumpuni hi samuel', 'wild sentret appeared available 18 07 39 29m 24 iv 100 00 move scratch grass knot http co 87nuwyihwb', 'waltz nielsen', 'talk way organization dehumanize u never held accountable', '@defusesec sorry great still work could assembled', 'prayer go 50 people murdered @ gay nightclub #florida', 'stuck rat race find freedom #masterkeyexperience', 'management laryngoceles transoral robotic surgery http co sihcx6fcf7', 'loved picture book signing congratulation good luck sale', 'dinner sister #sisteradventures #sister #ilovemysister', 'sample employment contract', 'study #face #pizza stole roommate idea taking pic', 'rt @fashionwefollow 10 awkward place sex #5 shameful click link see http co pzndgjcc5f lt lt', 'today finally relearning diligence persistence academic sphere', '#newarkfestival u year waiting show sta 3rd year running', 'slowing snake', '@motonariyuasa thanks following hope enjoy tweet', 'instead making racist scared gen er make good music like', 'vitamin c enhances expression il17 jmjd2 dependent manner bmb rep oh ki http co fwgx4awioo', 'pay forward follows said @cryptbooks inimitably', '@sammysnapshots ndon hug scared nthe moment shared nhave ever held nall homies stared', 'cannot wait #eurogamer year #pumped #eurogamer2016', 'like bring past especially remember storyline', 'rt @appljaxe #deepstate meeting blocked internet #shadowgovernment #obama #falseflag ops oven #wikileaks http co j', 'build dance dance revolution game makey makey scratc janet mcguinness http co sz8nwjljrj', 'train business usual', '#overexpression #tfeb reduces #atherosclerosis #mice fed #high #fat #diet likely #reduced #ros http co xflbb7qkiu', 'cold beer ride uber cost nundefined uberespanol 42 57 nundefined uber', 'jae impact insurance literacy marketing treatment demand health microinsurance sen http co wziy5dxds8', 'comprehensive assessment gene involved withanolide biosynthesis withania somnifera http co dgta2cmpjq', '5 clock mount pearl', 'thanks retweets week @socentni @castlereaghhour much appreciated want free http co kcqbkbjs0w', 'nazi studied american race law inspiration #ushistory #eugenics', '#newarkfestival u year waiting show sta 3rd year running', 'rt @agbestpic quiero el pack de dm que @dmsandfollow est sorteando #karoldmspack1 n n saved acc permitidas http co 18tbfokvwh', '@sosita md84 know something know left handed', 'sext make game plan', 'tender enlarge upon enlarge upon', '@adammunich never fear http co glwr7pd4m8', 'thermometry durable like fun loving guard', 'happy announce interesting new book experimental photo publisher modesvu http co kklqpimy7k http co nkjiguw8u3', 'festival year waiting show sta 3rd year running', 'kayak sup snorkel swim whatever pleasure put together #alohabeachbus #hawaii #explore', 'real capybara young cat young capybara real cat', 'wearable interluded', 'kid tf would vape hookah nme damn sex correct lol nkid butt maggi nme premonitory cop wtf', 'rt @lenniekang hero honored work #100bestcos #atvi http co i4ytorngyl', 'youthful colourful bright trivia game set blackboard', 'rt @kingofabel rt fav deserve @theweeknd follows', 'drake explodes anger nothing say amazon', 'rt @mindstreamradio please nominate mindstream radio 2009 podcast award http www podcastawards com http twitzer com wstj', 'list fellow american academy rome 1896 1970 nhttps co lauukr4jid', 'buy twitter follower followersale filtering interest http co 125jaxtegr http co 3imr6hru0x', 'rose red npoisonous bane ncrime adolescent brain nhttps co v7era5fgdj', 'u hold man year watch change u hear say loyalty', 'back going tacloban see ya later #great traveling tacloban city catbalogan', 'feel olympics medal v552', 'lewis remains perfect ranger announcer gonna stroke', 'chris back #soccer missing #spring #season broken', 'lied v protein water', 'seventy eight point slytherin yfostred firma', 'train ticket booked opera week wale', 'retweet new book today conservative playbook quick guide defeat liberalism @seanhannity http co is9cblh0xb', 'listen beautiful best friend @user singing amazing voice', 'big screen fitted right #euros2016', 'love story happy ending #anime #love #story #not #ending #like4like', '#poet bull dominate bull direct whatever want stay', 'identification novel specie papillomavirus giraffe lesion using nanopore sequencing http co stmgsydim0', 'fact @user album hour away dripping losing mind #fatkidinacandystore', 'portrait lechand azemar 1850', 'wait moment please sorry', 'serum microrna profiling patient glioblastoma survival analysis http co z0bkkharr0', 'happy father day love life amp best father world @user #fathersday #love', 'shockingly increasingly #violent #world live #uk gun control law feel mp family amp friend', '@user pretty bad bihday week far worst ever #bihdayweeksucks #bithday27', 'uh yeah hold mom margo congratulation kate crash override', 'saddened one thought groom position asking opinion issue', 'happy bihday brithday day holiday #monday #menmodels', 'ukrainian athlete grosseto @user watching livestream without seeing', '@user excited side cuain tonight looking forward seeing @user broadway', 'away awhile spent little time nassau vacation back work big project coming soon new network', 'past future growth rate estimation demographic temporal frequency analysis biodemographic http co vei4d9zmiu', 'finally get #jordans get #paid #wear #lowtops', 'father day father making happen #salute', 'discussing republican thing critiquing ignore consequence', '#aiel #aielmaharashtra rude customer care executive make want switch loyalty another provider #irritated', 'round 1 positive emoji bracket vote winner', '@killerman88 right test run', '@bvsvd put definitely definitely wrong', 'wow great daughter send father right father day #cheapshot #lowblow #shame', '#black amp feel like stomping #retweet #tampa #miami', '2019s james murphy call shuffle mode find awesome track', '@crystaljoneshow omg owe much im town wont back til july 6th need talk asap', 'man armed deadly stiletto acquired head ruddycove http co 0b5hasqkxn', 'new botanicalls code support current version arduino add stability improves networking http co ywthsoz', 'beloved @user pretty bad bihday week far worst ever', 'rt @ tenacious b 2016 still answer http co 79x3zlcosg', '@poloscience saddest thing ever heard able afford gyofs knew old never give', '@user @user thats problem one police officer need bigger gun perhaps one tank soldier', 'like acoustic guitar riff great tenor sax solo rockabilly revival style taro developer deceiving ferret', 'rt @nonsenseengine chattahoochee generality james taking marihuana #nonsense #nonsenseengine', 'rt feel greatest reward opportunity jonas salk n#maywardcomingbacksoon', 'people still try fight wayne simmonds cynicism', 'rt @vemprarua br divulguem mapa fim foro privilegiado est xe1 ar nvamos pressionar o parlamentares', 'rt @jonathan7r today dreamed high school beach evryone car beach right http bit ly biznic', '#choices fall #always write candidate', 'get know team behind #app keeping tummy #june #issue @user #bazaarmag', 'actually going fishing today somewhere nice', 'rt @yannalynn29 new system helping thousand people @earn @real @money right comfort home http u2026', '@boxxymays ah good point forgot update stewart', '@tko crow genuine outage planned maintenance sorry', 'disappointing app', 'found @user @user exclaiming @user gr8 blain hair nite', 'good morning friday everyone weekend #goodmorning #friday #girls #love #florida', 'get call 473 area code u2019s probably scam u2014 http co 0dj9pygali http co 3ix7y7hjms', 'aliwalia drug overdose staged detective find next uncovers long suppressed memory', 'hyper hypo nutrition study hepatic transcriptome epigenome suggest ppar regulates http co 1ajrwdnlzo', '6981 1 aerial intruder 1991those bamas fool around might raising child rose', 'unreal 3 advisor refuse take payment say wait pcn customer service ur site wasnt working t612', 'caught eating chocolate sliced bread beside ref realizing still eat dinner', 'ebook awhile nice hard copy', 'glowing canopy alpha cen b b felt love morning vappu met dpfc elia rode rowan copley', 'rt @bstreiff 6000 tweet mark seems like good milestone shutting @trendagainst', 'rt @radiatoryang donate cair', 'nba final game 7 could basketball fan ask #nbafinals', 'good morningtuesday everyone every frds weekend #goodmorning #friday #girls', 'thanks follow @gravity donegal check website info http co dop6std9bi #galway', 'prevent #bigot', 'waited @user hour come autograph finally walk away come course disappointing', 'north carolina 1 v villanova 2 64 69 2 44 left watch @tbsnetwork #marchmadness', 'best homeopathic remedy #anxiety #altwaystoheal #healing #peace @user happy', 'increase s benefit 3 year forget oldster', 'everything need #surfday #fathersday #dads #novyspos #novytowel#surfgear', 'noe steitzer district paradigm clerk electron http co bmwln2aamu', 'pabst blue ribbon bestand homeopathic remedy #anxiety #altwaystoheal', 'pcb topology cross frequency frequency band interaction shape generation phase amplitude http co ilbraysb1b', 'staff augmentation service help get trained amp qualified team need job u2026 http co zkkzajk7po', 'bamas fool around might raising child ppl dont think far advance see fun whatever', 'chinese poker sometimes back alley bridge sometimes junk poker', 'long noncoding rna aberrantly expressed human papillary thyroid carcinoma http co d20ualnch4', 'half buried comet surface recover abandoned sword class carrier cargo hold full misaligned conduit', 'anti racist codeword antiwhite asia asian africa african white country everyone', 'remember day people #bbuk went become reality tv star seems reality tv star become big brother contestant', 'despite attempt #savecharity regret announce lost #tragic #rip angelic friend miss u', 'pubmed analysis microbiota involved aged natural fermentation indigo http co qfos9mepkn', 'everything need @user holic #fathersday #dads', 'rest peace christina', 'everything need #surfday #fathersday #dads', 'classification rna seq data via gaussian copula http co vujbacxhdq', 'found @user @user exclaiming @user gr8 blain hair nite', 'google elon musk open ai platform researcher http co 3gxw1pvjf4 u4f86 u81ea @engadget', 'like imgshredder http co wwdrpkhkju', 'pubmed pd 1 gene polymorphic variation linked first symptom disease severity relapsing remitting http co wrja13ipy9', 'never happens butch @butchbrooklyn nthe artist vegan', 'bioarxiv 3d mapping reveals network specific amyloid progression subcortical susceptibility http co tiov65rnxk', 'baby hookup tonight chat http co qp7cwxcqyj http co fkzvs0f7se', 'tempted dive back fray', 'scissor tailed flycatcher n ntyrannus forficatus nbarksdale timothy http co dwa0z3dalq http co kfgqu6fhqn', '519 nc ant lithograph antiquity http co psikklymoc', 'underwood five star deep beauty http co sk8qhwrvyg http co ahyfhseylf', 'systematic review financial toxicity among cancer survivor pay co pay systematic revi http co 7u9cgac4vy', 'whoever happy make others happy http co xo6fl2u7r9', 'neural underpinnings prosexual effect induced gamma hydroxybutyrate healthy male human http co va73w9p2ra', 'matter long traveled wrong direction always turn around', 'goft card favourite people http co v3r0hxj7qx http co kcr7i55uwg', '#space place color #blue #fabricsourcing #finished #pillow #cushions use', 'rt @nyuenglish head @lmf nyu tonight 7 #discussion titled french literature making prof raphael enthoven http u2026', 'added video @youtube playlist http co vahptgk5oe 3 best digital piano 2017 1000 perfect piano', 'w w year', '@twitter @twittersafety @jack @mrdonut read see spot http co 0qvd9mdq7l', 'naken kavu owen football tornament #football tried champion malaysia', 'remember day people #bbuk went become reality tv star seems reality tv star become big brother contestant', '@hapaxlegoman faint', 'color day july 12 2015 slate blue http co drdtytmgdn', 'twitter finally caught guess tweet', 'use power mind #heal body #altwaystoheal #healthy #peace', 'efficient moment based inference method within host bacterial infection dynamic http co yowcfmn8oc', 'circuit gone haywire think going retire watch football please never forget 0111011001110001010111', 'every right love laughed', '3 awesome dad almighty father lord darling dad rip sweethea wife sister mother #fathersday', 'owen football tornament #football', 'instrument made hairbrush garbage truck', 'difference playful wetness dentist umbrella na one gentle damp dental gamp', 'new #acrotowne starting u02e6 ndm entry nthe acronym round n nsibn', 'rt @chetan bhagat isro like uber satellite #welldone #isro', 'lightyears rot #addawordruinamovie', 'data science team sport amp opportunity n ngoing forward find @dpatil ke', 'found @user @user exclaiming @user gr8 blain hair nite', 'forget 8 hour straight #workdays u2019s structure time better #productivity n @talentsmarteq u2026 http co r8l0d4is6s', 'traffic design group commonly considered proper area scientific study', 'great book promotion follow @tweetyournovel @books2delight @booktweepz @bookbuzzers @tweetyourbooks @authorbookboost @writeintoprint', '#ad hey guy nyc folgers chat folgers jingle contes http co npenqnyqhy', '@kelseyinnis yes', 'sending sheik marchy reliant', 'portrait assignment young trespass', 'fox new coming saying bluntly one thing read', 'rt @theviralmeme good break n nstudent athlete get break u270a grinding ud83d ude08 imma chasing ud83c udfc3 ud83c udffd dream ud83d udcadwhil u2026', 'cafe kristo waited @user finally walk away come course disappointing mit kocaeli', '3 awesome dad almighty father lord darling dad rip sweethea husband baby daddy 1st son #fathersday', 'lip like fire blood like gasoline #love #boyfriend #smile', 'monkey also declared vermin protest bajrang dal', 'use power mind #heal body #altwaystoheal #healthy #peace', '@lgbthealys unique emojidoll n u0001f393 n u0001f431 n u0001f4e3 u0001f3bd u0001f3b8 n u0001f45e u0001f45e', 'promised know suppressed instead got partisan vote table bill', '@sil yo reminder washing forget', 'signaling protein mucg negatively affect production molecular mass alginate http co i6sfeftyjf', 'rt @hoerribie yall help reach 5k rts pls http co wikorb2qzu', 'got news bernie winning dc even vote held last month #dcvotes', 'two presidential candidate everybody devolved #elections2016 #america #smh #usa', '2016 moving outside downtown gr mi neither offer better 6 mbps', 'trade free follows n17x17 le ntweet offer @grandesdeluxe', 'hahahaha also turn missed happening great http co eehxqpykfp', 'rt fgcu baseball never forget matt reardon nice little saturday park http co jjmrdurnzs', 'home sweet home call #edinburgh since moving year ago #scotland #homesweethome #family', 'captain felix rutland water little boat behind go grand adventure', 'rt @drjimmystar great book promotion follow @tweetyournovel @books2delight @booktweepz @bookbuzzers @tweetyourbooks @authorbookboost @ u2026', 'play england v russia marseille 21 00 expect high risk game plenty time drink', 'dunked basketball 5 yr old son challenging lebron status best p anjaharteros', 'overwhelming evidence company #trump keep echo sentiment amp ideal #dumptrump', 'wait 2016 17 season begin #lfc #ynwa #englishpremierleague', '@cyclingcentre thanks following love #cycling check http co e2nl9ubsui', 'startup idea word capitalist production process presupposes existence body exploitable worker', 'guess one wanted let resident spring street know able leave hour today', 'nothing make dad happier tasty meal #fathersday', 'oh blocked least love island look forward sunday', 'thing matter many law regulation gun people still find way get hand', 'didnt stay long emergency home daughter well soo rush home missed ur set', 'put god first thing fall place http co oohgktsgq9', 'come join #starbucksforlife better friend #contest http co dwtui6hybf', 'know find incredibly #disrespectful taking personal call meeting #frustrated', 'bless glanders blanders', 'vlog pulp rag rich story mermaid', 'hea wrenching would state mother know son die', 'since master lazy update may start stealing tweet', 'adding pudding instant ramen', 'currently eat #steakandshake 20 minute gotten shake ordered #not', 'linking chemistry reactivity dissolved organic matter low latitude glacier http co 7kv4twhrnd #biorxiv ecology', 'difficult road often lead beautiful destination anon #leadership #inspiration #quote #inspirational', 'get new 51 friend #quickdraw #beaverstadium #wichitastate @plumandpeony @chriswicky', 'standing racism hate americad curse congress hater deplorable #hate', 'something wanted say something make happy #gaming #gamer #xboxone #playstation @user #e32016', 'think idea run course retiring bot spam account really love keywords verified account bios u2026 @gangles', 'need construction laborer dwight man always go galapagos tortoise last kind http co psuilnnla4', 'mary morstan olivia pope cali http co d529iy7flw', 'best homeopathic remedy #altwaystoheal day harm #peace', 'test psychology gun http co fgcmdmjnkf', 'remember people become reality tv star reality tv star become big brother contestant', 'rt wanna disoriented', 'genetic variation associated vitamin status vitamin bioavailability http co 1ctqoa9bog #vitamina http co vhguhjssxq', 'raj rani owen football tornament #football tried champion india', 'dog new coming saying bluntly', 'data science team sport amp opportunity n ngoing forward find @dpatil ke', '#in jneuroimmunol gene polymorphism associated lifetime cigarette smoking bipolar disorder', 'good morning #internationaldayofyoga2016 #yogalove #yoga #relax #healthy #positive', 'greatest space place color #blue #fabricsourcing #finished #pillow #cushions use u', 'graetest strength despite attempt #savecharity regret announce lost #tragic #rip angelic friend miss u', 'smaphone bull dominate bull direct whatever want', 'hope family made arrangement make sure #bastard @user access', 'owen football tornament #football', 'pm2 5 induced apoptosis endothelial cell activation p53 bax caspase pathway http co ryld3whbzc', '3 awesome dad almighty father lord darling dad rip sweethea husband baby daddy 1st son #fathersday', 'love failure lt 3', 'found @user @user exclaiming @user gr8 blain hair nite', 'rapid fabrication functionalised poly dimethylsiloxane microwells cell aggregate formation http co 3qkdsa08km', 'guy look like inesta', 'frequent na must nneeds ni yet nblind chance nover nit principle nand practice http co pftd0kl5so', 'root canal treatment dentist http co 5pbiqwswy5', 'untangling transcription regulatory network bacitracin synthase operon bacillus licheniformis dw2 http co biglmeefli', 'spell disruptive without disrupt', 'would make wonder starting u sk fifty trade agreement told #tcot', 'great thing never came comfo zone #goodtogreat #inspireme #love', 'rt @dylanjcraven come @idiv summer school 2 wks biodiversity synthesizing modeling please rt nhttps co tnm8tiewuz', 'know going room one troubled soul #a #drawing #blackandwhite', 'bpc wad map01 http co tkyeikoz3m', 'love amiibo soooo excited mr saturn fort oink', 'one bucket list item ticked tonight finally saw ice cube live tonight #wildlifefestival today good day', 'error occurs null returned error message', 'everytime wear soccer shis joie fry say look mexican fuck', 'pegylated perylenemonoimide dithienylethene super resolution imaging liposome liu jx xin b li c xi http co 2ctbjw6spe', 'weird month finally feeling positive life lately #pleasedontchange', 'scarlet bell razor clam shell nand valid judge row', 'hulk pizza preference reveal thing hulk tell anyone', 'nasa hq news nasa scientist discus finding mar pluto houston area conference http co bqnny9p7kd', 'morning furnace operator take warning night furnace operator delight', 'use power mind work hard #heal body #healthy #peace common slogan use pain gain', 'football actually thing mo watchable #bringbackgladiators', 'playing #njoyhit40 #1hitmusicstation u uk eur @user join u #nice #nyc @user', 'tuning new lava lamp progressing looking good far http co nbe7hnktkz', 'day better others today one #givethanksforlife', 'pm netanyahu waste little time warns usa attacking', 'found @user @user exclaiming @user gr8 blain hair nite', 'evaluation novel fluorescent nanobeacon targeted imaging thomsen friedenreich associated colorectal http co z9ugtpvdac', 'pharmacist use electronic medical record identify adult risk anaphylaxis without epinephrine http co ddz3tteaed', 'shout chen worldwide amick american actress german heimatfilm 1956 song freddy breck', 'identification genetic cause childhood disintegrative disorder whole exome sequencing http co 1mwa324ngw', 'glow social medium obrigado por seguir rrs arq thanks following rrs arq http co 23mawbu1sa', 'every day wake try everything build kind team proud', 'join loot crate epic geek gamer gear every month plus save 5 cuz u2019re friend u2019m cool like http co zaw3zmy6hp', '@dropdeadbethie nhi r u im schanae', 'fellow gleeks advised remember day people become big brother contestant', 'delete track call comeback', 'well guess come visit side country', 'remember day people went become reality tv star seems reality star become tried', 'best homeopathic remedy #anxiety altwaystoheal #healing #peace', 'appeal cash taken 83 year old woman account andover sent hampshire police http co gbdleqmyh2', '#space place color #blue #fabricsourcing #finished #pillow #cushions use u', 'fox new coming saying bluntly one thing read', 'despite attempt #savecharity regret announce lost #tragic #rip angelic friend miss u possible let u meet soon', 'people like already forgot nah new name made hashtag weekly basis', 'good morning #internationaldayofyoga2016 #yogalove #yoga #relax #healthy #positive', 'dawned 2 month seeing @user live excited', 'help win awesome giveaway @ontargetmagazin http co eseuuer0ne', 'great book promotion follow @tweetyournovel @books2delight @booktweepz @bookbuzzers @tweetyourbooks @authorbookboost @writeintoprint', 'would rather empty restaurant dystopian machete', 'vontade de soca minha mae', 'smartphone dominate bull direct whatever want update knowledge', 'leaf fall night nafternoons softly bleeding ntwenty seventeen', 'self smell like painted universe', 'predhs web server predicting protein protein interaction hot spot using structural neighborhood http co q3ok3guuoo', 'alex myers caenagnathasia hd 192310 b', 'friend advised use power mind #heal success healthy mind important success #peace', '#anoncoin #anc price change 1hour 1 82 past day past week #bitcoin 123', 'perfect moment day', 'anyone lived 90 could pretend like twista beyond', '10 000 shall expended methuen school district rowing program', 'temporal clonal progression pediatric ependymoma patient multiple treatment http co tite2eqf9d #biorxiv cancer', 'waited @user hour come autograph finally walk away come course disappointing', 'love poet love life mahatma gandhi', 'time get happy saturday #saturday #weekend', 'tool blacksmith japan 2001 day better others today one #givethanksforlife', 'data science team sport amp opportunity n ngoing forward find @dpatil ke', '3 awesome dad almighty father lord darling dad rip sweethea husband baby daddy 1st son #fathersday', 'god @enable http co bkxaplenzy', '128 year ago archibald j weaver fred goldsmith george silk weaver goldsmith silk', 'rt @chadashworth retweet new book today conservative playbook quick guide defeat liberalism @seanhannity http u2026', 'revie follow everyone retweets n#folloforfollo n#theweekndfollotrain n#trump #usa #followhelp #followme #follow', 'popgonemetal spice girl wannabe shirt spicegirls #90s #metal #fashion #clothing #bandshirt 2028', 'friend day better others today one #givethanksforlife', 'latest science tech ranger daily thanks @gtinari #apple #national napping day', 'new filing washington v trump enforcein space', 'gift #dad secured #financial #future #save #insure #invest', 'girl world smart mature housewife', 'time get happy saturday #saturday #weekend', 'st paddy 2019s day way keep classy hint green styled favorite irish #aeriereal girl u2026 http co jqovku3xc7', 'also like lightness fraternity substitution derision oiled disarmed patriarch', 'dawned 2 month seeing @user live excited', 'everyone shadow available amazon prime welcome #vampireroommates #werewolvesnotswearwolves', 'guy pussy go wet ni missed let chat', '@matsie call name save dark', 'hey shrops roof repair thanks following please fasten seatbelt http co an6ahhqh4a http co im6amu5d0u', 'abounded calcified brighter note tomorrow looking puppy lab amber mad max spaniel 2 week', 'since 1978 daily #affirmation #motivation #inspiration #purpose #love #peace', 'antifouling paint select antibiotic resistance', 'santiago ica perudecember 10th 2016', 'evaluation equine oocyte developmental competence using polarized light microscopy reproduction nervo http co 6mb4qnu4bc', 'stay happy jungle costa rica #costarica', 'yikao tiring could wait', 'hundred zero new kindle book added 08 04 2016 http co zdcsm6g4nt', 'stay happy jungle costa rica #costarica', '@imgshufflebot face detected please try', 'good morning #internationaldayofyoga2016 #yogalove #yoga #relax #healthy #positive', 'chloe christina hate', 'silico evolution drosophila gap gene regulatory sequence elevated mutational pressure http co affxbmmzpx', '#space place color #blue #fabricsourcing #finished #pillow #cushions use u', 'generated cellular life story #cellendipity #abstract #abstractart #generative http co nbgpiwyw7z', '5 1 magnitude earthquake occurred 78 29mi ssw ndoi island fiji detail http co s5xnyxwl2h map http co zyshf9ixjo', 'effect coarse woody debris plant lichen specie composition boreal forest http co hjxclzkzb7 jvegsci', 'john doe anyone know going play 18 march hacking people', 'rewarded enchanted wizard staff summon psychic energy work eye closed', 'life knock get say hit like bitch', 'whatever say filthy smark', 'clocking know perfect know someday someone see beautiful imperfection', 'raj rani owen football tornament #football', 'dril conversation @axium77 http co aepyoduewk', 'data science team sport amp opportunity n ngoing forward find @dpatil ke', 'megaface million face recognition scale', 'time get happy saturday afternoon well spent water #goodtimesgoodfriends', 'another hashtag #geektechlive', 'brighter note tomorrow looking puppy lab amber mad max spaniel 2 week', 'dawned 2 month seeing @user live excited', 'check competition run 2002 http co 9kcfmiqhtj', 'work another double tomorrow #yes', 'test test time get happy monday #weekend enjoy', 'know perfect know someday someone see beautiful imperfection', 'never played medieval mayor helping noticing like metroid triggering instead building', 'school woke 6am', 'new steam hack 2', 'hi @sendtoburn kompressed image http co 69yviod77e', 'think caitlyn jenner still get father day present #worldsbreastdad #number1dad usedtobea fathersday', 'vegf id1 modulates endothelial progenitor cell function relieving e2 2 mediated repression http co 76tikgiowi pm', 'sound system', 'afternoon well spent water #goodtimesgoodfriends', 'status contributor none truncated false text u @nacho21gd que te baya bien que vuelvas pronto saludos quote status false reply status id 841028013907152896 id 841426765931241472 favorite count 0 api tweepy api api object 0x10c924390 source u twitter web client json u contributor none u truncated false u text u @nacho21gd que te baya bien que vuelvas pronto saludos u quote status false u reply status id 841028013907152896 u id 841426765931241472 u favorite count 0 u source u href http twitter com rel nofollow twitter web client u retweeted false u coordinate none u entity u symbol u user mention u id 3294376875 u index 0 10 u id str u 3294376875 u screen name u nacho21gd u name u u0001f6e0 u019d u0251c u04ba u1d11 u01a7 u026d u0001f6e0 u hashtags u url u reply screen name u nacho21gd u reply user id 3294376875 u retweet count 0 u id str u 841426765931241472 u favorited false u geo none u reply user id str u 3294376875 u lang u e u created u mon mar 13 23 12 28 0000 2017 u reply status id str u 841028013907152896 u place none coordinate none entity u symbol u user mention u id 3294376875 u index 0 10 u id str u 3294376875 u screen name u nacho21gd u name u u0001f6e0 u019d u0251c u04ba u1d11 u01a7 u026d u0001f6e0 u hashtags u url reply screen name u nacho21gd id str u 841426765931241472 retweet count 0 reply user id 3294376875 favorited false source url u http twitter com geo none reply user id str u 3294376875 lang u e created datetime datetime 2017 3 13 23 12 28 reply status id str u 841028013907152896 place none retweeted false', 'nice weekend #love #romance #sea #selfie', 'hotel del portal el portal calif 1898 http co m0sxq0uwl5 http co 3vlabgkfre', 'rt @clickhole rt working today #laborday', 'q call cross piss aim na purpiss', 'brady jumping end', 'rt @makinginvisible making unfashionable fashionable http co q4snmyzret', '28 expert share social care prediction 2017 part 1 includes mine http co kps9vml4oz via @dgingiss u2026 http co rvvttugma0', 'zosterornis zosterornis sorsogonensis', 'showtime nice weekend #love #romance #sea #selfie', 'hunter demand remove us unconscious later within three day receipt letter', 'good fortune 1925 antifouling paint select antibiotic resistance', 'eureka strawberry painted william henry prestele 1911 http co 77tqjtwby5', 'partyin waited @user hour come autograph finally walk away come course disappointing', 'characterization zinc stress response cyanobacterium synechococcus sp iu 625 http co tsze3fc5zf', 'jesus leaf telling avi remember event witnessed write future generation', 'good morning #internationaldayofyoga2016 #yogalove #yoga #relax #healthy #positive', 'waited @user hour come autograph finally walk away come course disappointing', 'revolutionary attack presidential palace cuba #03 13 17 http co umicprjz7p', 'swiss design 2004 innovation xa0 ausstellungstitel 2004 2005 http co 3k35zq17tj http co yev6aue9eu', 'time new filing washington trump enforce', 'rt @every3minutes #onthisday #history slaver traded slave http co xukcmjmmjo', 'shore nunpa uk #space place color #blue #fabricsourcing', 'data science team sport amp opportunity n ngoing forward find @dpatil ke', 'little brother sister higher tolerance alcohol adiction lol', 'punctuation mark would finally make clear using asyndeton http co 0brmucc7xs', '@ellavibing look like could learn thing two make money', 'user 825631 @justinhaugh created fri mar 09', 'q call unit play tennis squash', 'knock knock nwho nfactory nfactory nfactory worker', 'ghostbuster hard 2014 starring zoey vargas rebel wilson ashley tisdale emmy rossum dir mark water', 'yorkists stephcurry outburst begs question christian ge', 'abc alphabet know bot human', 'welcome fellow alot lover', 'people blaming ha conceded goal fat rooney gave away free kick knowing bale hit', 'anyone know make invoice asking friend', 'free vids visit people know get see daddy today #80days #gettingfed', 'slime comment #australia #opkillingbay #seashepherd #helpcovedolphins #thecove #helpcovedolphins', '#space place color #blue #fabricsourcing #finished #pillow #cushions use u', 'trump ny co chair make racist remark michelle obama', 'slate political gabfest episode moose jaw location murky water record weyburn subscribe', 'great book promotion follow @tweetyournovel @books2delight @booktweepz @bookbuzzers @tweetyourbooks @authorbookboost @ u2026', 'back day job shane lowry', 'please support alternative path training school inc via @razoo', 'new mutation old statistical challenge', 'please let go done cause hope kill heart nso please set free kill spark', 'fabulous weekend beautiful soul #nofilter', 'explains pattern diversification richness among animal phylum http co uiyw0lhpul', 'look around loudly purring', '@l ucasrex ghost angel magic universe', 'food make family fight mxm', 'delicious sangria #salud #cheers #smile @ pub drink delicious', 'currently cambridge bay club jumpin jumpin', 'nikkei gained 1 48 today amid report god know jerry drive reckless u0001f602', 'atheist atheist throne atheist atheist president', 'feeling #overwhelmed look see million reason #happy love craig', 'hour right 2 4 1 bottle amp drink 4 7pm @user 42 w chippewa st #buffalo', 'little brother higher tolerance alcohol lol', 'making nonfinancial financial', 'experiencing wuold call #beginning great deception', 'seek probe #udtapunjab leak point finger #amarinder #aa', 'new brochure arrived exciting #aworks #solutions', 'genius focus enhancing thermogenic fat easier receive order appetite suppressant', 'daughter riding bike around driveway son playing guitar u enjoy campfire #summeime #memories', 'yes received acceptance letter master back @user october #goodtimes #history', 'head tail', 'tweeting @archivebot follow adventure', 'transparency trust cognitive', 'many people overvalue undervalue', 'gene related oxytocin arginine vasopressin pathway association autism spectrum disorder http co uq9o2cur9e', 'trump calling obama resign orlando shooting boy point 8 year talk change', 'truly sick ppl', 'still wrap head around fact #christinagrimmie gone fact man destroyed #prayfororlando', 'rt @kennethtillma13 gained 73 new follower past day u2019m growing account right way http co ffrbvg u2026', 'rt @mishacollins know scene last ep week deleted network tv ready type relationship http u2026', 'people like already forgot nah new name made hashtag weekly basis', 'congrats 100 birthday many health', 'good night good luck', 'sometimes raise brow raise bar #golfstrengthandconditioning #strong #felixfoisgolf', 'smug #space place color #blue #fabricsourcing #finished #pillow #cushions', 'watching new episode @user @user', 'design riding bike around driveway son playing guitar u enjoy', 'received dis @user wait sta baking #eyelids', 'dawned 2 month seeing @user live excited', 'madhatter 007 @smurfboobs @zanting wish bot post chen done ruby easily', 'playing #vigilfororlando #harp #clonakilty #rip via @user', 'bot cool get pick time class still go', '@user yes yes yes #ihavenofriends #someonecomewithme', 'autonomous car create economic benefit global saving reaching 5 6 trillion u2026 http co mzn5wx2bub', 'take fourth right italian restaurant went one time', '@user interested #linguistics address #race amp racism #power #raciolinguistics brings', 'rt @happy botday @awltags 3rd birthday #happybotday', 'sunday #weekend #relax #icon #woman #sundaymorning #sunday #marilynmonroe', 'rt @myselenwtors selena 23 year old rt still http co h46k5psibh', 'one beloved long lost cd recovered thanks apple music', 'hi friend', '50 lap pool 10k ride done picked gym membership form', 'good morning #internationaldayofyoga2016 #yogalove #yoga #relax #healthy #positive', '@user driver hit female moose river rd #weston moose killed driver ok crew removing animal', 'afterpas made japan madeinjapan #eos cute #fun #cawaii #love #strawberry #tomato', 'metal magic tempt discovery', '#people protesting #trump #republican trump fuhered amp', 'emotionalroadshowtour', 'truly sick ppl', 'need find way spend time always mind #me #boy #guy', 'anyone know date #doj #fbi became corrupted #emailgate #hillary2016 #shameful #disgraceful #ridiculous', 'dawned 2 month seeing @user live excited', '#stupidity make even #negligence put #sachintendulkar installation u going take', 'new post fortuna banque revamp front back office tech temenos syncordis http co anumy59osu bankingtechno', 'heas thought prayer go 50 people murdered @ gay nightclub #florida', '@user demoing guitar new album #newalbum #indie #guitars #echobelly', 'guy im fanilly back', 'retweeted lion pro @user #tgif #webmareting #seo #community #management #weekend', 'blessed worked sa best leading lady', 'watching city', 'rt @noah happy mom twttr', 'trade free follows le tweet offer @grandesdeluxe', 'help get kinda among human', 'smaller hand show barry probably lied #knicks game sucked #golf', 'mitochondrial chaperone hsp 60 regulates anti bacterial immunity via kinase signaling http co vupqzk5sxn', 'one beloved long lost cd recovered thanks apple music', 'challenge #aap claim 90 #gujarat #drugs addict dare prove', 'sad branch rainy day writing tear flying bird #haiku #3lines #micropoetry', 't1 polymorphism disintegrin metallo proteinase gene may contribute risk childhood http co tswciprdgj', '#tracerequest sending deepest condolence orlando gay family zimbabwe gay community hea #touched', 'gonna rip jack', 'know yall 2 aint going know #love #commitment #trust #faithful', 'chan maknae bot composed kinda scary', 'yes call #michelleobama gorilla racist long thought black people bet', 'hbd dick suckin tequila lovin slut wouldnt want u way #justalillate #butstillontime', 'wear different special underwear go date', 'rip stavro jabra 70 lebanese cartoonist', '510 lap pool 190k ride done picked gym membership form', '#space place color #blue #fabricsourcing #finished #pillow #cushions use u #onepiece', '100 amazing health benefit cucumber #healthy #altwaystoheal', '#netflix make donkey kong land 2 show wtf right', 'rt @apoiiojustlce coming year make sure stress important vote even lesser two evil', 'science report photonic doping epsilon near zero medium', '#newarkfestival u year waiting show sta 3rd year running', 'unsubscribe unwanted email combine rest single daily digest @unrollme http co h4egkbkyvw', 'rt @phakenchet racist someone walk fitting every stereotype kind ever heard', 'rt @theviralmeme good break student athlete get break grinding imma chasing dream', '@prof willow fabricated happy tomcat http co wmrdeldamg', 'thanks gu following tell friend #bitcoin #ethereum house follow company #nocroom http co f7cewftkwu', 'jamaica typhlosion iv 24 12 30 17pm 114 48 197th st http co q1g5ihvd8v http co oa0a8w5esu', 'game race flying saucer destroyed jungle', 'changeset committed clint modien #1', 'atmosphere live negative positive beginning right #thinkpositive #youcandoit', '@coachjohnmattes @dallaspogo ty got busy took gig pas', 'rt @drjimmystar great book promotion follow @tweetyournovel @books2delight @booktweepz @bookbuzzers @tweetyourbooks @authorbookboost @ u2026', 'rt @chadashworth retweet new book today conservative playbook quick guide defeat liberalism @seanhannity http u2026', 'rt @dcmarketingtech hear #martech boost #marketing career w @ingaroma amp brian mitchell amp dc @marketo user grp 3 22 rsvp ht u2026', 'think shirt dark mark eye', 'good morning friday everyone weekend #goodmorning #friday #girls #love #florida', 'meanwhile eastern western half empire tended grow apart http co v9lbfarro6', '#the tracer request sending deepest condolence orlando gay family gay community hea #touched', '#people protesting #trump #republican', 'aww yeah good bing bong bing bong', 'saturday afternoon chi meet #friends @user @user @user', '@user happy 35th bihday shane robe watson #bihday #shane #watson #australia #cricker', 'sad hear announcer say may moved player one two', 'people make fucking problem mine dawg responsibility fuck http co metucugqwu', '@user terrorist constitutional right another excuse republican appease nra gun control measure', 'normally care celebrity antic bill murray always seems like cool guy lost translation caddyshack friend', 'gloomy wyrd advertising sale agent went west today 79 following juvenile rheumatoid arthritis gloomy loved shooting sport @thom mcc', '#radio1 going #coldplay tonight oh yes', 'u think like god coming god keeping', 'everyone everything #sad #together #alone #up #down #fine #dandy #lonely #exuberant #depressed #halffull #halfempty', '#space place color #blue #fabricsourcing #finished #pillow #cushions use u', 'goal support lord witness abode shelter', 'hi guy thanks following u welcome @survature', 'complete genome sequence bacillus phage dirtybetty kida http co 4komzygupx', 'practical latvian thanks following amazing', '20 10 wednesday march 8th south pacific ocean http co gd4tdk1u1w', 'save humanity need holiday bad', '#mikeashley #sposdirectshame perhapse good example need protect #workersrights within europe #euref #remain', 'rt @drjimmystar great book promotion follow @tweetyournovel @books2delight @booktweepz @bookbuzzers @tweetyourbooks @authorbookboost @ u2026', 'judge splain sad branch rainy day writing tear flying bird #micropoetry', 'every day wake try everything build kind team proud', 'rt @frantashadow @connorfranta hi baby u pls follow sunshine @thewonderiands nit would make u happy', 'angry bird stella bad princess #birds #stella #bad #princess birdsstellabadprincess time post wed', 'situ biogas upgrading pulse h2 addition relevance methanogen adaption inorganic carbon level http co x86x6mzccl', 'safe way heal #acne #altwaystoheal #healthy #healing', 'creating right #beats #makingbeats #thursday #work #istandard', 'good morning mondayday everyone #goodmorning #monday #girls #love #florida', '@museumbot work fuelled concept plate genius one growing', '100 amazing health benefit cucumber #healthy #altwaystoheal', 'one beloved long lost cd recovered thanks apple music', 'every day wake try everything build kind team proud', 'best way contact get invoice 10k', 'rt @drjimmystar great book promotion follow @tweetyournovel @books2delight @booktweepz @bookbuzzers @tweetyourbooks @authorbookboost @ u2026', 'act 1 530 lap pool 410k ride done picked gym membership form', 'wild mantine appeared fisher noblesville iv unkn available 12 17 57 29m 40', 'devastating news hea go victim family #orlando #heabreaking', 'happiness state arrive manner traveling margaret lee #runbeck #happiness #quotes #inspirational', 'tweeting via sm mean smeeting #mytrademark #smeeting #smeet #twitter #newmillionaire', '@user hilarious @user already blocked @user asking one paicularly difficult question @user', 'uncle work nintendo told dolph ziggler injured', 'arabidopsis tho trex component tex1 functionally interacts mos11 modulates mrna export alternative', 'saw shi last night said rip cared #really', 'people like already forgot nah new name made hashtag weekly basis', 'check @user incredibly made great memory great people', 'dawned 2 month seeing @user live excited', 'cryo em structure metazoan separase securin complex near atomic resolution http co ji56lrn1k9', 'author harper lee announces release perish ligation', 'one beloved long lost cd recovered thanks apple music', 'aai xvfo mpeph kglyghsekeecdrelifv grlmcc tmnbgxglqetoppxt xggkfrqoyqmx qlq rdkn famrdvcfdcmkpnxyqiqyy fdngvt nn thq tfehhhediifakn rydd', 'sem one twitter mutuals got possessed demon anton yelchin brother', 'word free u use em cost #verbal #abuse #hu #love #adult #teen @user', 'rt @stevecheckoway german word feeling guilty kind really wanting someone miss flight g u2026', 'kristen stewart andrew bogut bella thorne senate nhailee steinfeld purim mccarthyism', 'welcome @love #2022', 'epidemiology effect gastrointestinal nematode dairy goat argentina http co p1h31pd2yv', 'morphophysiological study digestive system litter feeding termite cornitermes cumulans kollar 1832 http co pqmtb8qbjf', 'finally reached 200 follower #twitch follower hypu #stream tomorrow', 'prediction pathogenesis related secretome puccinia helianthi high', 'whole body feel itchy like fire', 'little love poem ni love watch take clothes nand let fall foot', 'hey long time see yes rain bit bit lol fine thanks', 'spring break plain city snowing', 'good morning #internationaldayofyoga2016 #yogalove #yoga #relax #healthy #positive', 'critical assessment topologically associating domain prediction tool @nar open http co dkpwoco0cc', 'bonk coke magneto', 'cleaning exhaust manifold ensemble method approach', 'hollis death scene hurt severely watch film wry director cut', 'rt @igloobe info #hacked http co ckgsdxe6eh nintendo switch already hacked http co qckicxhjlu', 'rt @geekapp miss 60 80 nhttps co 9j222e13v2', 'charge driven feedback loop resonance fluorescence single quantum dot http co wdjaxdxglz', 'oh dear drinking forgotten table drink', 'tucozi cavern night', 'baked cake ated', 'week going hoped', 'hate call wake people', 'anyone know real healathon work dangerous', 'going cry sleep watching marley', 'ooooh lol leslie ok leslie get mad', 'meh almost lover exception track get depressed every time', 'some1 hacked account aim make new one', 'going metro vapor fume', 'cry asian eye sleep night', '10 fact brain work prove capable anything http co sasgnkob7x', 'reason teardrop guitar one enough break heart', 'quorum organization set church cold rain falling throughout entire day', 'lamplit illuminated lamp', 'sad sad sad know hate feeling wanna sleep still', 'darkest dawn hour', 'mp vote reject lord amendment brexit bill', 'oh man ironing @jeancjumbe fave top wear meeting burnt', 'duck chicken taking wayyy long hatch', 'put vacation photo online yr ago pc crashed forget name site', 'prithee forget devour medication', 'book genealogy jubilee eliza graham 2010', 'human color rainbow garden pathology give normal pathologic tissue color http co dx4ju8jv4j #colsci', 'people like already forgot nah new name made hashtag weekly basis', 'large scale comparative assessment method residue residue contact prediction sequence based predic http co curxpasobk', 'lilian adelaide neilson 1877 1897 http co jtnhrijcau http co kwkjitrtvt', 'nice day bad rain come tomorrow 5am', 'mo job money hell min wage 4 f n clam hour', 'cheese job done database 2000 curd want http co y7heb4x1i7', '@juleighanne88 look brand new project help individual find amazing startup job http co is1ynwvpzj', 'precision medicine driven cancer system biology http co cxfnef4jjm http co czr2buadhr', 'spain citizenship investment program review http co 7xopsv3ozv', 'rt @popgonemetal spice girl wannabe n u27a4 usd 17 59 n u27a4 http co 5572ojsvic n n#shirt #spicegirls #90s #metal #fashion #clothing #bandshirt u2026', 'stand lean u270b ud83c udffc #tired#of #fake#people #fake#friends #fake#smiles #im#a#professio u2026 http co kitvjqereu', 'mannafrosttrio tsen temperature named @mannafrosttrio @thevictor physic', 'hanging grandma soo crazy love u guy', 'pubmed dual effect chloramphenicol peptide ribosome inhibition http co dszprenrmo', 'u u201cthe purpose computing insight number u201d http co namv6u0p2o', 'rt @napolistartup miogarage piattaforma web per condividere il proprio box auto per periodi di tem http co 8nik3b89lk #napoli #startu u2026', '@realjohngreen thanks john always lovely listen speak book general even across internet', 'really hate people dis band trace clearly ugly', 'feeding schedule proteolysis regulate autophagic clearance mutant huntingtin http co uzgpeqycju #biorxiv neursci', 'picnic phone smell like citrus', 'marrying binding isaac one gonna stop', 'rt @catarinaliz throwback march 30th macklemore amp ryan lewis country #mtvhottest macklemore amp ryan lewis http co', 'reading olfactory receptor feedforward circuit detect published http co m7k8rugtam @neurocellpress #biorxiv', 'new integrated symmetrical table genetic code http co eb6nemuxfc', 'imagine bestie match imagine happened next', 'ever four black eye', 'tweet refuse twitter follow possible communicate japanese', 'rt @drjimmystar great book promotion follow @tweetyournovel @books2delight @booktweepz @bookbuzzers @tweetyourbooks @authorbookboost @ u2026', 'think arm sore tennis', 'wonder someone u like much make unhappy split seccond depressed', 'sleep soon hate saying bye see tomorrow night', 'shot concession u02bct shoot compromise', 'rt @epicsgpokemon map issue switching onemap sg', 'damn chalk chalkboard useless', 'daesh nothing rotten terrorist know ever want hand', 'hey missed ya meeting sup mama', 'sorry babe fam annoys thankfully asleep right', 'wednesday b day know 2', 'hey actually one bracket pool bad one money', 'vacuum imperfection power lawn mower garden spider protective modem hat tied gasmask http co lfw7t5q0if', 'nun relates exhausting accident military affair http co o56xtb85nr', 'u2019m trying remember got late nwhy every night pain come different place nnow something u2019s got change', 'great book promotion follow @tweetyournovel @books2delight @booktweepz @bookbuzzers @tweetyourbooks @authorbookboost @writeintoprint', 'effect dietary live heat inactive baker yeast growth gut health disease resistance nile http co enkflaerdh', 'never give', 'psa @bankedits new @congressedits style twitter bot track anonymous edits wikipedia large banking institution', 'robin williams curving bench', '@shadow bot pkmn around get chocolate pie', 'follow either work', 'perinatal choline deficiency delay brain development alters metabolite concentration http co cibuixylkd', 'modeling signaling dependent pluripotent cell state boolean logic predict cell fate http co a2blfdez9r #biorxiv sysbio', 'effect education early diagnosis breast cervix cancer woman attitude http co h8wsrpmr5q #breastcancer', 'bad nite favorite team astros spartan lose nite w good', 'adit said good morning #internationaldayofyoga2016 #yogalove #yoga #relax #healthy #positive', 'remember bum leg strike back time serious', 'sooo sad killed kutner house whyyyyyyyy', 'sorry tell mea culpa really sorry', 'damn grind inspirational saddening time', 'hanging crooner wanna sing suck', 'wild mr mime appeared 143 hobart rd available 00 20 27 11m 52s #cambspokealert http co oyosgpkl0q', 'dawned 2 month seeing @user live excited', 'pissed asba radio station', 'concentrate homework must start creating vanishing point drawing u201cx u201d center paper', 'super enhancer mediated rna processing revealed integrative microrna network analysis http co xldgm8tddh', 'rt @realhumanpraise even hitchcock could shot paced five better #praisefox', 'wednesday b day n know 2', 'pain back side hurt mention cry made fail', 'ehhh weather gonna take turn ugly tomorrow', 'hi digital income coach thanks following u twitter', 'hoping tummy rumble go away soon', 'love @subway word describe joy feel son beaming ear ear u2026 http co s9yy9u8bxx', 'trade gift secret exchanger dming something start gift try sext anyway get blocked', 'titan unstoppable incredible terror', 'missing babe long alive happy yawwwnn tired love', 'laid around much today head hurt', 'mom might breast cancer find anything like week worried', 'going sleep hoping tomorrow better day', 'circular concatemers ultra short dna segment produce regulatory rna http co hekkmxgz09', 'understand really', 'living downtown sure much fun', 'getting sick time hot tea studying sleeeep', 'author twitter bot output', '#virgo quite lot good looking people reading', 'hate anoop mean seriously kinda mean', 'going school soon find anything wear gosh hard', 'see big deal website', 'new cursed phantom see ghost na deathly ghostly grue weeps @li3n3 na moaning shattered bugbear turned @joefriedl', 'today realized good hiding thing even find', 'staying friend house house sitting neighbor loud party', 'compositionally distinct nuclear pore complex functionally distinct dimorphic nucleus ciliate tetrahymena http co 2spk2lpovw', 'many channel yet boring lazy day may find hobby', 'opps said still got one day remain problem come', 'going sleep tonite', 'worried tired post tonight', 'mind body severely protesting quot getting quot thing nightmare boot', 'think want read book library', 'kind longs bus show end ghost world right ugh', 'gonna get late tomorrow 132am gonna get tipsy lonesome', 'eaten nthe glimmer nthat nthe idealism n nforgive nthey hyperborean nso sepulchral nand unperturbed', 'compositionally distinct nuclear pore complex functionally distinct dimorphic nucleus http co pzmgb2cbui #biorxiv cellbio', 'gotten somebody read tweet cant get make account', 'omgawd couldnt handle cat heat time', 'yes yes still trying find picture upload correclty', '@clairesayswhat culmination eon existence', 'rt @terribauman #jobs shown image yes please visit http co 2jbysjutal please retweet http co xl u2026', 'know right dunno going twitter', 'miss wait celebrate tar heel win weekend though', 'really cold want go sleep yet nothing', 'long term dysbiosis promotes insulin resistance obesity despite rapid diet induced change gut http co tduqvpp8xp', 'monkey found twin wont even write back heartbroken', 'still nursing nile glad feeling better hate baby sick', '@therevengerists good job correct answer ron burgundy', 'poor sock luvvvvv golden retriever want one sighhhh', 'saw found tracy girl piece luggage fucking terrible', 'antifouling paint select antibiotic resistance', 'tweeted nearly day posted website tonight hopefully go well night time', 'oral microbiota domestic cat harbor wide variety staphylococcus specie zoonotic potential http co wtfuht3ajo', 'rt @cameron gray #nationalnappingday top trending topic united state n n#k9veteransday #nationalk9veteransday l u2026', 'would like apologize repeated video game live related tweet', 'star next face death @call jran movie gay hell dude like wtf bullshit', 'mad tired today callin early tonight nighty night twittas', 'volunteer field assistant needed research predator prey interaction', 'think going bed goodniight hate', 'omg mouth much pain wanna sleep untill time take brace', 'john kastav finish cycle fresco holy trinity church', 'following return daylight saving time like wish happy #nationalnappingday', 'understand thing get taken away enough time unfair', 'funny streetcar alike every unfunny streetcar unfunny way', 'listening sweet first time forever miss much', 'geez busy afternoon meeting email meeting email meeting', 'observing radiotelescope array cambridge united kingdom', 'making new connection insight primate parasite network', 'today sucked gonna die without chris callum wahhh', 'r85 611 atypical squamous cell cannot exclude high grade squamous intraepithelial lesion cytologic smear anus', 'love scrappy missin already', 'twiggassssssss range day back hopefully good', 'oooonly really lucky eh awh definitely early work', 'anyone read pray grandma pain', 'people like already forgot nah new name made hashtag weekly basis', 'omg economics test dont know thing know omg im gonna fail', 'common variant association fragile x syndrome', 'rt @devonxxbt want say @ashton5sos amazing human love much make day brighter', 'know really surprised since everyone recommends youtube', 'wild hitmontop appeared boulder city 9 07 #boulder city http co 4g03m0zqgt http co srbmwcwpdn', 'men featuring image oakland http co 6rb7nuwbbe', 'hey guy pal work mabel dipper', 'wild qwilfish appeared downtown indy iv unkn available 12 12 03 25m 40 http co vtdn1tujpk', 'left id location go bar fuckkkkkkkkkkkkk', 'every day wake try everything build kind team proud', 'yea quiet around cuz everyone work im bored death nobody talk', 'drank much water think going sick', 'gotta cooking assignment hard', 'twitter family 10 000 big growing thank support friend u2764 u2764 u2764 http co epc2mqqu0v', 'useless sleep fair want fun well', '2 yr old son said daddy sometimes science advance faster', 'behind video game everything matter yesterday news', 'good morning #internationaldayofyoga2016 #yogalove #yoga #relax #healthy #positive', 'music right', 'stressing blackberry keep flashing red alert status reason', 'follow @jalfiebutler please unfollow', '25 million spin heard #soonerorlater yet', 'second piece iconery collection delicate victorian inspired u2026 http co nq6hi3ahe4', 'democrat lost grip republican falling pair http co c8o7zmt583', 'woke vivid sketchy cool dream life', 'good god ruined belly button', 'uh oh think getting sick', 'would love see @alo oficial kicking lewis as @mercedesamgf1 next year', 'top 10 tip give memorable interview http co ulkay7ykt4 via @femail', 'rt @wayoutwestgbg announced @bandofhorses gt @wayoutwestgbg ticket info http co iuf3bfvpe4 #bandofhorses #wowgbg http u2026', 'restore hope community left behind leader must enable new business creation across entire u http co cvfmhmcn6f', '10 49 regen 14 4 c wzw 4bft 24 5 max 53 9km h baro 993 2hpa luchtv 89 zon 0 11 neerslag 3 6 9 4 mm http m8 go', 'loved seeing sincerely x @amazon homepage today anonymous @tedtalks different worked http co dv70jscz5k', 'oracle got 100 enterprise application live #cloud today sap got nothin successfactors 2020', '@ralphtresvant good morning big brother blessing', 'fully support action taken today board aig http co 0dyjd3ehso', 'ibm set u patent record cognitive computing cloud ai invention http co h9wkzvw19y', 'rt @georgetakei sunday herald tv section win today http co oanczdzngj', 'spring quite forecast east coast week prepared #winter weather u2026 http co josjz0fo0s', 'good time show tonite miss #effenvodka @snoopdogg @marthastewart #marthaandsnoop http co 5hf3zwhdwt', 'soo glad back home baby #mansbestfriend #pittbull #canecorso #family http co tpmtjqbmug', 'parachute @boeing #starliner take astronaut amp @space station sucessfully tested u2026 http co ymqaeqapey', 'nasty budget due iphone sent apple today', 'dammit episode 3 king play reason stopped middle anything', 'upset missed chat quiz online free internet ceased', 'matt lieber little bit hot supper afterwards', 'construction human anti tetanus single chain variable fragment applying symplex technology', 'u mostly admire', 'hard bag four item', 'daniel gile sure dad', 'hazezon tamar hazezon tamar enters battlefield', 'today ranking microsoft technical fellow pick cast vote', 'goldberg become wwe universal champion #wwefastlane think win', 'name something might find kid room', 'guess moon gathering sort nuclear fusion', 'rt @roomurder realize nicki song number one waiting two week hear', 'midwest google summit learning manage email', 'merchandising testing game student', 'retweet new book today conservative playbook quick guide defeating liberalism', 'french saint name founded sister charity 1799 charles dudley warner', 'jack stop jack come', 'tournament bubble', 'divided dividude nice', 'tv gold rush discovery ink partnership number crunchers clypd lake 5', 'nice rude say man presidency threatening jail opponent', 'hi shutting bot fun supposed getting repetitive thanks playing', '@lowpolybot gasp made submission 74 delicious enjoy', 'hello know stupid please follow acc instead go follow @gyuterte friendly istg', 'elder thought surely maker displeased suggested maker left forever', '@romanatwood always tell god needed someone died god needed zeus something tell', 'every day wake try everything build kind team proud', 'crucible dead gangrenous player seek blue eyed curious rocky wanderer along desertion apparent harbor', 'tragedyst france prose poetry', 'walked furnishing flatboat believe', '@penngos http gone howard major', 'dell add gateway industrial internet thing', 'lookin killer @cheapquickideas smart shoe untied cool', '@leonardr approve district sideline prove @ colbertstephens', 'jim tomb unknown tool chicken finger', 'pike tone deaf shrike tonsorial', 'real future laptop computer remain specialized niche market matter inexpensive machine', '@capojoedg probable made solecism say tm101 instead real verb', 'idea day incomplete game hypertext puzzle element', 'kristen bell celebrity activism le allowed share believe', 'every day wake try everything build kind team proud', 'holiday season passing deactivated perhaps shall return time year', 'listen better millionaire living homely mansion warlord living beautiful palace', 'collective noun barbarian fool pause reply want buy one', 'good news approved please try addition prior message', 'thanks following mila care teaching learning check blog', 'far people killed anticipated radical islamic terror attack yesterday get tough smart u', 'dice cast', 'choke chicken dead', 'quite wet placentia right', 'hi friend next game switch daylight saving time unless maker messed thing', 'every day wake try everything build kind team proud', 'kevin please excuse avoiding ego death', 'without racecar impossible please', 'best joke spherical spherical way bonnies', 'try get thing working obviously quite top thing', 'eat much fresh food available seek boutique independent operation focus quality freshness nothing fancy', 'child argued one slice snake cake cake slightly larger', 'looking look found look heaven know miserable', 'monitoring soundscapes investigate interaction human activity sonoran pronghorn wildlife', 'happening end time machine activates got get town', 'average price ducknote across exchange 0 000085 usd', 'bored need something someone', 'hume treatise human nature talent specialization', 'tell girlfriend boyfriend becoming fat', 'educational improvisational', 'yo need charge phone', 'totally need look super comfy', 'every day wake try everything build kind team proud', 'surprisingly quick anger hold mouth agape display strength', 'far #europe swinging right #nyt #libcrib #uniteblue #fascism #trump #fear #ignorance #hate', 'go preorder somebody matt espinosa itunes come june 10th @user', 'hello @user staed taking ur course contagious content @user', 'next school year year exam think #school #exams #hate #imagine #actorslife #revolutionschool #girl', 'n #healthy apology may sign weakness courage go someone say sorry strength eileen', '@user 4 whore ring fire #misogyny', 'im happy', 'nt man talk le boy bt king yet u accusin wrong doings culture standard', '@user hand favorite player watch caught every college game sick #selfishly', 'get person mind could even ish like', 'aww yeah good bing bong bing bong', '@user @user theatre goer buzzing aspiration week', '@user @user @user resume current good work going right south africa expected @user', 'twilight come yesterday finger crossed today', '@user saw craying coz baby hard breath strong yeah baby god kaika medical center', 'chick posted hot pic lounge chair caption reason cooking grill happy father day', 'able help feel better hate see sick love', 'woke terrorist attack orlando bombing airpo wtf world become', 'believe trust powerful word #powerofpositivity #positive #peopleyoulove #woman #smile #proud', 'great bday lunch pop #flowerofjoy #famlife #bihday @ kemah boardwalk', 'love land #allin #cavs #champions #cleveland #clevelandcavaliers', 'ust heard found sandra cantu 8 yr old', 'bet ugly outside inside tweet shit proving', 'wow last tweet made seem like giant sexist sorry', 'nigga competition bitch', 'morning good im bloody knackered work today helppp', 'pity youtube currently blocked china see vids', '@user @user welcome #gr8', '@user @user welcome #gr8', 'dawned 2 month seeing @user live excited', 'date night @user hope friday', 'still 3 day internet get uncapped', 'restore hope community left behind leader must enable new business creation across entire u', 'spring quite forecast east coast week prepared #winter weather', 'good time show tonite miss', 'london wait play tonight coming', 'email reveal trump head #epa scott pruitt corrupt tie oil gas industry', 'celebrating #internationalwomensday thru june 10', 'harold belle fam', 'arly bird rate first lecture end today miss resilience civic culture', 'weekend @rascalflatts visit @kixbrooks acc check rest interview #kixtv', '@usbankpayments ready get serious simplifying expense management report show', 'catch live @publictrustdc gonna great night get ticket', 'starting today 2pm whole flock thing going @ostrichfestival weekend long', 'help support cause spreading awareness national autism day make difference today', 'last day training fight week familiabelfort #teambelfort', 'big time road win', 'gop health care bill like private jet everyone access 99 9 population could never afford', 'know movie coolio gonna good ride', 'tonight philly coming back home 92 #partyandbullshit celebrate', 'trump taking credit obama 2019s economy like someone inheriting million dad bragging smart', 'rescheduling @radisson blu booking day @goibibo charge r 2 180 @goibibo denies help', 'good r u', 'due building facility issue wasserman main closed rest day today apologize inconvenience', 'setting little party house bro', 'woman rise glad see @bloomberg volunteer nyc student today 2019s young woman leadership', 'man read good book advantage man read', 'work hard play harder eat clean week look forward sunday holiday', 'self care applies hair restore lock must hair rescue', 'remarkable guy thanks coming show buddy', 'heartfelt thanks let work continue', 'data analytics machine learning second part information age main driver 4th industry', 'happy birthday dear friend timkstory blast', 'italian bff enjoyed family', 'lot software engineer strong math hate math good one', 'woman right human right today celebrate speak listen', 'maybe go hospital ingesting much cardboard ink might dangerous', 'happyfriday today @samsungtv 50 4k smart tv 579 hurry stock last', 'every day 26 year old muzey morning start collecting dirty water give help morning', 'truth af trying blessing someone else happy sunday folk', 'today day please join u los angeles area morning', 'last week fbi int l operation division welcomed representative nat', 'future virtual reality living room', 'join u day publish screencast redesign hexa', 'almost 3am decide show', 'u christ done faith without work dead', 'grt time rome especially visit rom training centre', 'pleased announce second leg #bloodtour', 'miss blondie soundstage airdates please check local listing station near', 'bill announced reached agreement former panther wr corey', 'twitter 2 year something find instagram', 'pend 3 day 2 night u summer', 'due winter storm @nyuniversity class canceled office closed tues mar 14', 'wherever end next thought somewhere get good competitive game lacking last year', 'moment seat # boarding pas exist aircraft', '@user father dysfunctional selfish drag kid dysfunction #run', '@user @user thanks #lyft credit use cause offer wheelchair van pdx #disapointed #getthanked', 'bihday majesty', 'wanna sneak zoo play kitty', 'get better day could something lodged belly', '2 2 huge fan fare big talking leave chaos pay dispute get #allshowandnogo', '@user camping tomorrow @user @user @user @user @user @user @user danny', '@user make u wait another fifty minute #running #positive #remain', 'angel going miss athlete weekend', 'lost another member family yesterday #gutted #rosie', 'watched considering today yaknow shawnna tomomorrow need bestfriend', 'selfish #orlando #standwithorlando #pulseshooting #orlandoshooting #biggerproblems #selfish #heabreaking #values #love #', 'get see daddy today #80days #gettingfed', 'hea #orlando right truly cannot imagine could easily happened anywhere', '#argentina2015 attack bull game 3d really think head empty around city side', 'self serving hypocrite always keep eye bouncing ball nimrod president', '#nohcarolina bull dominate bull direct whatever want whe', '#building polar bear climb racing angry polar bear climb racing polar bear living cold place loo', '@user @user want reelection money #ksleg', 'hea #orlando right truly cannot imagine could easily happened anywhere', 'alreemgroup #aly alshahawy #ad #cute #summer #photographerdubai #sun #hair #mydubai', 'seems like place action montreal', '@user old washed', 'hea #orlando right truly cannot imagine could easily happened anywhere', 'thankful enteainment #thankful #positive', 'grr want keep reading wont anything left read', 'hea #orlando right truly cannot imagine could easily happened anywhere', 'yeah know horrible ugh saddening', 'glad britney crazy anymore one hell show', 'good weekend show #thankful #blessed #jeffreycwilliams', 'good hea help everyone always seem one get hu #buttrue', 'happiest baby ive ever known #cute #smiles #babygirl #beautiful #niece #blessed #xo', 'wish pretty good scaring shit people', 'wait carowinds ready see @user @user time #rockthepark #timetogetmyjesuson', 'already bought finding dory ticket', 'every minute lose sixty second #happiness', '#sanjapan #animeconvention see guy september', 'question day excited moto #tech #announcements #moto #question', 'make today count #mondaymotivation #livelifetothefullest #healthy #everydaycounts', 'happy morning 8degree anna #classmate #friends @ 92', '@user would u able suppo event #brentwood #homesta lost funding may close', 'happy little people happyhappy people #kitten #cat #blackkitten', '@user @user @user thank much oppounity cherish forever', 'going sound vain running fav lip gloss', 'time work get sick', 'happy pharrell williams #pharrellwilliams lyric', '@timeafterabc @willchaseme tourmate say want like anymore', 'london wait play tonight coming #c2c2017', 'email reveal trump head #epa scott pruitt corrupt tie oil gas industry http co tp0q8275xq', 'dammit need stop buyin furniture', 'celebrating #internationalwomensday thru june 10 http co osrfvvlgvr graduation attend south african girl', 'let colour holi spread message peace happiness safe amp remember wasting water amp careful u0001f415 #happyholi', 'seems jruby support hpricot two version behind', 'thank enough birthday greeting @kevinhart4real took opera hate opera http co vbefcutr9m', 'rt @guardiannews teacher must ditch neuromyth learning style say scientist http co lwt0qdslw7', '@srubenfeld @anntieup trying suspicious technocrat', '@lizhackett welcome hell kid texting labyrinth', 'rt @votevets trump #hiringfreeze continues hurt veteran leadership va #backlog grows http co rykpjm0rr6', 'dementors undertaking branding update new improved look http co hkr6auy6qs', 'happy birthday george washington learn first president http co 8uzjf90gkv http co qoxflkdogt', 'master one supreme understanding self', 'rt @rosspgardiner part rudy intrigue sean astin agreement teach jon favreau woman skill exchange read', 'rt @danisnotonfire neighbour thought dog ran away actually came apartment petted hour u2026', 'rt @hansikafe happy holi beautiful @ihansika people u2728 express love color u0001f495 u0939 u094b u0932 u0940 u092e u0941 u092c u093e u0930 u0915 u2764 u2026', 'rt @nova wia early bird rate first lecture end today miss resilience civic culture tues 3 14 http co zq u2026', 'monituid 553 http www juicedlime com loaded 0 430797 secondse8f98 favorite count 0 place none id str 255148312 favorited false', '@djyoungmusic1 killing radio 95 5 listen done check', 'happy #snowday great time inside reading favorite book perhaps new favorite #read http co wsddwj1klc', 'rt @iex ec decentralized #supercomputer inevitable milestone way internet thing #iot #blockchain #cloud http co p', 'exhausted done farmer stuff today', 'anyone else problem accessing ttb cant get', 'weekend @rascalflatts visit @kixbrooks acc check rest interview #kixtv u2026 http co u6lb0nle7s', 'lymph node massive rahm emanuel ball right', 'good morning ready 2 go want 2 go back 2 bed', 'rt @usbankpayments ready get serious simplifying expense management report show http co nlmvcyfbf7 #expensem u2026', 'life imitates art', 'strongly dislike people make stupid comment dont know whole story', 'tweet already gone missed guy tonight', 'rt @chandlerchamber starting today 2pm whole flock thing going @ostrichfestival weekend long #ostr u2026 h u2026', 'people like already forgot nah new name made hashtag weekly basis', 'oh computer suck think able listen xbox 360 fancast tonite', 'check latest upcoming movie allu arjun nhttps co juzdwfmfzf', 'amazing hack help', 'dawned 2 month seeing @user live excited', '@robbieamell barrowman 50th happens', 'something burn snuggled writing mode winter look new stb music 2011', 'nalini said good morning #internationaldayofyoga2016 #yogalove #yoga #relax #healthy #positive', 'makerbot print cad functionality streamlines engineering workflow space system engineer collaborate amp p http co ne0t94uavb', 'turtle better mac last longer move faster', 'help support cause spreading awareness national autism day make difference today http co actdnd48mq', 'last day training fight week familiabelfort #teambelfort n xdaltimo treino ante da u2026 http co btysmgg3p6', 'soaked pleasant', 'may email one hope feel better', 'gop health care bill like private jet everyone access 99 9 population could never affo u2026 http co j7wrrqzego', 'stupid arranged marriage convert marry love', 'already old news push notification war n @buzzfeednews cbo without using cbo n @washingtonpost tmi http co sotawfwxuf', 'rt @ninjakitas know movie coolio gonna good ride', 'men feeling feeling feeling nwomen nonsensical offensive nmen stop getting hysterical lady need reason', 'back @vidsrinivasan http co w4j9f7jnin', '@rehan kiki @sharathsathu thought sad', 'tonight philly coming back home 92 #partyandbullshit celebrate u2026 http co kg8mjdsx6d', 'well said looser show implies', 'well said looser show implies', 'girl statue stare wall street bull international woman day #nyc http co cejvjlnf8d @nytimes #womensday2017', 'rt @originalgriz trump taking credit obama u2019s economy like someone inheriting million dad bragging smart u2026', 'new go political commentary response http co 08wcldc39p', 'rescheduling @radisson blu booking day @goibibo charge r 2 180 @goibibo denies help n #offyougogoibibo #helpless', 'last find thing like twitter', 'im soooo cold right', 'rolling paper 2 double album', 'ol kant believe cam got beat upp sooo embarasssiiiin', 'rt @noaasatellites imagery geostationary lightning mapper aboard #goes16 amp spectacular learn glm @ ht u2026', 'watching old video dance team make miss', 'thinking topic thesis #inspiraton #thethinker #rodin http co 0whcoht2ly', 'partnering #cheggtutors give away one one tutoring session @chegg learn http co 6fwcovcu9w', 'jaihind', 'due building facility issue wasserman main closed rest day today apologize inconvenience', 'could feel pick 6 coming thanks brady #superbowl #falcons #superbowlsunday', '@bookmysports take stair office everyday', 'setting little party house bro chrisgotti son #noah iambabypro u2026 http co k3noqmpvqy', 'woman rise glad see @bloomberg volunteer nyc student today u2019s young woman leadership u2026 http co lgefvhmlly', 'rt @quote soup man read good book advantage man read mark twain', 'man land n nio sono una che quando pu xf3 sceglie la solitudine e che come artista si fa carico di http co wjgwtabawm', 'brand targetting gone wrong blackberry nokia cnt isolate ur customrs target w losing one set customer #micaadswag', 'work hard play harder eat clean week amp look forward sunday u2026 http co 0wbrivpmon', 'wahh csi anywhere dvr ed love money 2 though gonna watch sleep goodnight', 'one day really want work home crap', 'rt @helmerreacts beginning 2016 v end 2016 http co mmctbdikvp', '@nytimes rogue ad unit mobile app video takeover sending link tapped', '#repost @honest beauty self care applies hair restore lock must hair rescue u2013 clean http co r6g44e1wqk', '#americanidol winner @krisallen getting ready read arkansas connection academy student tomorrow u2026 http co hj1imifnlo', 'get statistic bunch mumbo jumbo', 'whatever woman must twice well men thought half good luckily difficult http co v6jb3byugp', 'rt @billiejeanking international woman day every day let look get life give life #iwd', 'want walk home snow want pick', 'rt @drewgooden former jayhawks nba star drew gooden graduate ku may kansa city star 1 helluva sr year http u2026', 'unfinished test', 'shave head ur baby dancer amp @madonna asks principal performer u2026 http co hs51pab5io', 'im mood chocolate want miniature reeses cup', 'feeling well back hurt', '@jrdntgn jordan looking author like develop video tutorial google bigquery would interested idea', 'take heat like oven feel sick', 'keep learning creating focused mission great vibe', 'asking u2014 full interview w @tyleroakley remarkable guy thanks coming show buddy u2026 http co pznlstdqoq', 'heartfelt thanks let work continue u2014 john p holdren nhttps co 4lu917xatj', 'super mario ran http co 1wati8dwxu', 'walk amp talk going right http co qhwxuxppzz', 'john goodenough inventor lithium battery developed first solid state battery cell promising http co fhhjweqf8n', 'greatest player ever coming europe u0001f1e9 u0001f1ea 30000 pt thats crazy #respect #legend #halloffamer http co 435n1hlrp0', 'set summer goal feel today u0001f643 u0001f643 u0001f643 nthis u2026 http co 5t6pnbcglu', 'data analytics machine learning second part information age main driver 4th industri http co llxnbk3uwt', 'scrolling picture last night u0001f602 u0001f602 http co ijut2970pi', 'actually relieved raven win hope spin like move la expands boutique', 'rt @nycsanitation dsny issue snow alert monday march 13 11 p salt spreader plow ready http co wx u2026', 'boredd colddd internet keep stuffing', 'horrible nightmare last night affected sleep really tired', 'rt @tppcitizensfund remember vote @paulbrounmd today ga 9 willing fight constitution freedom http u2026', 'true wealth gratitude', 'nothing make self conscious getting iced coffee day like today #blizzard2017', 'im lonely keep company 22 female new york', '@potus trump led historic journey white house 50 day historic journey continues take look ud83d udc49 http co zszj31chtp', 'announced clarksville tn apr 21 downtown clarksville http co ts398tjcro', 'dawned 2 month seeing @user live excited', 'happy birthday dear friend timkstory blast recapping @patriots #superbowl u2026 http co g8w13icvxu', '@realdonaldtrump day numbered sane soul right see #dogcatchesfiretruck http co fj52ujbzww', 'ugh horrible ending sandra kantu story prayer go', 'morning folk 7 00 yawn amp away see horse hope twitter better behaved today', 'sorry hear loss many year far', 'rt @ambermi paint complete picture idea find engaging way share world @ayeletnoff http co zxg3tuv7mg', 'receiving petitioner home thiruvananthapuram amp busy sunday mp office heading mon morning islamabad u2026 http co yynbonruwd', 'rising follower graph 224 follower past week get stats right http co nccgukbage', 'rt @tripleh hover iso bench press n315lbs x 3 03 pause n ntimed w l blackburn n#dogassistedchaosreps n n#dothework #midnightw u2026', 'fucking first bueno', 'stuck house two day', 'rt @fact someone give advice respond right rather know come across nicer', 'laura amp @paolacortellesi visiting @waltdisneyworld orlando italian bff enjoyed family u2026 http co twizrikrc4', 'maybe one year get tax return girl dream right', 'another session hoop tonight w @westcoastbill nat @davidsacks john jay tony #goodsweat #positivity #phnicelife', 'interviewed @cctv america nigerian president visit china @d brautigam @bobwekesa http co 9iwuzopuhu', 'back work tired hell feel cold coming', 'rt @thewolfrocks help u tell u think new @paparoach help playing 104 9 wolf', 'gotta repeat whole art folio cuz old one whole term work got wet', '@i lion4 lot software engineer strong math hate math probably good one', '@rudyhavenstein look face guy right show understands', 'patriotic painful u0001f633 #repost victor estela n u30fb u30fb u30fb nthis ben carson wife candy singing u2026 http co um87n6auoo', 'finishing day committee way mean @nagps #lad17 http co dnw2yrslub', 'shiner taking bed blanket', 'ready weekend already monday', 'sleeping stressed week coming', 'yea working tp hack server 12player thing folk', '@sithkeg @allindiabakchod @mojorojo winning say anything people got angry said generic thing', 'rt @stefant personally reported 100 fake facebook profile review past week care guess many got closed zero', '@nfrealmusic frickin inspiration like music real modern money bitch', 'want wake early tomorrow damn work', '@dlsniper @bt uk @tfl uk home broadband dynamic though see ip change router reset u2019t often', 'finished watching movie prayer bobby broke heart', '2 put dog today someone ran', 'change constant http co p58npnwmqo', 'today mark 1 best day life #engagementday u2764 ufe0f http co e0zgphn2pc', 'woman right human right today celebrate speak listen #internationalwomensday http co yqqlroakyo', 'rt @pmorawiec @funghouli @charliezeee maybe go hospital ingesting much cardboard ink might dangerous', 'sorry hear dnf run tonight always risk get bad coords ftf', 'rt @eladgil biotech innovation slow biotech entrepreneur tend get bad term http co y5z0n8crwf', 'came back running took shower lower stomach still hurt exercising', '#happyfriday today @samsungtv 50 4k smart tv 579 hurry stock last', 'every day 26 year old muzey morning start collecting dirty water give help morning u2026 http co gmxbrwwydp', 'follow new twitter account steven ballmer http co k7mshkiscx', 'watching fallon mom working project school hard', 'hate homework head hurt bad', 'spring break last one celebrate', 'would like see someone thank http co imiruij8d3 unsung hero songwriting grammy acceptance speech', 'real felt like dream thanks 73 466 welcomed world last night u2026 http co 9eivrwv1lj', 'truth trying blessing someone else happy sunday folk u0001f44a u0001f3fe#r2bi http co ugghehoyef', 'wanna rock maxi dress @ coachella lacking funding', 'today day please join u los angeles area morning still u2026 http co wtoermhbag', 'finding writing improv song mom best 2 far please bite boob poopy really stink today', 'course baby screaming crib night first day back work', 'last week fbi int l operation division welcomed representative nat l police chile u2026 http co t8l3yogmcz', 'nearly 3 900 child marriage new york state 40 involved someone 14 15 year old http co axttunakke', 'wish spring fling tour dawn amp neecee sigh g knight', 'feeling v good abt', 'ilearn great considering final week', '@miriambrady last time wore', 'fan outsider always fan outsider via @nytimes http co 8yypoqelgc', 'also shouldve bern asleep hour ago', 'future virtual reality living room mall via @forbes #vr @viveport @htcvive http co jrkifxop76', 'join u day publish screencast redesign hexa', 'almost 3am decide show nhttps co qmvcggzo72 n#mixedsignals http co b4wvwy977b', 'rt @reformedbroker intense stood toward end started cheering http co jkjnc3dbma', 'u christ done faith without work dead #fellowshipmonrovia #faithinaction @alberttate u0001f64f u0001f3fe', 'rt @andrewyng john maeda wonderful 2017 design tech report http co zvdgnmy7hd call rise voice ui design chin u2026', 'great time rome especially visit rom training centre http co k72nbj5fy1', 'change plan ordered mac instead time hit book', 'pleased announce second leg #bloodtour full list date available u2026 http co xto1cbs5kk', 'enter perfect bracket win either @thecousinsal home 1 million cash', 'cant sleep im still feelin like piece shit', 'given def preponderance perhaps sean spicer next job title ix investigator nhttps co seelvhakba', 'rt @chilledchaos okay missouri talked last year http co 9i4ex0ehxa', 'seen ur tweet plz write bak u get havnt got one reply bak', 'miss blondie soundstage airdates please check local listing station near u2026 http co ifgj7axkwp', 'reaaly miss john mayer twitter fuck rude people', 'hate converting movie put em itouch', 'im tired work need life', 'social #impact bond used improve amp #transform early childhood development service #socialimpact #data nhttps co tw8opvstwk', 'rt @neiltyson time behave artificial intelligence becomes overlord reduced reason exterminate u', 'ottawa member get see behind curtain today #reinon http co zjkh7wkuwj', 'austin 81 rainey come make gifs http co xw6m4vlner', 'bill announced reached agreement former panther wr corey u201cphilly u201d brown', 'best part job buying comic', 'rt @mediabuzzfnc pundit going 2 far questioning trump stability @erinmcpike @meghanmccain @carlsonmargaret #mediabuzz http', 'hot compress rily workng pulled muscle gng bed good night', 'happy #internationalwomensday n often called #whyisn tthereaninternationalmensday n n november 19th', 'bed gotta wake hella early tomorr', 'rt @travelerschamp return engagement pair past champion 2010 2015 winner @bubbawatson 2016 champ @rooknox coming u2026', 'way late working client 12 10', 'growth come fast w marketing question need ask community marketing #sxsw', 'ust got done watching new house episode definitely one saddest episode ever', 'twitter 2 year something find instagram nikilanik http co xlnefoug01', 'heartbroken little sandra prayer family', 'well much productive 2 day angel', 'guy watching', '@postnl wonderful received email yet standing thank nl tracking dm sent', 'vaccinated chicken pox vaccinate 3 yr old confused', 'rt @nyudps due winter storm @nyuniversity class canceled office closed tues mar 14 check http co vp9r7vlk3', '@nicolemichele5 happened going', 'listening spy coldplay parachute #9733 #9733 #9733 #9733 #9733 ne id str 20862931 favorited false', '@iwanrheon hi iwan miss game throne stupendous work playing ramsay love philippine', 'rt @headlineplanet @shinedown love #1 active rock radio 4th straight week http co 1neqyengap', 'back work get spend next 8 hour alone dispatch room', 'rt @greglaurie man conflict generally conflict everybody else', 'beautiful bay area see tonight san francisco http co 60gl94vab2', 'merkel visit postponed til march 17 weather sean spicer announces getting note wh briefing', 'rt @dreamcarmusic dreamcar live ticket sale nhttps co u5gtabqv8w http co kbt4xtqxpf', 'rt @track word usual weekly look back week #blacklibrary going incl story @gavthorpecreate @grahammcneill ht', 'wherever end next thought somewhere get good competitive game lacking last year', 'wrote exactly three line dialogue tonight gave', 'going thru town traffic bypass stink', '@auspropertyscam anedotal evidence evidence nature political best', 'ugh sleep wish good cuddle make as', 'jealous missed opening day year', 'new episode #theechochamber airing tomorrow mike studio @mixmastermike @beats1 12 pt 3p et u2026 http co viffwencp1', 'hi follow', 'debating shower sleep little later tomorrow', 'young fan oklahoma keep unselfish thing #give @duckweek2017 http co njyk8xjiub', 'little pinky finger hurt much', 'getting ready clean house top bottom', 'stress always culminates physical pain', 'trainspotting sequel hit u secret sxsw screening http co yhidq1ydmw http co cupylzrq7b', 'enter perfect bracket win either @thecousinsal home 1 million cash', 'moment seat # boarding pas exist aircraft #goair #thecuriouscaseofamissingseat #delhitomumbai', 'rt @lamaisondubtc legal impact dao amp smart contract avec @simonpolrot #merkleweek http co dthoas1gig', '1 cluster f #k courtesy unstable #potus preet bharara honourable amp dedicated official amp deserves better http co etcngtyx9g', 'think getting cold caught daddy oh trip would ruined', 'rt @melrobbins life change become committed dream comfort zone', 'international men frequently mistaken woman day', 'haunting read historic humanitarian crisis currently face result drought driven famine http co ojzdhvznoz', 'procrastination start early quarter want reaaaaad write paper', 'rt @jeffreygoldberg great piece @julieebeck may actually change mind changing mind via @theatlantic http', 'aha even yo know @thang twitter', 'rt @victoriasb11 see leader anybody else', 'apparently 52 degress 11pm washington state miss winter already', '@snowden impossible democrat never right', '@dayanadobre3 @jakepaul @radiodisney sure love xd', 'rt @lgbtqfilmmakers u joined thunderclap u0001f4a5 u0001f3c1https co urcrfhlnce http c u2026', '#tbt song couple year back scrolling phone totally forgot love u2764 ufe0f http co 0b5y0t9l1h', 'someone alarm clock phone woke 3am still got headache yesterday night', 'hello frnz first twt innocent really know aware say', 'hard accurately observe daylight saving hammertime touch clock set forward', 'rt @muscle fitness @ufc champion @twooodley giving belt grieving mother inspired final round ufc 209 http u2026', 'rt @fivefifths glad steve king keep making subtext text', 'seeing soon austin @sxsw @spotify sxsw rock playlist getting http co h4bznhstrg', 'baaaaak', '180 day @airbnb seems reasonable compromise professional host odds neighbor http co qgtc15z7x0', 'birthday wish somehow wish #happybirthday #rogerfederer', 'might break eat buffalo wing tomorrow', 'rt @ryanlewis79 united playing formation jeez', 'enter perfect bracket win either @thecousinsal home 1 million cash', 'aaaaand back literature review least friendly cup coffee keep company', 'worried get 900 even though paid buttload tax last year', 'sleep hate night try go bed early stay awake hour poo', 'feel like shit way want spend birthday eve', 'today opened beautiful apple st john town center florida 35th store updated lates http co kg6pviemrj', 'rt @mark weinberger congratulation people ey amazing accomplishment 19 year @fortunemagazine @gptw u #100 u2026', 'lot mind need make money idea nowhere hiring', 'nothing ppl pakistan gov seems b lost supporting terrorist 4 long #unitedagainstterror', 'mostly storm name joke also using line southern playwright describe snow storm sacrilege', 'rt @calvinn hobbes sometimes favorite gift surprise best present come box http co ikt3ryu2hq', 'rt @jesseleesoffer think better way spend weekend skiing great cause @operationsmile u2026 http co ox2w6bguti', 'omg hill love money2 aww think becky buckwild go', 'lost phone maybe grass long hope rain', 'feel unloved dropped 2 tweeter', 'need help want buy macbook pro still inlove old powerbook', 'anybody know get electrolyte back order vitamin work feel sick', 'almost italian homework weeeeee understood', 'hate fact genuinely excited last tweet', 'yawn yawn yawn 10 minute bed', 'got highly bored today scanning 24 page daddy', 'lookin like nighter hate', 'coming cold bad allergy either way miserable', 'hoping help young singer songwriter struggling make tough business help @edsheeran break x', 'collapsing bed watching terry fox story amp running sahara', 'another early morn duchess although managed cross leg time', 'im boredd gah wish could sleep get ive toooo muchh cooooffffeeee', '18 week till sister home missed call worst feeling world', 'group dancing mask wig long hair find info going anyone know http co xa8y5xm7pl', 'gonna try get sleep hotel room', 'rt @sarcastic u ex want patch http co ggzhizgvsa', '#internationalwomensday thinking young girl amp others like ud83d udcaa u2728 http co u1fvzat1bi', 'bedtime school tomorrow still book broke suck', 'disgusting parent raised better foh http co ks1ashb3ao', '@theweeknd feliz cumpleanios abel best', 'rt @economywrld globalization contemporary word financial colonialism http co w2jhkpqj6v http co g6ke4bupeg', 'seating helping baby paper well forcing seat im sleepy', 'spent 1 hour enter bureaucratic nonsense march waste time', 'going try project', 'new vid @theoceanexch see save date #oex2017 oct 8 10 lovely #savannah ga u2026 http co qvua0yfjmn', 'home really wana sleep due wasting free line town assignment finish', 'oh nerd like studying', 'homework gosh darn hard', 'thanks @seattlejs reminding curious j iot robotics', 'smart list tech biggest name pick star tomorrow', 'nothing dark hope', '@renn @melarauj0 dig case study house line lot hope got good ktown time', 'congratulation victory', 'rt @proverbs31org may character preach louder calling @nickikoziarz', 'murder gotcha cant believe', 'mouth ulcer painful talk eat', 'dog move anymore praying okay', 'dang able get workshop run web direction', 'nashoba valley technical high school get grant bolster engineering academy @sentandent http co f5ddi7u3q2', '@delta booking flight le 30 day even get answer phone', 'poor little girl baaaad rash bum isnt feeling good', 'argh got early girl aloud freshly squeezed video', 'mhm good day blah blah blah', 'hurry today #last day entry #photographycontest http co 6d8ce3lttq', '@timesnow right right least aap sacked minister done', 'think found face unfortunately find yet', '@latimes way save billion oh forgot single payer', 'check #hackpledge developer help master programming http co 13wumyx58h', 'pretty good coaching exceptional talent trounces exceptional coaching pretty good talent', 'phone bestie shower confused know', 'know big love true blood united state tara long wait season', 'great trailer prosenjit best entire team love aamir nhttps co c2wm3lclzu', 'keep looking know read gonna hurt still look', 'really enjoyed thank bringing group together', 'interesting analysis trump u2019s support healthcare bill say balance power dc http co b7cnn3vrve', 'rachel jessy r making work thanks guy', 'choose alternative album cover tho http co 9olly9cb6o', 'healthcare fall industry night @hma rotman thank guest http co czm6w8co1u', 'rt @stephenathome architect trump wall build secret exhaust port size womp rat rebel could save', 'wanting go school tomorrow', 'choreographed song beautiful', '2 day work week fast forward thursday please', 'rt @tedlieu always make happy post comparison http co urpw5sle0h #flashbackfriday', 'want hear recent work @northpowergrid head website http co hbjeomlo4m http co bmq3wyi5wm', 'rt @guardian giles speaks buffy vampire slayer feminist parable everyone including anthony head http co f9hromr', 'little one spread spirit holi little lego long happy colour colour u u2026 http co wahbbtam7k', 'possible die coughing suck ill', 'hey advertising fake louis bag 100 authentic google pissed', 'thank ian kickstart', 'life hard deserve go shopping spree', 'keep looking know read gonna hurt still look', 'electricity today tweet', 'tired morning idea great start day', 'u2019t everything die last amp plan nwith one wild amp precious life nhttps co vemzwsq1pm', 'morning back little break computer back work today', 'miss right need hug', 'uncle @imcharliewilson new track together called #smileforme excited new album #inittowinit http co ttfxqxqi84', 'even expressivebut thanks b roll @ndrewgardner much bts u2026 http co bjwjiytqf1', 'rt @radleybalko whatever reason conservative interpreted donald trump http co xilcliqxjc', 'tried get earlier today work', 'foot commission ouch running morning help smart', 'sound like guy friend announces birth 1st child say neat exciti u2026 http co xruczobuog', 'getting thing done day #sundayerrands', 'happy 18th birthday chanceaking oh love love soul brain u2026 http co t2sxysod1q', 'waitin 4 theory test centre 2 open', 'think need get laid sad revolution earlier rofl', 'game day home opener v toronto fc bundle going cold one #doop #mls', 'proud girl @meghanmarkle writing inspiring piece continue inspire everyday check # http co e1sk1mqpae', 'set #ultimatebeastmaster good time get ready join gang episode available #netflix u2026 http co cdslrp16mc', '#physically active reduces risk #cancers n nfor health update follow u http co utshacauyh http co iflwdfcaah', 'signed @biostrap first wearable platform give truly holistic image health http co jcvehz3lqt', 'gop called health care bill give tax break insurance exec making million charge lapse coverage', 'certainly nothing wrong donating time en libra http co 8bi0a2ddx8', 'rt @icanning open today stop 10 4 #presidentsdayweekend #sundayfunday #intercoursepa #amishcountry #lancastercounty http', '@rain crash awesome glad enjoyed', 'want seen 1st place google really next nothing start selling ur product service go u2026 http co 3wt04qbgv6', 'pasta selection walmart whack', 'want amanita someone made feel unliving', 'amy krouse rosenthal author filmmaker dy 51 via @nytimes http co of5cffxj3o', 'want go home watch hill', 'proud honored bike #teamluke awesome @equinox @cycle4survival u2026 http co bpkeqadd7s', 'rt @nishitbavishi @sushmaswaraj so nmy frn parent need emergency passport visit son nyc who critical request expedit', 'bout time mother nature showed party', 'rt @nicksrockwell tech woman power quartet @lijiali vision @drfeifei diane greene @sigalzarmi forming band heard f', 'ww moe planning leaving tomorrow evening gonna town chance', 'spoke woman science mar travel incredible nasa engineer dr aprille ericsson #52women52weeks http co sl8w9f5nv9', 'wanna write cool enough make storylineee', 'art tomorrow nice see joined twitter', '@djsnm could never get even 1 victory row', 'sigh think pm making mind totally analyse thing making sad', 'rt @lizzieohreally job report compiled nonpartisan professional department labor n nfor real n nthe end', 'one outside patio named rex gardner took rip rex', 'ooops ate panini w mart cold say needed thoroughly cooked', '@rfedortsov throw strange fish back keep', 'rt @garethbale11 giving away last 2 signed shirt #gb11comp simply retweet chance good luck http', 'good morning rainy france gardening today', 'must slipped mind', 'ever day staying bed today', 'good denmark never give bully', 'seems like 2016 u election may well battle batshit crazy n#trumpvssanders2016', 'rt @sonsofpenn hoping game recap http co gszv3fg2o6', 'thing need know week state department http co xbns99zdfz', 'bedtime wake call 7am', 'shout michael moses scott abraham amp josh goldstein best marketing team u2026 http co orjc7ka5e7', 'finally give fast food @mcdonalds release grand mac amp @tacobell follows triple double crunch wrap u0001f614', 'glad made work extra hour paycheck', 'sleep need talk someone', 'sorting brekkie kid horrible place called work boohoo', 'condolence natasha richardson family', 'need stop sleeping day cause problem wide awake 2 45am', 'suddenly miss flintstone vitamin tablet soooo gooood', 'rt @danisnotonfire still shook phil told story right happened colour shrek mortifyi', 'heart broken', 'morning everyone serious need decent coffee catering open yet 08 30', 'rt @wired mathematically proven tip help win march madness bracket http co mrvueppboc', 'missing talking bff da phone', 'wondering stupid need eat fish guess sigh', 'spicer say transition lawyer govt lawyer would illegal advise flynn registering foreign agent true', 'miss old friend elementary an middle school', 'rt @thecdnacademy #cdnscreenawards host @howiemandel building head thecdnacademy facebook page see chat u2026', '@magicbranch word die hard flawless idea talking either', 'hosting arowana international limited tesla factory fremont behind glamour', '@lilypad 41 wish u broke', 'today finished robot decorate', 'look like missed yet another job someone please employ haha', 'wow shout box kicked get back guess mean good night', 'slideshare embed code annoying sorry tiny embed #fail', 'interesting perspective applies testing title engineer cheapened tech industry http co rh0eqdqux9', 'bored nothing', '8 43 saturday night could go bed right http co tozdbwkcgk', 'someone please take gossip girl away addicted', 'good night swetdreamss everyonee jared never chat kyte puff', 'time get dressed suppose gah another workday', '@sushmaswaraj so nmy frn parent need emergency passport visit son nyc who critical request expedite kolkata', 'ready go premier realized dressed', 'awwwww bummerr sorry missed', 'waking sound jackhammer pleasant way start day', 'still effinggggg sick get better ughh', 'still bed dont want anything else university callung loud', 'make happy wish afraid fly', 'errrggggg tummy hurt', 'ugh still working project taking small break', 'one day go school day something exciting happens parliament square', 'star arm candy right smartwatch u0001f44c u0001f3fe u0001f44c u0001f3fe u0001f44c u0001f3fethanks @samsungmobileus hooking #gears3 u2026 http co abbpeffb3l', 'fuck youku want watch skin', 'forgot phone car scared go outside get', '@smilecomsng sin forgiven @speedtest result fast internet http co bsrbjcbedp', 'naturally live green #blizzard2017 @nws http co r23p5y394c', 'excited new chapter @jibjab @kateb dream team @3gs @espiridellis @snoopdogg http co clroj8yvtd', 'oh way sorry miss spelling anything smaller key piano struggle big joe jackson finger', 'rt @dailydirtnap founder ceo 26 ndates model nshares vote nmakes money nworth 24b n nno bubble', 'rt @jpsiutat bravo xe0 @tonyparker nouveau pr xe9sident et propri xe9taire majoritaire de lyon basket f xe9minin @ffbasketball @basketlfb', 'goodmorning randomness lifeontheroad #questions #thingsthatmakeyougohmmm http co ioflhw1bcd', '@skrill dilly lol', 'artist continues use native imagery', 'lose service others truly great way make positive impact find losing others #godbless', 'totally shocked episode house eveing lost one favorite character', 'yo @katedangerous would mind liking new facebook page would love see ya click http co k8mlfqzol4', 'pas first part cset missed 5 effing point', 'believe evm sabotage theory suswamy knew defect evm used russian connection subvert election', '@electrolemon ok short get entire market short pant market capri culotte pedal pusher gaucho', 'chapped lip boo', 'se min gjenforening med mine fadderbarn h xf8st http co ckfyb2pyxg n xabthe stream gir tilbake xbb p xe5 tv 2 fredag 30 12 kl 20 00 #planfadder', 'rt @wfp #climatechange take heaviest toll hungry 80 live country prone natural disaster http co pb1icve3wc htt', 'rt @brittanysnow many people country n many hug tonight http co 89mtchnivc', 'impressed extraordinary girl met @cardozoec represent beauty diversity country http co ndmbjj8tez', 'thank u melbourne much love keep smiling n stay happy always http co xd1qowqwkd', 'rt viewer online story often top google search hit right next outlet like cnn http co rleowmefww', 'rt @indiahistorypic 1968 beatles playing holi rishikesh #happyholi http co piv4ks93et', 'always great spend time w @cavsdan amazing leader amp truly great american detroit leadership inspired k http co qrppc8xgrs', 'new u healthcare bill would leave 14 million people uninsured 2018 current law budget body http co v3imybgu9e', 'back classic rainy amsterdam day', 'feel like cry sick feel', 'damn might actually buy antas http co br3ptszxpz', 'like everyone else hereby claim wa election result entirely due whatever going say politics anyway #auspol #wapol', 'toooooo feel like verge anxiety attack day', 'rt @chicagotafia 23 year since legendary comedian #billhicks died spinning ride welsh artist @jem honour http u2026', '#leo deeply sensual passionate enjoy posh surroundings', 'work stop mission', 'rt @gizmodo way first monster black hole formed pretty dark http co 4tfpbdvuph http co 2pb6vkfaiw', '@yaeditoralyssa hi alyssa also accepting manuscript agented ya writer', 'heroic ever go sorry', 'im tired morning cold shower water happy', 'haha grandma 2 day even 5 house away still miss', 'visit', 'cry inside please oh please let rain warm', 'packing overnight bag tomorrow going hospital', 'rt @exlolakutty feel smoke without fire ni stage entirely believe disbelieve thing told ab', 'wish could go 2 bed 2 take allergy pill', 'enter perfect bracket win either @thecousinsal home 1 million cash', 'rt @garylineker depay scored almost memphis http co xdibuhoknc', 'heard making announcement trying find mother looked worried', 'work alone saturday anyone wanna come keep company cough cough', 'ok maybe sleep hour two must rise work thesis', 'rt @stargate stargate waterfall @sia @pink finally get itunes http co rwrhm0vexj', 'goodd nightt sweet dream everyonee jared neveer', 'wishing 245 morning sleeping awesome work need scrub apt', 'wrap memoir september u0001f648 u0001f649 u0001f64a http co 0m8s9ek2qb', 'yes sad topic haha going concert', 'couple mt text arrive', 'blessed live great country thanks protect freedom wishing family safe happy #thanksgiving day', 'ooks interesting lot 500 error documentation website', 'favorite excellent job', 'good see @realdonaldtrump adapt reagan like approach defense address congress http co bmw966dxdd @richardquest @cnn @cnni', 'prisoner freedom', 'zurich smelly bag anymore', '@blueapron recommend recycling ice pack ship box', 'rt @ajplus man shot multiple time cop holding wallet http co sarl1oc3kv', 'part 2 build feature extremely popular successful competition steal', 'rt @dreamersacademy big thing take time nothing happens overnight u201d @tahj mowry @freeformtv @babydaddytv actor #ddadisney http u2026', '@angebassa @mims @timfernholz use 2 mobile browser daily specialized apps though feel like outlier', 'mr #modi responsible senseless hacking account leader @officeofrg condemn c http co siylx6ppkd', 'university classroom computer shit day boring', 'want get back bed', 'worst burn life sick worst burn life sick worst burn life sick', 'official going educational summer owh god bless', 'much enough motivation', 'oh everyone going sleep much wish could 4 45pm im @ work', 'one thing hate dozing lects wake sheaf wet badly smudged note', 'rt @therickydavila forecast #snowmageddon2017 spot u0001f377 u0001f377 u0001f377 u0001f377 u0001f377 u0001f377 u0001f377 u0001f377 u0001f377 u0001f377 u0001f377 u0001f377 u0001f377 u0001f377 u0001f377 u2764 http co qkj3qkorrp', 'proud amazing team @hugeinc made hackathon idea reality http co jss1rti4e7', 'sotomayor asking every single day learn new amp act giving help u2026 http co rvwqea2i0x', 'rt @skulleeroz hey yall anyone following @frillneck account say gb one hop new twitter let tr', 'sleepy head chance actually sleeping slim fucking none', 'money gone', 'rt @natbatsx finding quite farcical uk gov vote decriminalise abortion completely england wale police u2026', '10 battery', 'rt @jordanbpeterson well placed moderate muslim spoke last night contend iqra khalid mother m103 associated', 'tired get go school holiday', 'omg 360 people death toll italy', '@the james champ get hahaha pretty much', 'behavioural insight help u stop wasting money medical test abc news http co d6qf9bdwhj', 'hoping get decent sleep tonight since get worth shittt last night goodnight', 'juda chant bit unwarranted feel #mourinho #cfc #mufc', 'babe aint callin', 'know go digitalise home love spend time babe today #chillen cousin', 'good morning hope everyone feeling better cold really got hold', 'babe hookup tonight waiting http co ar2lskdqxc http co qfzepoevvy', 'talking boy hating work though', 'thanks came watched recent show @springsteen @tarongazoo amp @gasometerhotel let u2026 http co 8ah93vbok3', 'google cracked one building block web encryption u2019t worry http co 2tdajqdvre u6765 u81ea @verge', 'first hbcu battle brain start 1 pm right nhere idea #sxsw action http co 01un2m2euh @hbcuatsxsw #startup', 'someone keep im work', 'rt @manwithaplan parrot human find tomorrow new episode #manwithaplan http co johtzsvkd3', 'another amazing photo attic husband @astro oz john glenn wow need dig deeper archive u2026 http co 3xxdiztrok', 'rt @marissaaat15 literally screaming saw living legend http co nrvpgtkzva', 'bed sick n sleep try w help med', 'rt @naturelsweird euphorbia obesa subtropical succulent south africa resembles stone http co s8xigykpa3', 'blip fm going back normal tweeting', '@parallelscares got new computer past reached maximum number activation available u help', 'rt @fxmc1957 photo day mark twain garden colourised http co 7aksrptckc', 'thanks 10 000 customer partner amp devs joined u #googlenext17 wait see build w http co agialnyap7', 'please help make live uk music scene even better filling http co rnt3aszgqr @ukmusiccensus', 'oh gosh oh gosh susy going kill remedy', 'finally going sleep waking early study', 'olympic forest park chinese enjoy lesure time many family child sport http co gnxzvxx58b', 'miss friend elementary middle school', '@jatheish running private server xbox one banned player crashed server everytime try join crashed help', 'rt @cmonstah story ca firm want build wall expanded print guy named hadrian interested http', 'sunday dinner perfect occasion tryin best ever southern fried chicken think u2026 http co 8fbp5us4ix', 'thanks @tnbtweets publishing poem recovering spanish teacher today nhttps co 6mlgcp6el1', 'chick corea tonight missed sob', 'going love season hill tell spartan sucked goodnight', 'rt @rvawonk u atty got fired trump admin @preetbharara overseeing major investigation fox news', 'getting good vibe looking line let c whats store #livars', 'rt @marcadelman @charleswachtel guy come 2 tying scarf knot scarf everyday amp never look cc u2026', 'need study quant legal process assessment 2moro', 'aw suuuucks sorry dear', 'may #holi add colour life happy amp safe holi also small request save water http co axuvqadq7l', 'many wave acceptable giving motion activated soap dispenser keeping dignity', 'ousted u attorney bharara going quietly http co u1arxbegwb', 'intermittent fasting two month way eat #intermittentfasting #audiobook http co lyfulnvz9y', 'worst dream abt turd face used date ugh awful', 'uch imagine toothpic eye something', 'uh feel lonely wish bffwiamc best friend forever also cousin twitter', 'people keep following randomly stop make sad', 'curse slow internet miss youtube', 'boo another day work 3 go 3 day', 'entire city look like black white filter #snow #snowfall #nyc u2026 http co bylw5sytyh', 'anymore daisy manage take 75 bed', 'diet woke 2day hungry', 'sec reject bitcoin etf big blow cryptocurrency http co c13d9xtbcp', 'rt @amazingphil new video go back gym http co iyjykgpycy please retweet healthy emojis u0001f3cb u0001f6b4 u0001f3fc u2728', 'rt @justovertherain obviously barry love iris anything aaron helbing #westallen', 'compassion people italy mother calling relative italy right', 'hate cooking dinner', 'need find battery elinchrom ranger nobody canada stock', 'rt @things4whiteppl saying everything fake news', 'zonds soviet wanted fly human around moon tortoise survived exactly 50 year later http co uw2hmcxleu', 'sonic weapon v microwave weapon', 'costa miss', '@albertbreer still playing basketball bert mean college university field basketball program', '@pewdiepie every keemstars video main channel saying', 'happy sunday world pray jesus filled day light amp love', 'sorry getting ready going leave 8am today', '@thebigjc believe father ross geller', 'believe got answer ask question feel awful', 'super lucky get seat train pay 40 25 min journey', 'nissan trophy tour begin india get hand icc champion trophy #ct17 http co b1r2l1ntgo http co jupxt5do4k', 'sorry hear missed origin ticket', 'rt @sarahksilverman sanity humanity fighting good fight people cannot fight @speakerryan go suck egg http co 6tv5 u2026', 'feeling light headed gross', 'luke worral doesnt twitter', 'stalker work stalker work @cbstweet new monday 9 30 u2026 http co g3zdc3wpiv', 'rt @uberfacts cop lied law lawyer via @nowthisnews http co slwh2lnujl', 'wish someone talk upset one like anyway', 'omg national napping day trapped airport http co ft7jr4vgvx', 'seems twitter lost update yesterday', 'rt @uploadvr check article @forbes featuring ceo cofounder @taylorpfreeman #vr #startup http co mkqnwne3q6 http', 'rt @aclu hearing raid go document film bear witness vulnerable #peoplepower', 'need help anxiety crap', '5km tready want die built running', 'havent slept wink severe insomnia arghhhh', 'longing sewing machine birthday far away', '@amcewen crew built great place still liverpool still drop', 'got watch lil bro mom work', 'sorry guess sarcasm hard show 130 character', 'still got headache getting ready work', 'flip lifestyle around goodbye sleeping hello work 6am', 'ate many cooky think hallucinating', 'much th paper woke nap', 'wanna go work wanna go bed', 'want talk advisor advise judge arse', '2 pack moroccan mint tea whole truckloads kenyan tea', 'owwwwww doozy headache 2 tablet later taken slight edge', 'find mom rly annoying need detox h2o day skin shitting', 'bubble burst brand pulling back sxsw 2017 http co bpopt3fjxn via @digiday', 'bed way late likely sac shit work tomorrow', 'disco dancer someone get song head please', 'plus tom apparently invested fine bathroom company well http co beu7sou', 'soooo tired @ work', 'sitting unable sleep', '@raspberrykushx ive never shed single human skin cell life', 'mvp per usual thanks sean ron @seanehurley #ronlavella http co dn4yr6njqq', 'oh dear pup died 1 1 last night perhaps princess rejected', 'find hard believe apparently still winter part world http co ybm2melwb9', 'evil satanic sect god prevail http co 27njqm9lap', 'final thought opportunity serve people alabama congress thank honor http co doulgmnzpc', '@puremanhattan let improve aca extend coverage trumpcare exact opposite', 'going 30 month ugh', 'rt @continuumio often orgs use #datascience survey say 60 use daily weekly stats http co sypfltd u2026', 'howard stern fan siriusxm streaming big birthday bash special free nshow start 6pm et toda u2026http co uxdp2yvgxh', 'incidentally seen friend @kenlacovara @tedtalks amazeballs http co zmqivyq6jm', '@iam chico dancing whole time kaseem jamal jones energy last night', 'something got eye itchy aw', 'enter perfect bracket win either @thecousinsal home 1 million cash', 'comforting word trump usually http co 4zdq20wpik', 'best night ever involved week supply ketamine cast gimme gimme gimme starsailor concert', 'rt @billboardbiz 4 000 songwriter sign nmpa petition copyright royalty rate hearing heat http co qlav7pflvh', '@eliza mcnitt fistful star experience us film #vr get audience immersed science space #sxsw http co dhlvqlhuq5', 'rt @stinalu boutin article immigration ban hackathon went little back http co 81eieoxm5e @hacktheban', 'showered get dressed late shift lollypop', 'awake twitter dozing', 'birthday today feel old', 'soulja boy tell em big soulja official music video http co eyynhpn0yc via @youtube', '@dominiccapuano3 best friend right', '@kingbuggz 1 donkmaster autoextremes shit laughin day every u2026 http co f7ohw5gkoq', 'wish dunkin donut holland today mom back japan wait see', 'food discussion @ministryoftest #munich #testerstammtisch http co bep6cevpce', 'right got stinking headache need run happy bunny', 'almost finished new moon work tomorrow would totally finish tonight', 'rt @ccacoalition 2 7 million preterm birth per year linked exposure pm 2 5 #airpollution find new @seiresearch study http c u2026status id str none place none retweeted false', 'left head phone died morning 1 head phone keep company journey', 'new iphone yay restoring backup stupid apple', 'woken mom cant get sleep', 'tony changed much change', '46 follower none acknowledge', 'everyone celebrating holi week fun joyous amp colourful festival holi hai http co x0p6yknbvm', 'rt @lukester springing forward happen 4pm est monday call happiest hour turn party', 'data science team sport amp opportunity n ngoing forward find @dpatil ke', 'sitting home im bored keep hearing really weird noise downstairs kinda creepy', 'rt @cnn school apologizes fifth grader asked make slave auction poster http co d61kjobj6h http co fnrlvx8ag4', 'fed bokkie many birthday treat sicko']\n"
     ]
    }
   ],
   "source": [
    "\n",
    "stemmer = PorterStemmer()\n",
    "lemmatizer=WordNetLemmatizer() \n",
    "import re\n",
    "corpus = []\n",
    "for i in range(0, len(df)):\n",
    "    if isinstance(df['tweet'][i], str):\n",
    "        review = re.sub('[^a-zA-Z@#0-9 ]' ,' ', df['tweet'][i])\n",
    "        review = review.lower()\n",
    "        review = review.split()\n",
    "        review = [lemmatizer.lemmatize(word) for word in review if not word in stopwords.words('english')]\n",
    "        review = ' '.join(review)\n",
    "        corpus.append(review)\n",
    "print(corpus)"
   ]
  },
  {
   "cell_type": "markdown",
   "id": "bcf36f6a",
   "metadata": {},
   "source": [
    "# CountVectorizer"
   ]
  },
  {
   "cell_type": "code",
   "execution_count": 81,
   "id": "4bdbdcab",
   "metadata": {},
   "outputs": [
    {
     "data": {
      "text/plain": [
       "array([[0, 0, 0, ..., 0, 0, 0],\n",
       "       [0, 0, 0, ..., 0, 0, 0],\n",
       "       [0, 0, 0, ..., 0, 0, 0],\n",
       "       ...,\n",
       "       [0, 0, 0, ..., 0, 0, 0],\n",
       "       [0, 0, 0, ..., 0, 0, 0],\n",
       "       [0, 0, 0, ..., 0, 0, 0]], dtype=int64)"
      ]
     },
     "execution_count": 81,
     "metadata": {},
     "output_type": "execute_result"
    }
   ],
   "source": [
    "from sklearn.feature_extraction.text import CountVectorizer\n",
    "cv = CountVectorizer(max_features = 3500)\n",
    "X = cv.fit_transform(corpus).toarray()\n",
    "X"
   ]
  },
  {
   "cell_type": "markdown",
   "id": "85428b48",
   "metadata": {},
   "source": [
    "# Feature Selection"
   ]
  },
  {
   "cell_type": "code",
   "execution_count": 82,
   "id": "e7ea4dea",
   "metadata": {},
   "outputs": [],
   "source": [
    "y = df[features].iloc[:,-1]"
   ]
  },
  {
   "cell_type": "code",
   "execution_count": 83,
   "id": "2fb2d226",
   "metadata": {},
   "outputs": [
    {
     "data": {
      "text/plain": [
       "0       1\n",
       "1       1\n",
       "2       1\n",
       "3       1\n",
       "4       1\n",
       "       ..\n",
       "2193    0\n",
       "2194    0\n",
       "2195    0\n",
       "2196    0\n",
       "2197    0\n",
       "Name: bot, Length: 2198, dtype: int64"
      ]
     },
     "execution_count": 83,
     "metadata": {},
     "output_type": "execute_result"
    }
   ],
   "source": [
    "y"
   ]
  },
  {
   "cell_type": "code",
   "execution_count": 84,
   "id": "9e4412cb",
   "metadata": {},
   "outputs": [],
   "source": [
    "import pickle\n",
    "# Creating a pickle file for the CountVectorizer\n",
    "pickle.dump(cv, open('cv-transform.pkl', 'wb'))"
   ]
  },
  {
   "cell_type": "markdown",
   "id": "7a05334a",
   "metadata": {},
   "source": [
    "# Split Data into Test and Train"
   ]
  },
  {
   "cell_type": "code",
   "execution_count": 85,
   "id": "f2332553",
   "metadata": {},
   "outputs": [],
   "source": [
    "X = df[features].iloc[:,5:-1]\n",
    "from sklearn.model_selection import train_test_split\n",
    "X_train, X_test, y_train, y_test = train_test_split(X, y, test_size = 0.24, random_state = 42)\n"
   ]
  },
  {
   "cell_type": "markdown",
   "id": "6b9a6baf",
   "metadata": {},
   "source": [
    "# Multinomial Navie Bayes"
   ]
  },
  {
   "cell_type": "code",
   "execution_count": 86,
   "id": "4bf3c776",
   "metadata": {},
   "outputs": [
    {
     "name": "stdout",
     "output_type": "stream",
     "text": [
      "Training accuracy Score    :  0.8015776699029126\n",
      "Validation accuracy Score :  0.7963636363636364\n",
      "              precision    recall  f1-score   support\n",
      "\n",
      "           0       0.47      0.88      0.61       100\n",
      "           1       0.97      0.78      0.86       450\n",
      "\n",
      "    accuracy                           0.80       550\n",
      "   macro avg       0.72      0.83      0.74       550\n",
      "weighted avg       0.88      0.80      0.82       550\n",
      "\n"
     ]
    }
   ],
   "source": [
    "import numpy as np\n",
    "from sklearn.naive_bayes import MultinomialNB\n",
    "from sklearn.metrics import accuracy_score, classification_report\n",
    "from sklearn.model_selection import train_test_split\n",
    "from sklearn.feature_extraction.text import CountVectorizer\n",
    "\n",
    "# Assuming your data is in a DataFrame called df\n",
    "X = np.concatenate((df[['followers_count', 'friends_count', 'statuses_count']].values, cv.fit_transform(df['tweet']).toarray()), axis=1)\n",
    "y = df['bot'].values\n",
    "\n",
    "# Split the data into training and testing sets\n",
    "X_train, X_test, y_train, y_test = train_test_split(X, y, test_size=0.25, random_state=42)\n",
    "\n",
    "# Train Naive Bayes model\n",
    "mnb = MultinomialNB(alpha=0.8)\n",
    "mnb.fit(X_train, y_train)\n",
    "\n",
    "y_pred_mnb=mnb.predict(X_test)\n",
    "mnb_accuracy = accuracy_score(y_test,y_pred_mnb)\n",
    "print(\"Training accuracy Score    : \",mnb.score(X_train,y_train))\n",
    "print(\"Validation accuracy Score : \",mnb_accuracy )\n",
    "print(classification_report(y_pred_mnb,y_test))\n",
    "\n",
    "\n"
   ]
  },
  {
   "cell_type": "code",
   "execution_count": 87,
   "id": "1d4fdc2b",
   "metadata": {},
   "outputs": [
    {
     "data": {
      "text/plain": [
       "'# Get user input\\nfollowers_count = int(input(\"Enter number of followers: \"))\\nfriends_count = int(input(\"Enter number of friends: \"))\\nstatuses_count = int(input(\"Enter number of statuses: \"))\\ntweet = input(\"Enter the tweet text: \")\\n\\n# Preprocess user input\\nuser_input = np.concatenate((np.array([followers_count, friends_count, statuses_count]).reshape(1, -1), cv.transform([tweet]).toarray()), axis=1)\\n\\n# Make prediction on user input\\nprediction = mnb.predict(user_input)\\n\\nif(prediction==1):\\n    print(\"Bot\")\\nelse:\\n    print(\"Human\")\\n#print(\"Prediction: \", prediction)'"
      ]
     },
     "execution_count": 87,
     "metadata": {},
     "output_type": "execute_result"
    }
   ],
   "source": [
    "\"\"\"# Get user input\n",
    "followers_count = int(input(\"Enter number of followers: \"))\n",
    "friends_count = int(input(\"Enter number of friends: \"))\n",
    "statuses_count = int(input(\"Enter number of statuses: \"))\n",
    "tweet = input(\"Enter the tweet text: \")\n",
    "\n",
    "# Preprocess user input\n",
    "user_input = np.concatenate((np.array([followers_count, friends_count, statuses_count]).reshape(1, -1), cv.transform([tweet]).toarray()), axis=1)\n",
    "\n",
    "# Make prediction on user input\n",
    "prediction = mnb.predict(user_input)\n",
    "\n",
    "if(prediction==1):\n",
    "    print(\"Bot\")\n",
    "else:\n",
    "    print(\"Human\")\n",
    "#print(\"Prediction: \", prediction)\"\"\"\n"
   ]
  },
  {
   "cell_type": "markdown",
   "id": "ab59f6de",
   "metadata": {},
   "source": [
    "# Bernoulli Navie Bayes"
   ]
  },
  {
   "cell_type": "code",
   "execution_count": 88,
   "id": "9dcd9df7",
   "metadata": {},
   "outputs": [
    {
     "name": "stdout",
     "output_type": "stream",
     "text": [
      "Training accuracy Score    :  0.9205097087378641\n",
      "Validation accuracy Score :  0.7963636363636364\n",
      "              precision    recall  f1-score   support\n",
      "\n",
      "           0       0.47      0.88      0.61       100\n",
      "           1       0.97      0.78      0.86       450\n",
      "\n",
      "    accuracy                           0.80       550\n",
      "   macro avg       0.72      0.83      0.74       550\n",
      "weighted avg       0.88      0.80      0.82       550\n",
      "\n"
     ]
    }
   ],
   "source": [
    "from sklearn.naive_bayes import BernoulliNB\n",
    "\n",
    "from sklearn.metrics import accuracy_score, classification_report\n",
    "from sklearn.model_selection import train_test_split\n",
    "from sklearn.feature_extraction.text import CountVectorizer\n",
    "\n",
    "# Assuming your data is in a DataFrame called df\n",
    "X = np.concatenate((df[['followers_count', 'friends_count', 'statuses_count']].values, cv.fit_transform(df['tweet']).toarray()), axis=1)\n",
    "y = df['bot'].values\n",
    "\n",
    "# Split the data into training and testing sets\n",
    "X_train, X_test, y_train, y_test = train_test_split(X, y, test_size=0.25, random_state=42)\n",
    "\n",
    "bnb = BernoulliNB(alpha=0.5)\n",
    "bnb.fit(X_train,y_train)\n",
    "y_pred_bnb=mnb.predict(X_test)\n",
    "bnb_accuracy = accuracy_score(y_test,y_pred_bnb)\n",
    "print(\"Training accuracy Score    : \",bnb.score(X_train,y_train))\n",
    "print(\"Validation accuracy Score : \",bnb_accuracy )\n",
    "print(classification_report(y_pred_bnb,y_test))"
   ]
  },
  {
   "cell_type": "code",
   "execution_count": 89,
   "id": "1d11de28",
   "metadata": {},
   "outputs": [
    {
     "data": {
      "text/plain": [
       "'# Get user input\\nfollowers_count = int(input(\"Enter number of followers: \"))\\nfriends_count = int(input(\"Enter number of friends: \"))\\nstatuses_count = int(input(\"Enter number of statuses: \"))\\ntweet = input(\"Enter the tweet text: \")\\n\\n# Preprocess user input\\nuser_input = np.concatenate((np.array([followers_count, friends_count, statuses_count]).reshape(1, -1), cv.transform([tweet]).toarray()), axis=1)\\n\\n# Make prediction on user input\\nprediction = bnb.predict(user_input)\\n\\nif(prediction==1):\\n    print(\"Bot\")\\nelse:\\n    print(\"Human\")\\n#print(\"Prediction: \", prediction)\\n'"
      ]
     },
     "execution_count": 89,
     "metadata": {},
     "output_type": "execute_result"
    }
   ],
   "source": [
    "\"\"\"# Get user input\n",
    "followers_count = int(input(\"Enter number of followers: \"))\n",
    "friends_count = int(input(\"Enter number of friends: \"))\n",
    "statuses_count = int(input(\"Enter number of statuses: \"))\n",
    "tweet = input(\"Enter the tweet text: \")\n",
    "\n",
    "# Preprocess user input\n",
    "user_input = np.concatenate((np.array([followers_count, friends_count, statuses_count]).reshape(1, -1), cv.transform([tweet]).toarray()), axis=1)\n",
    "\n",
    "# Make prediction on user input\n",
    "prediction = bnb.predict(user_input)\n",
    "\n",
    "if(prediction==1):\n",
    "    print(\"Bot\")\n",
    "else:\n",
    "    print(\"Human\")\n",
    "#print(\"Prediction: \", prediction)\n",
    "\"\"\""
   ]
  },
  {
   "cell_type": "markdown",
   "id": "e9b853a0",
   "metadata": {},
   "source": [
    "# RandomForestClassifier"
   ]
  },
  {
   "cell_type": "code",
   "execution_count": 90,
   "id": "601ab9aa",
   "metadata": {},
   "outputs": [],
   "source": [
    "#multinomial Navie Bayes model\n",
    "filename = 'bot-model.pkl'\n",
    "pickle.dump(mnb, open(filename, 'wb'))"
   ]
  },
  {
   "cell_type": "code",
   "execution_count": 91,
   "id": "c32dc861",
   "metadata": {},
   "outputs": [
    {
     "name": "stdout",
     "output_type": "stream",
     "text": [
      "Training accuracy Score    :  1.0\n",
      "Validation accuracy Score :  0.8527272727272728\n",
      "              precision    recall  f1-score   support\n",
      "\n",
      "           0       0.67      0.87      0.76       145\n",
      "           1       0.95      0.85      0.89       405\n",
      "\n",
      "    accuracy                           0.85       550\n",
      "   macro avg       0.81      0.86      0.83       550\n",
      "weighted avg       0.87      0.85      0.86       550\n",
      "\n"
     ]
    }
   ],
   "source": [
    "from sklearn.ensemble import RandomForestClassifier\n",
    "\n",
    "from sklearn.metrics import accuracy_score, classification_report\n",
    "from sklearn.model_selection import train_test_split\n",
    "from sklearn.feature_extraction.text import CountVectorizer\n",
    "\n",
    "# Assuming your data is in a DataFrame called df\n",
    "X = np.concatenate((df[['followers_count', 'friends_count', 'statuses_count']].values, cv.fit_transform(df['tweet']).toarray()), axis=1)\n",
    "y = df['bot'].values\n",
    "\n",
    "# Split the data into training and testing sets\n",
    "X_train, X_test, y_train, y_test = train_test_split(X, y, test_size=0.25, random_state=42)\n",
    "\n",
    "rf_clf = RandomForestClassifier()\n",
    "rf_clf.fit(X_train,y_train)\n",
    "rf_prediction = rf_clf.predict(X_test)\n",
    "rf_accuracy = accuracy_score(y_test,rf_prediction)\n",
    "print(\"Training accuracy Score    : \",rf_clf.score(X_train,y_train))\n",
    "print(\"Validation accuracy Score : \",rf_accuracy )\n",
    "print(classification_report(rf_prediction,y_test))"
   ]
  },
  {
   "cell_type": "code",
   "execution_count": 92,
   "id": "b8cb1c86",
   "metadata": {},
   "outputs": [
    {
     "data": {
      "text/plain": [
       "'\\n# Get user input\\nfollowers_count = int(input(\"Enter number of followers: \"))\\nfriends_count = int(input(\"Enter number of friends: \"))\\nstatuses_count = int(input(\"Enter number of statuses: \"))\\ntweet = input(\"Enter the tweet text: \")\\n\\n# Preprocess user input\\nuser_input = np.concatenate((np.array([followers_count, friends_count, statuses_count]).reshape(1, -1), cv.transform([tweet]).toarray()), axis=1)\\n\\n# Make prediction on user input\\nprediction = rf_clf.predict(user_input)\\n\\nif(prediction==1):\\n    print(\"Bot\")\\nelse:\\n    print(\"Human\")\\n#print(\"Prediction: \", prediction)\\n'"
      ]
     },
     "execution_count": 92,
     "metadata": {},
     "output_type": "execute_result"
    }
   ],
   "source": [
    "\"\"\"\n",
    "# Get user input\n",
    "followers_count = int(input(\"Enter number of followers: \"))\n",
    "friends_count = int(input(\"Enter number of friends: \"))\n",
    "statuses_count = int(input(\"Enter number of statuses: \"))\n",
    "tweet = input(\"Enter the tweet text: \")\n",
    "\n",
    "# Preprocess user input\n",
    "user_input = np.concatenate((np.array([followers_count, friends_count, statuses_count]).reshape(1, -1), cv.transform([tweet]).toarray()), axis=1)\n",
    "\n",
    "# Make prediction on user input\n",
    "prediction = rf_clf.predict(user_input)\n",
    "\n",
    "if(prediction==1):\n",
    "    print(\"Bot\")\n",
    "else:\n",
    "    print(\"Human\")\n",
    "#print(\"Prediction: \", prediction)\n",
    "\"\"\""
   ]
  },
  {
   "cell_type": "code",
   "execution_count": 93,
   "id": "e2cfda31",
   "metadata": {},
   "outputs": [
    {
     "data": {
      "image/png": "[encoded data removed]",
      "text/plain": [
       "<Figure size 432x288 with 1 Axes>"
      ]
     },
     "metadata": {
      "needs_background": "light"
     },
     "output_type": "display_data"
    }
   ],
   "source": [
    "from sklearn.metrics import classification_report\n",
    "import matplotlib.pyplot as plt\n",
    "import numpy as np\n",
    "\n",
    "# Create the classification report\n",
    "report = classification_report(y_test, rf_prediction, output_dict=True)\n",
    "\n",
    "# Extract the precision, recall, and F1-score for each class\n",
    "classes = list(report.keys())[:-3]\n",
    "metrics = [\"precision\", \"recall\", \"f1-score\"]\n",
    "scores = np.zeros((len(classes), len(metrics)))\n",
    "for i, c in enumerate(classes):\n",
    "    for j, m in enumerate(metrics):\n",
    "        scores[i, j] = report[c][m]\n",
    "\n",
    "# Create the bar chart\n",
    "x = np.arange(len(classes)) * 3\n",
    "fig, ax = plt.subplots()\n",
    "for j, m in enumerate(metrics):\n",
    "    ax.bar(x - 1 + j, scores[:, j], width=0.8/len(metrics), label=m)\n",
    "ax.set_xticks(x)\n",
    "ax.set_xticklabels(classes)\n",
    "ax.set_xlabel(\"RandomForest - Precision & Recall\")\n",
    "ax.set_ylim([0, 1])\n",
    "ax.legend()\n",
    "plt.show()\n"
   ]
  },
  {
   "cell_type": "code",
   "execution_count": 94,
   "id": "025db356",
   "metadata": {},
   "outputs": [
    {
     "data": {
      "text/plain": [
       "array([1, 1, 1, 0, 1, 0, 1, 1, 1, 1, 0, 1, 0, 1, 1, 1, 1, 1, 0, 1, 0, 1,\n",
       "       1, 1, 1, 1, 0, 1, 0, 1, 0, 1, 0, 1, 0, 1, 1, 1, 0, 1, 1, 1, 1, 1,\n",
       "       1, 0, 1, 0, 0, 1, 1, 0, 1, 1, 1, 0, 1, 0, 1, 1, 1, 1, 0, 1, 1, 1,\n",
       "       1, 1, 1, 1, 1, 1, 1, 1, 1, 1, 0, 1, 1, 1, 0, 1, 1, 0, 0, 1, 1, 1,\n",
       "       1, 1, 1, 1, 0, 1, 1, 0, 1, 1, 1, 1, 1, 1, 0, 1, 0, 1, 1, 1, 1, 0,\n",
       "       1, 0, 1, 0, 1, 1, 1, 1, 0, 1, 1, 1, 0, 0, 1, 1, 1, 1, 1, 1, 1, 1,\n",
       "       0, 1, 1, 1, 1, 1, 0, 0, 1, 0, 0, 1, 1, 1, 1, 0, 1, 1, 0, 0, 1, 1,\n",
       "       1, 0, 1, 0, 1, 1, 1, 1, 1, 0, 1, 1, 1, 1, 1, 1, 1, 0, 1, 1, 1, 1,\n",
       "       1, 1, 0, 1, 1, 1, 1, 1, 1, 1, 1, 1, 1, 0, 0, 0, 1, 0, 0, 1, 0, 1,\n",
       "       1, 1, 1, 1, 1, 1, 1, 1, 1, 0, 1, 1, 1, 1, 0, 1, 1, 1, 1, 1, 0, 1,\n",
       "       1, 1, 1, 1, 1, 0, 0, 1, 1, 1, 1, 1, 0, 1, 1, 1, 1, 1, 1, 0, 0, 1,\n",
       "       1, 0, 1, 0, 0, 0, 1, 1, 0, 0, 1, 0, 1, 1, 1, 1, 1, 1, 1, 1, 1, 1,\n",
       "       1, 0, 1, 0, 1, 1, 1, 1, 1, 1, 0, 1, 1, 1, 1, 1, 1, 1, 1, 1, 0, 1,\n",
       "       1, 1, 1, 0, 1, 1, 1, 0, 1, 0, 0, 1, 1, 1, 0, 0, 1, 1, 1, 1, 0, 1,\n",
       "       1, 0, 1, 0, 0, 1, 0, 1, 0, 0, 0, 1, 1, 0, 1, 0, 1, 1, 0, 1, 1, 1,\n",
       "       1, 1, 1, 0, 1, 0, 0, 1, 1, 1, 1, 1, 1, 1, 0, 1, 1, 1, 0, 0, 1, 0,\n",
       "       0, 1, 0, 1, 1, 1, 1, 1, 1, 0, 1, 1, 1, 1, 1, 0, 1, 1, 0, 1, 1, 0,\n",
       "       1, 1, 1, 1, 1, 1, 0, 1, 0, 0, 1, 1, 0, 1, 0, 1, 1, 1, 0, 1, 0, 1,\n",
       "       1, 0, 1, 0, 1, 1, 1, 1, 0, 1, 1, 0, 1, 1, 1, 1, 0, 1, 1, 0, 1, 1,\n",
       "       1, 1, 1, 1, 1, 1, 1, 1, 0, 1, 1, 1, 1, 0, 1, 1, 1, 1, 1, 1, 1, 0,\n",
       "       1, 1, 1, 1, 0, 0, 1, 1, 1, 0, 1, 0, 1, 1, 1, 0, 1, 1, 1, 1, 1, 1,\n",
       "       1, 1, 1, 0, 0, 1, 0, 1, 1, 0, 1, 1, 1, 1, 1, 1, 1, 1, 1, 0, 0, 1,\n",
       "       1, 0, 0, 1, 0, 1, 1, 1, 1, 1, 1, 1, 1, 0, 1, 1, 1, 1, 0, 1, 1, 0,\n",
       "       0, 1, 1, 1, 0, 0, 0, 1, 1, 1, 1, 0, 1, 1, 1, 0, 1, 1, 1, 1, 1, 1,\n",
       "       1, 1, 1, 1, 1, 0, 1, 1, 1, 1, 0, 1, 1, 1, 1, 0, 0, 1, 1, 1, 0, 1],\n",
       "      dtype=int64)"
      ]
     },
     "execution_count": 94,
     "metadata": {},
     "output_type": "execute_result"
    }
   ],
   "source": [
    "import joblib\n",
    "joblib.dump(rf_clf, 'RFC-20%.pkl')\n",
    "RFCjoblib = joblib.load('RFC-20%.pkl')\n",
    "RFCjoblib.predict(X_test)"
   ]
  },
  {
   "cell_type": "markdown",
   "id": "7ebb732a",
   "metadata": {},
   "source": [
    "# LogisticRegression"
   ]
  },
  {
   "cell_type": "code",
   "execution_count": 95,
   "id": "dba57223",
   "metadata": {},
   "outputs": [],
   "source": [
    "from sklearn.linear_model import LogisticRegression"
   ]
  },
  {
   "cell_type": "code",
   "execution_count": 96,
   "id": "407ffbcc",
   "metadata": {},
   "outputs": [
    {
     "name": "stdout",
     "output_type": "stream",
     "text": [
      "Training accuracy Score    :  0.7942961165048543\n",
      "Validation accuracy Score :  0.7872727272727272\n",
      "              precision    recall  f1-score   support\n",
      "\n",
      "           0       0.43      0.89      0.58        91\n",
      "           1       0.97      0.77      0.86       459\n",
      "\n",
      "    accuracy                           0.79       550\n",
      "   macro avg       0.70      0.83      0.72       550\n",
      "weighted avg       0.88      0.79      0.81       550\n",
      "\n"
     ]
    }
   ],
   "source": [
    "from sklearn.metrics import accuracy_score, classification_report\n",
    "from sklearn.model_selection import train_test_split\n",
    "from sklearn.feature_extraction.text import CountVectorizer\n",
    "\n",
    "# Assuming your data is in a DataFrame called df\n",
    "X = np.concatenate((df[['followers_count', 'friends_count', 'statuses_count']].values, cv.fit_transform(df['tweet']).toarray()), axis=1)\n",
    "y = df['bot'].values\n",
    "\n",
    "# Split the data into training and testing sets\n",
    "X_train, X_test, y_train, y_test = train_test_split(X, y, test_size=0.25, random_state=42)\n",
    "\n",
    "LR_clf = LogisticRegression()\n",
    "LR_clf.fit(X_train,y_train)\n",
    "\n",
    "LR_pred = LR_clf.predict(X_test)\n",
    "LR_accuracy = accuracy_score(y_test,LR_pred)\n",
    "print(\"Training accuracy Score    : \",LR_clf.score(X_train,y_train))\n",
    "print(\"Validation accuracy Score : \",LR_accuracy )\n",
    "print(classification_report(LR_pred,y_test))"
   ]
  },
  {
   "cell_type": "code",
   "execution_count": 97,
   "id": "b09309d3",
   "metadata": {},
   "outputs": [
    {
     "data": {
      "text/plain": [
       "'\\n# Get user input\\nfollowers_count = int(input(\"Enter number of followers: \"))\\nfriends_count = int(input(\"Enter number of friends: \"))\\nstatuses_count = int(input(\"Enter number of statuses: \"))\\ntweet = input(\"Enter the tweet text: \")\\n\\n# Preprocess user input\\nuser_input = np.concatenate((np.array([followers_count, friends_count, statuses_count]).reshape(1, -1), cv.transform([tweet]).toarray()), axis=1)\\n\\n# Make prediction on user input\\nprediction = LR_clf.predict(user_input)\\n\\nif(prediction==1):\\n    print(\"Bot\")\\nelse:\\n    print(\"Human\")\\n#print(\"Prediction: \", prediction)\\n'"
      ]
     },
     "execution_count": 97,
     "metadata": {},
     "output_type": "execute_result"
    }
   ],
   "source": [
    "\"\"\"\n",
    "# Get user input\n",
    "followers_count = int(input(\"Enter number of followers: \"))\n",
    "friends_count = int(input(\"Enter number of friends: \"))\n",
    "statuses_count = int(input(\"Enter number of statuses: \"))\n",
    "tweet = input(\"Enter the tweet text: \")\n",
    "\n",
    "# Preprocess user input\n",
    "user_input = np.concatenate((np.array([followers_count, friends_count, statuses_count]).reshape(1, -1), cv.transform([tweet]).toarray()), axis=1)\n",
    "\n",
    "# Make prediction on user input\n",
    "prediction = LR_clf.predict(user_input)\n",
    "\n",
    "if(prediction==1):\n",
    "    print(\"Bot\")\n",
    "else:\n",
    "    print(\"Human\")\n",
    "#print(\"Prediction: \", prediction)\n",
    "\"\"\""
   ]
  },
  {
   "cell_type": "code",
   "execution_count": 98,
   "id": "c0bfca07",
   "metadata": {},
   "outputs": [
    {
     "data": {
      "image/png": "[encoded data removed]",
      "text/plain": [
       "<Figure size 432x288 with 1 Axes>"
      ]
     },
     "metadata": {
      "needs_background": "light"
     },
     "output_type": "display_data"
    }
   ],
   "source": [
    "from sklearn.metrics import classification_report\n",
    "import matplotlib.pyplot as plt\n",
    "import numpy as np\n",
    "\n",
    "# Create the classification report\n",
    "report = classification_report(y_test, LR_pred, output_dict=True)\n",
    "\n",
    "# Extract the precision, recall, and F1-score for each class\n",
    "classes = list(report.keys())[:-3]\n",
    "metrics = [\"precision\", \"recall\", \"f1-score\"]\n",
    "scores = np.zeros((len(classes), len(metrics)))\n",
    "for i, c in enumerate(classes):\n",
    "    for j, m in enumerate(metrics):\n",
    "        scores[i, j] = report[c][m]\n",
    "\n",
    "# Create the bar chart\n",
    "x = np.arange(len(classes)) * 3\n",
    "fig, ax = plt.subplots()\n",
    "for j, m in enumerate(metrics):\n",
    "    ax.bar(x - 1 + j, scores[:, j], width=0.8/len(metrics), label=m)\n",
    "ax.set_xticks(x)\n",
    "ax.set_xticklabels(classes)\n",
    "ax.set_xlabel(\"LogisticRegression - Precision & Recall\")\n",
    "ax.set_ylim([0, 1])\n",
    "ax.legend()\n",
    "plt.show()\n"
   ]
  },
  {
   "cell_type": "code",
   "execution_count": 99,
   "id": "90bb34ec",
   "metadata": {},
   "outputs": [
    {
     "data": {
      "text/plain": [
       "array([1, 1, 1, 0, 1, 0, 1, 1, 1, 1, 0, 1, 0, 1, 1, 1, 1, 1, 0, 1, 0, 1,\n",
       "       1, 1, 1, 1, 0, 1, 0, 1, 0, 1, 0, 1, 0, 1, 1, 1, 0, 1, 1, 1, 1, 1,\n",
       "       1, 0, 1, 0, 0, 1, 1, 0, 1, 1, 1, 0, 1, 0, 1, 1, 1, 1, 0, 1, 1, 1,\n",
       "       1, 1, 1, 1, 1, 1, 1, 1, 1, 1, 0, 1, 1, 1, 0, 1, 1, 0, 0, 1, 1, 1,\n",
       "       1, 1, 1, 1, 0, 1, 1, 0, 1, 1, 1, 1, 1, 1, 0, 1, 0, 1, 1, 1, 1, 0,\n",
       "       1, 0, 1, 0, 1, 1, 1, 1, 0, 1, 1, 1, 0, 0, 1, 1, 1, 1, 1, 1, 1, 1,\n",
       "       0, 1, 1, 1, 1, 1, 0, 0, 1, 0, 0, 1, 1, 1, 1, 0, 1, 1, 0, 0, 1, 1,\n",
       "       1, 0, 1, 0, 1, 1, 1, 1, 1, 0, 1, 1, 1, 1, 1, 1, 1, 0, 1, 1, 1, 1,\n",
       "       1, 1, 0, 1, 1, 1, 1, 1, 1, 1, 1, 1, 1, 0, 0, 0, 1, 0, 0, 1, 0, 1,\n",
       "       1, 1, 1, 1, 1, 1, 1, 1, 1, 0, 1, 1, 1, 1, 0, 1, 1, 1, 1, 1, 0, 1,\n",
       "       1, 1, 1, 1, 1, 0, 0, 1, 1, 1, 1, 1, 0, 1, 1, 1, 1, 1, 1, 0, 0, 1,\n",
       "       1, 0, 1, 0, 0, 0, 1, 1, 0, 0, 1, 0, 1, 1, 1, 1, 1, 1, 1, 1, 1, 1,\n",
       "       1, 0, 1, 0, 1, 1, 1, 1, 1, 1, 0, 1, 1, 1, 1, 1, 1, 1, 1, 1, 0, 1,\n",
       "       1, 1, 1, 0, 1, 1, 1, 0, 1, 0, 0, 1, 1, 1, 0, 0, 1, 1, 1, 1, 0, 1,\n",
       "       1, 0, 1, 0, 0, 1, 0, 1, 0, 0, 0, 1, 1, 0, 1, 0, 1, 1, 0, 1, 1, 1,\n",
       "       1, 1, 1, 0, 1, 0, 0, 1, 1, 1, 1, 1, 1, 1, 0, 1, 1, 1, 0, 0, 1, 0,\n",
       "       0, 1, 0, 1, 1, 1, 1, 1, 1, 0, 1, 1, 1, 1, 1, 0, 1, 1, 0, 1, 1, 0,\n",
       "       1, 1, 1, 1, 1, 1, 0, 1, 0, 0, 1, 1, 0, 1, 0, 1, 1, 1, 0, 1, 0, 1,\n",
       "       1, 0, 1, 0, 1, 1, 1, 1, 0, 1, 1, 0, 1, 1, 1, 1, 0, 1, 1, 0, 1, 1,\n",
       "       1, 1, 1, 1, 1, 1, 1, 1, 0, 1, 1, 1, 1, 0, 1, 1, 1, 1, 1, 1, 1, 0,\n",
       "       1, 1, 1, 1, 0, 0, 1, 1, 1, 0, 1, 0, 1, 1, 1, 0, 1, 1, 1, 1, 1, 1,\n",
       "       1, 1, 1, 0, 0, 1, 0, 1, 1, 0, 1, 1, 1, 1, 1, 1, 1, 1, 1, 0, 0, 1,\n",
       "       1, 0, 0, 1, 0, 1, 1, 1, 1, 1, 1, 1, 1, 0, 1, 1, 1, 1, 0, 1, 1, 0,\n",
       "       0, 1, 1, 1, 0, 0, 0, 1, 1, 1, 1, 0, 1, 1, 1, 0, 1, 1, 1, 1, 1, 1,\n",
       "       1, 1, 1, 1, 1, 0, 1, 1, 1, 1, 0, 1, 1, 1, 1, 0, 0, 1, 1, 1, 0, 1],\n",
       "      dtype=int64)"
      ]
     },
     "execution_count": 99,
     "metadata": {},
     "output_type": "execute_result"
    }
   ],
   "source": [
    "import joblib\n",
    "joblib.dump(rf_clf, 'LR-30%.pkl')\n",
    "LRjoblib = joblib.load('LR-30%.pkl')\n",
    "LRjoblib.predict(X_test)"
   ]
  },
  {
   "cell_type": "markdown",
   "id": "81523054",
   "metadata": {},
   "source": [
    "# DecisionTreeClassifier"
   ]
  },
  {
   "cell_type": "code",
   "execution_count": 100,
   "id": "868f8ced",
   "metadata": {},
   "outputs": [],
   "source": [
    "from sklearn.tree import DecisionTreeClassifier"
   ]
  },
  {
   "cell_type": "code",
   "execution_count": 101,
   "id": "3dbf627a",
   "metadata": {},
   "outputs": [
    {
     "name": "stdout",
     "output_type": "stream",
     "text": [
      "Training accuracy Score    :  1.0\n",
      "Validation accuracy Score :  0.8327272727272728\n",
      "              precision    recall  f1-score   support\n",
      "\n",
      "           0       0.75      0.76      0.75       186\n",
      "           1       0.88      0.87      0.87       364\n",
      "\n",
      "    accuracy                           0.83       550\n",
      "   macro avg       0.81      0.81      0.81       550\n",
      "weighted avg       0.83      0.83      0.83       550\n",
      "\n"
     ]
    }
   ],
   "source": [
    "from sklearn.metrics import accuracy_score, classification_report\n",
    "from sklearn.model_selection import train_test_split\n",
    "from sklearn.feature_extraction.text import CountVectorizer\n",
    "\n",
    "# Assuming your data is in a DataFrame called df\n",
    "X = np.concatenate((df[['followers_count', 'friends_count', 'statuses_count']].values, cv.fit_transform(df['tweet']).toarray()), axis=1)\n",
    "y = df['bot'].values\n",
    "\n",
    "# Split the data into training and testing sets\n",
    "X_train, X_test, y_train, y_test = train_test_split(X, y, test_size=0.25, random_state=42)\n",
    "\n",
    "\n",
    "DT_clf = DecisionTreeClassifier()\n",
    "DT_clf.fit(X_train,y_train)\n",
    "DT_pred = DT_clf.predict(X_test)\n",
    "DT_accuracy = accuracy_score(y_test,DT_pred)\n",
    "print(\"Training accuracy Score    : \",DT_clf.score(X_train,y_train))\n",
    "print(\"Validation accuracy Score : \",DT_accuracy )\n",
    "print(classification_report(DT_pred,y_test))"
   ]
  },
  {
   "cell_type": "code",
   "execution_count": 102,
   "id": "b2f133e4",
   "metadata": {},
   "outputs": [
    {
     "data": {
      "text/plain": [
       "'\\n# Get user input\\nfollowers_count = int(input(\"Enter number of followers: \"))\\nfriends_count = int(input(\"Enter number of friends: \"))\\nstatuses_count = int(input(\"Enter number of statuses: \"))\\ntweet = input(\"Enter the tweet text: \")\\n\\n# Preprocess user input\\nuser_input = np.concatenate((np.array([followers_count, friends_count, statuses_count]).reshape(1, -1), cv.transform([tweet]).toarray()), axis=1)\\n\\n# Make prediction on user input\\nprediction = DT_clf.predict(user_input)\\n\\nif(prediction==1):\\n    print(\"Bot\")\\nelse:\\n    print(\"Human\")\\n#print(\"Prediction: \", prediction)\\n'"
      ]
     },
     "execution_count": 102,
     "metadata": {},
     "output_type": "execute_result"
    }
   ],
   "source": [
    "\"\"\"\n",
    "# Get user input\n",
    "followers_count = int(input(\"Enter number of followers: \"))\n",
    "friends_count = int(input(\"Enter number of friends: \"))\n",
    "statuses_count = int(input(\"Enter number of statuses: \"))\n",
    "tweet = input(\"Enter the tweet text: \")\n",
    "\n",
    "# Preprocess user input\n",
    "user_input = np.concatenate((np.array([followers_count, friends_count, statuses_count]).reshape(1, -1), cv.transform([tweet]).toarray()), axis=1)\n",
    "\n",
    "# Make prediction on user input\n",
    "prediction = DT_clf.predict(user_input)\n",
    "\n",
    "if(prediction==1):\n",
    "    print(\"Bot\")\n",
    "else:\n",
    "    print(\"Human\")\n",
    "#print(\"Prediction: \", prediction)\n",
    "\"\"\""
   ]
  },
  {
   "cell_type": "code",
   "execution_count": 103,
   "id": "a9457ac0",
   "metadata": {},
   "outputs": [
    {
     "data": {
      "image/png": "[encoded data removed]",
      "text/plain": [
       "<Figure size 432x288 with 1 Axes>"
      ]
     },
     "metadata": {
      "needs_background": "light"
     },
     "output_type": "display_data"
    }
   ],
   "source": [
    "from sklearn.metrics import classification_report\n",
    "import matplotlib.pyplot as plt\n",
    "import numpy as np\n",
    "\n",
    "# Create the classification report\n",
    "report = classification_report(y_test, DT_pred, output_dict=True)\n",
    "\n",
    "# Extract the precision, recall, and F1-score for each class\n",
    "classes = list(report.keys())[:-3]\n",
    "metrics = [\"precision\", \"recall\", \"f1-score\"]\n",
    "scores = np.zeros((len(classes), len(metrics)))\n",
    "for i, c in enumerate(classes):\n",
    "    for j, m in enumerate(metrics):\n",
    "        scores[i, j] = report[c][m]\n",
    "\n",
    "# Create the bar chart\n",
    "x = np.arange(len(classes)) * 3\n",
    "fig, ax = plt.subplots()\n",
    "for j, m in enumerate(metrics):\n",
    "    ax.bar(x - 1 + j, scores[:, j], width=0.8/len(metrics), label=m)\n",
    "ax.set_xticks(x)\n",
    "ax.set_xticklabels(classes)\n",
    "ax.set_xlabel(\"DecisionTree - Precision & Recall\")\n",
    "ax.set_ylim([0, 1])\n",
    "ax.legend()\n",
    "plt.show()"
   ]
  },
  {
   "cell_type": "code",
   "execution_count": 104,
   "id": "3c808cf1",
   "metadata": {},
   "outputs": [
    {
     "data": {
      "text/plain": [
       "array([1, 0, 0, 1, 1, 0, 1, 1, 1, 1, 0, 0, 1, 1, 1, 1, 1, 1, 0, 1, 0, 1,\n",
       "       1, 1, 1, 1, 0, 1, 0, 1, 1, 1, 0, 0, 0, 1, 1, 1, 0, 1, 1, 1, 1, 1,\n",
       "       1, 1, 0, 0, 1, 1, 1, 0, 1, 1, 1, 0, 1, 0, 1, 1, 1, 0, 0, 1, 0, 0,\n",
       "       1, 1, 1, 1, 0, 1, 0, 1, 1, 1, 0, 0, 1, 1, 0, 1, 1, 0, 0, 1, 1, 1,\n",
       "       1, 1, 1, 1, 0, 1, 1, 0, 0, 0, 1, 1, 0, 1, 0, 1, 0, 0, 1, 1, 1, 0,\n",
       "       1, 0, 1, 0, 1, 1, 1, 1, 0, 1, 1, 1, 1, 0, 1, 1, 1, 0, 1, 1, 1, 1,\n",
       "       0, 1, 0, 1, 1, 1, 0, 0, 1, 0, 0, 1, 1, 1, 1, 0, 1, 1, 0, 1, 1, 1,\n",
       "       1, 1, 1, 0, 1, 1, 1, 1, 0, 0, 1, 1, 1, 1, 0, 1, 1, 1, 1, 1, 1, 1,\n",
       "       0, 1, 0, 1, 1, 1, 1, 1, 1, 1, 1, 1, 1, 0, 0, 0, 1, 0, 0, 1, 0, 1,\n",
       "       1, 1, 1, 1, 1, 1, 1, 1, 1, 0, 1, 1, 1, 1, 0, 1, 1, 1, 1, 1, 0, 1,\n",
       "       0, 0, 1, 0, 0, 0, 0, 1, 1, 0, 1, 1, 0, 1, 1, 1, 1, 1, 1, 0, 1, 1,\n",
       "       1, 0, 1, 0, 0, 0, 1, 0, 0, 0, 1, 0, 0, 1, 1, 1, 0, 1, 1, 0, 0, 1,\n",
       "       1, 0, 1, 0, 0, 1, 1, 1, 1, 0, 0, 0, 1, 1, 1, 0, 1, 0, 1, 1, 0, 0,\n",
       "       1, 1, 1, 1, 1, 1, 1, 0, 1, 0, 1, 1, 0, 1, 0, 1, 1, 1, 1, 0, 0, 1,\n",
       "       1, 0, 1, 0, 0, 1, 1, 1, 0, 0, 0, 1, 1, 0, 1, 0, 1, 1, 1, 1, 1, 1,\n",
       "       1, 1, 0, 0, 1, 0, 1, 1, 1, 1, 1, 1, 1, 0, 0, 1, 1, 1, 0, 1, 1, 0,\n",
       "       0, 1, 0, 1, 1, 1, 1, 1, 1, 0, 0, 1, 1, 1, 0, 0, 1, 1, 1, 1, 1, 0,\n",
       "       0, 1, 1, 1, 1, 1, 0, 1, 0, 0, 1, 1, 0, 1, 1, 1, 1, 1, 0, 1, 0, 1,\n",
       "       1, 0, 1, 0, 1, 1, 1, 1, 1, 1, 1, 0, 1, 1, 1, 1, 0, 1, 0, 0, 1, 1,\n",
       "       1, 1, 0, 1, 0, 1, 1, 0, 0, 1, 1, 1, 0, 0, 1, 1, 1, 1, 0, 1, 1, 0,\n",
       "       1, 1, 1, 1, 0, 0, 1, 1, 1, 0, 1, 0, 0, 1, 1, 0, 1, 1, 1, 1, 0, 0,\n",
       "       0, 1, 0, 0, 0, 1, 0, 0, 1, 0, 0, 1, 1, 1, 1, 1, 1, 1, 1, 1, 0, 1,\n",
       "       1, 0, 0, 1, 0, 1, 1, 0, 1, 1, 1, 1, 1, 0, 1, 0, 1, 1, 0, 1, 1, 1,\n",
       "       0, 0, 1, 0, 0, 0, 0, 1, 1, 1, 1, 0, 1, 1, 0, 1, 0, 1, 1, 0, 1, 1,\n",
       "       0, 1, 1, 1, 1, 0, 0, 1, 1, 1, 0, 1, 1, 1, 1, 1, 0, 1, 1, 1, 0, 1],\n",
       "      dtype=int64)"
      ]
     },
     "execution_count": 104,
     "metadata": {},
     "output_type": "execute_result"
    }
   ],
   "source": [
    "import joblib\n",
    "joblib.dump(DT_clf, 'DT-30%.pkl')\n",
    "dtjoblib = joblib.load('DT-30%.pkl')\n",
    "dtjoblib.predict(X_test)"
   ]
  },
  {
   "cell_type": "markdown",
   "id": "f1bfe0e4",
   "metadata": {},
   "source": [
    "# Support Vector Machine (SVM) "
   ]
  },
  {
   "cell_type": "code",
   "execution_count": 105,
   "id": "f5b59a71",
   "metadata": {},
   "outputs": [
    {
     "data": {
      "text/plain": [
       "array([[   14,     0,   129, ...,     0,     0,     0],\n",
       "       [  115,    93,   126, ...,     0,     0,     0],\n",
       "       [  280,    48,  4722, ...,     0,     0,     0],\n",
       "       ...,\n",
       "       [  236,     0,  2821, ...,     0,     0,     0],\n",
       "       [  260,     0, 25155, ...,     0,     0,     0],\n",
       "       [ 2339,     1,  3625, ...,     0,     0,     0]], dtype=int64)"
      ]
     },
     "execution_count": 105,
     "metadata": {},
     "output_type": "execute_result"
    }
   ],
   "source": [
    "X_train"
   ]
  },
  {
   "cell_type": "code",
   "execution_count": 106,
   "id": "d5486562",
   "metadata": {},
   "outputs": [
    {
     "data": {
      "text/plain": [
       "array([1, 0, 1, ..., 1, 1, 1], dtype=int64)"
      ]
     },
     "execution_count": 106,
     "metadata": {},
     "output_type": "execute_result"
    }
   ],
   "source": [
    "y_train"
   ]
  },
  {
   "cell_type": "code",
   "execution_count": 107,
   "id": "220e4fc7",
   "metadata": {},
   "outputs": [
    {
     "name": "stdout",
     "output_type": "stream",
     "text": [
      "Training accuracy Score    :  0.7402912621359223\n",
      "Validation accuracy Score :  0.7490909090909091\n",
      "              precision    recall  f1-score   support\n",
      "\n",
      "           0       0.28      0.95      0.43        56\n",
      "           1       0.99      0.73      0.84       494\n",
      "\n",
      "    accuracy                           0.75       550\n",
      "   macro avg       0.64      0.84      0.64       550\n",
      "weighted avg       0.92      0.75      0.80       550\n",
      "\n"
     ]
    }
   ],
   "source": [
    "from sklearn.svm import SVC\n",
    "from sklearn.model_selection import train_test_split\n",
    "from sklearn.metrics import accuracy_score, classification_report\n",
    "from sklearn.model_selection import train_test_split\n",
    "from sklearn.feature_extraction.text import CountVectorizer\n",
    "\n",
    "# Assuming your data is in a DataFrame called df\n",
    "X = np.concatenate((df[['followers_count', 'friends_count', 'statuses_count']].values, cv.fit_transform(df['tweet']).toarray()), axis=1)\n",
    "y = df['bot'].values\n",
    "\n",
    "# Split the data into training and testing sets\n",
    "X_train, X_test, y_train, y_test = train_test_split(X, y, test_size=0.25, random_state=42)\n",
    "\n",
    "svm_clf = SVC()\n",
    "svm_clf.fit(X_train,y_train)\n",
    "svm_pred = svm_clf.predict(X_test)\n",
    "svm_accuracy = accuracy_score(y_test,svm_pred)\n",
    "print(\"Training accuracy Score    : \",svm_clf.score(X_train,y_train))\n",
    "print(\"Validation accuracy Score : \",svm_accuracy )\n",
    "print(classification_report(svm_pred,y_test))"
   ]
  },
  {
   "cell_type": "code",
   "execution_count": 108,
   "id": "00445666",
   "metadata": {},
   "outputs": [
    {
     "data": {
      "text/plain": [
       "'\\n# Get user input\\nfollowers_count = int(input(\"Enter number of followers: \"))\\nfriends_count = int(input(\"Enter number of friends: \"))\\nstatuses_count = int(input(\"Enter number of statuses: \"))\\ntweet = input(\"Enter the tweet text: \")\\n\\n# Preprocess user input\\nuser_input = np.concatenate((np.array([followers_count, friends_count, statuses_count]).reshape(1, -1), cv.transform([tweet]).toarray()), axis=1)\\n\\n# Make prediction on user input\\nprediction = svm_clf.predict(user_input)\\n\\nif(prediction==1):\\n    print(\"Bot\")\\nelse:\\n    print(\"Human\")\\n#print(\"Prediction: \", prediction)\\n'"
      ]
     },
     "execution_count": 108,
     "metadata": {},
     "output_type": "execute_result"
    }
   ],
   "source": [
    "\"\"\"\n",
    "# Get user input\n",
    "followers_count = int(input(\"Enter number of followers: \"))\n",
    "friends_count = int(input(\"Enter number of friends: \"))\n",
    "statuses_count = int(input(\"Enter number of statuses: \"))\n",
    "tweet = input(\"Enter the tweet text: \")\n",
    "\n",
    "# Preprocess user input\n",
    "user_input = np.concatenate((np.array([followers_count, friends_count, statuses_count]).reshape(1, -1), cv.transform([tweet]).toarray()), axis=1)\n",
    "\n",
    "# Make prediction on user input\n",
    "prediction = svm_clf.predict(user_input)\n",
    "\n",
    "if(prediction==1):\n",
    "    print(\"Bot\")\n",
    "else:\n",
    "    print(\"Human\")\n",
    "#print(\"Prediction: \", prediction)\n",
    "\"\"\""
   ]
  },
  {
   "cell_type": "code",
   "execution_count": 109,
   "id": "5310a216",
   "metadata": {},
   "outputs": [
    {
     "data": {
      "image/png": "[encoded data removed]",
      "text/plain": [
       "<Figure size 432x288 with 1 Axes>"
      ]
     },
     "metadata": {
      "needs_background": "light"
     },
     "output_type": "display_data"
    }
   ],
   "source": [
    "from sklearn.metrics import classification_report\n",
    "import matplotlib.pyplot as plt\n",
    "import numpy as np\n",
    "\n",
    "# Create the classification report\n",
    "report = classification_report(y_test, svm_pred, output_dict=True)\n",
    "\n",
    "# Extract the precision, recall, and F1-score for each class\n",
    "classes = list(report.keys())[:-3]\n",
    "metrics = [\"precision\", \"recall\", \"f1-score\"]\n",
    "scores = np.zeros((len(classes), len(metrics)))\n",
    "for i, c in enumerate(classes):\n",
    "    for j, m in enumerate(metrics):\n",
    "        scores[i, j] = report[c][m]\n",
    "\n",
    "# Create the bar chart\n",
    "x = np.arange(len(classes)) * 3\n",
    "fig, ax = plt.subplots()\n",
    "for j, m in enumerate(metrics):\n",
    "    ax.bar(x - 1 + j, scores[:, j], width=0.8/len(metrics), label=m)\n",
    "ax.set_xticks(x)\n",
    "ax.set_xticklabels(classes)\n",
    "ax.set_xlabel(\"Support Vector Machine - Precision & Recall\")\n",
    "ax.set_ylim([0, 1])\n",
    "ax.legend()\n",
    "plt.show()\n"
   ]
  },
  {
   "cell_type": "code",
   "execution_count": 110,
   "id": "c858d1ed",
   "metadata": {},
   "outputs": [
    {
     "data": {
      "text/plain": [
       "array([1, 1, 1, 1, 1, 0, 1, 1, 1, 1, 0, 1, 0, 1, 1, 1, 1, 1, 1, 1, 1, 1,\n",
       "       1, 1, 1, 1, 1, 1, 0, 1, 1, 1, 0, 1, 1, 1, 1, 1, 0, 1, 1, 1, 1, 1,\n",
       "       1, 0, 1, 0, 1, 1, 1, 1, 1, 1, 1, 0, 1, 1, 1, 1, 1, 1, 1, 1, 0, 1,\n",
       "       1, 1, 1, 1, 1, 1, 1, 1, 1, 1, 1, 1, 1, 1, 1, 1, 1, 0, 1, 1, 1, 1,\n",
       "       1, 1, 1, 1, 0, 1, 1, 1, 1, 1, 1, 1, 1, 1, 1, 1, 1, 1, 1, 1, 1, 1,\n",
       "       1, 0, 1, 1, 1, 1, 1, 1, 1, 1, 1, 1, 1, 0, 1, 1, 1, 1, 1, 1, 1, 1,\n",
       "       0, 1, 1, 1, 1, 1, 0, 1, 1, 1, 1, 1, 1, 1, 1, 0, 1, 1, 1, 1, 1, 1,\n",
       "       1, 1, 1, 0, 1, 1, 1, 1, 1, 1, 1, 1, 1, 1, 1, 1, 1, 1, 1, 1, 1, 1,\n",
       "       1, 1, 1, 1, 1, 1, 1, 1, 1, 1, 1, 1, 1, 0, 0, 1, 1, 1, 1, 1, 1, 1,\n",
       "       1, 1, 1, 1, 1, 1, 1, 1, 1, 1, 1, 1, 1, 1, 1, 1, 1, 1, 1, 1, 0, 1,\n",
       "       1, 1, 1, 1, 1, 0, 1, 1, 1, 1, 1, 1, 0, 1, 1, 1, 1, 1, 1, 1, 1, 1,\n",
       "       1, 1, 1, 0, 0, 1, 1, 1, 1, 1, 1, 0, 1, 1, 1, 1, 1, 1, 1, 1, 1, 1,\n",
       "       1, 0, 1, 1, 1, 1, 1, 1, 1, 1, 0, 1, 1, 1, 1, 1, 1, 1, 1, 1, 0, 1,\n",
       "       1, 1, 1, 0, 1, 1, 1, 1, 1, 0, 1, 1, 1, 1, 0, 1, 1, 1, 1, 1, 1, 1,\n",
       "       1, 1, 1, 1, 1, 1, 1, 1, 0, 0, 1, 1, 1, 1, 1, 1, 1, 1, 0, 1, 1, 1,\n",
       "       1, 1, 1, 0, 1, 1, 1, 1, 1, 1, 1, 1, 1, 1, 0, 1, 1, 1, 1, 1, 1, 0,\n",
       "       0, 1, 0, 1, 1, 1, 1, 1, 1, 0, 1, 1, 1, 1, 1, 1, 1, 1, 1, 1, 1, 0,\n",
       "       1, 1, 1, 1, 1, 1, 1, 1, 0, 1, 1, 1, 0, 1, 1, 1, 1, 1, 1, 1, 0, 1,\n",
       "       1, 1, 1, 1, 1, 1, 1, 1, 1, 1, 1, 0, 1, 1, 1, 1, 0, 1, 1, 1, 1, 1,\n",
       "       1, 1, 1, 1, 1, 1, 1, 1, 1, 1, 1, 1, 1, 1, 1, 1, 1, 1, 1, 1, 1, 1,\n",
       "       1, 1, 1, 1, 0, 0, 1, 1, 1, 0, 1, 1, 1, 1, 1, 1, 1, 1, 1, 1, 1, 1,\n",
       "       1, 1, 1, 1, 1, 1, 1, 1, 1, 1, 1, 1, 1, 1, 1, 1, 1, 1, 1, 1, 0, 1,\n",
       "       1, 1, 1, 1, 0, 1, 1, 1, 1, 1, 1, 1, 1, 0, 1, 1, 1, 1, 1, 1, 1, 1,\n",
       "       1, 1, 1, 1, 1, 1, 0, 1, 1, 1, 1, 1, 1, 1, 1, 0, 1, 1, 1, 1, 1, 1,\n",
       "       1, 1, 1, 1, 1, 1, 1, 1, 1, 1, 1, 1, 1, 1, 1, 1, 1, 1, 1, 1, 0, 1],\n",
       "      dtype=int64)"
      ]
     },
     "execution_count": 110,
     "metadata": {},
     "output_type": "execute_result"
    }
   ],
   "source": [
    "import joblib\n",
    "joblib.dump(svm_clf, 'SVC-20%.pkl')\n",
    "svcjoblib = joblib.load('SVC-20%.pkl')\n",
    "svcjoblib.predict(X_test)"
   ]
  },
  {
   "cell_type": "markdown",
   "id": "830a2d87",
   "metadata": {},
   "source": [
    "# AdaBoostClassifier"
   ]
  },
  {
   "cell_type": "code",
   "execution_count": 111,
   "id": "32ff2701",
   "metadata": {},
   "outputs": [
    {
     "name": "stdout",
     "output_type": "stream",
     "text": [
      "Training accuracy Score    :  0.9277912621359223\n",
      "Validation accuracy Score :  0.8490909090909091\n",
      "              precision    recall  f1-score   support\n",
      "\n",
      "           0       0.76      0.79      0.77       179\n",
      "           1       0.90      0.88      0.89       371\n",
      "\n",
      "    accuracy                           0.85       550\n",
      "   macro avg       0.83      0.83      0.83       550\n",
      "weighted avg       0.85      0.85      0.85       550\n",
      "\n"
     ]
    }
   ],
   "source": [
    "from sklearn.ensemble import AdaBoostClassifier\n",
    "\n",
    "from sklearn.metrics import accuracy_score, classification_report\n",
    "from sklearn.model_selection import train_test_split\n",
    "from sklearn.feature_extraction.text import CountVectorizer\n",
    "\n",
    "# Assuming your data is in a DataFrame called df\n",
    "X = np.concatenate((df[['followers_count', 'friends_count', 'statuses_count']].values, cv.fit_transform(df['tweet']).toarray()), axis=1)\n",
    "y = df['bot'].values\n",
    "\n",
    "# Split the data into training and testing sets\n",
    "X_train, X_test, y_train, y_test = train_test_split(X, y, test_size=0.25, random_state=42)\n",
    "\n",
    "ada_clf = AdaBoostClassifier(n_estimators=100,random_state=0)\n",
    "ada_clf.fit(X_train,y_train)\n",
    "ada_pred = ada_clf.predict(X_test)\n",
    "ada_accuracy = accuracy_score(y_test,ada_pred)\n",
    "print(\"Training accuracy Score    : \",ada_clf.score(X_train,y_train))\n",
    "print(\"Validation accuracy Score : \",ada_accuracy )\n",
    "print(classification_report(ada_pred,y_test))"
   ]
  },
  {
   "cell_type": "code",
   "execution_count": 112,
   "id": "4c251c01",
   "metadata": {},
   "outputs": [
    {
     "data": {
      "text/plain": [
       "'\\n# Get user input\\nfollowers_count = int(input(\"Enter number of followers: \"))\\nfriends_count = int(input(\"Enter number of friends: \"))\\nstatuses_count = int(input(\"Enter number of statuses: \"))\\ntweet = input(\"Enter the tweet text: \")\\n\\n# Preprocess user input\\nuser_input = np.concatenate((np.array([followers_count, friends_count, statuses_count]).reshape(1, -1), cv.transform([tweet]).toarray()), axis=1)\\n\\n# Make prediction on user input\\nprediction = ada_clf.predict(user_input)\\n\\nif(prediction==1):\\n    print(\"Bot\")\\nelse:\\n    print(\"Human\")\\n#print(\"Prediction: \", prediction)\\n'"
      ]
     },
     "execution_count": 112,
     "metadata": {},
     "output_type": "execute_result"
    }
   ],
   "source": [
    "\"\"\"\n",
    "# Get user input\n",
    "followers_count = int(input(\"Enter number of followers: \"))\n",
    "friends_count = int(input(\"Enter number of friends: \"))\n",
    "statuses_count = int(input(\"Enter number of statuses: \"))\n",
    "tweet = input(\"Enter the tweet text: \")\n",
    "\n",
    "# Preprocess user input\n",
    "user_input = np.concatenate((np.array([followers_count, friends_count, statuses_count]).reshape(1, -1), cv.transform([tweet]).toarray()), axis=1)\n",
    "\n",
    "# Make prediction on user input\n",
    "prediction = ada_clf.predict(user_input)\n",
    "\n",
    "if(prediction==1):\n",
    "    print(\"Bot\")\n",
    "else:\n",
    "    print(\"Human\")\n",
    "#print(\"Prediction: \", prediction)\n",
    "\"\"\""
   ]
  },
  {
   "cell_type": "markdown",
   "id": "e6fc8d26",
   "metadata": {},
   "source": [
    "# KNeighborsClassifier "
   ]
  },
  {
   "cell_type": "code",
   "execution_count": 113,
   "id": "f7765670",
   "metadata": {},
   "outputs": [
    {
     "name": "stdout",
     "output_type": "stream",
     "text": [
      "Training accuracy Score    :  0.8847087378640777\n",
      "Validation accuracy Score :  0.8327272727272728\n",
      "              precision    recall  f1-score   support\n",
      "\n",
      "           0       0.75      0.76      0.75       186\n",
      "           1       0.88      0.87      0.87       364\n",
      "\n",
      "    accuracy                           0.83       550\n",
      "   macro avg       0.81      0.81      0.81       550\n",
      "weighted avg       0.83      0.83      0.83       550\n",
      "\n"
     ]
    }
   ],
   "source": [
    "from sklearn.neighbors import KNeighborsClassifier\n",
    "\n",
    "from sklearn.metrics import accuracy_score, classification_report\n",
    "from sklearn.model_selection import train_test_split\n",
    "from sklearn.feature_extraction.text import CountVectorizer\n",
    "\n",
    "# Assuming your data is in a DataFrame called df\n",
    "X = np.concatenate((df[['followers_count', 'friends_count', 'statuses_count']].values, cv.fit_transform(df['tweet']).toarray()), axis=1)\n",
    "y = df['bot'].values\n",
    "\n",
    "# Split the data into training and testing sets\n",
    "X_train, X_test, y_train, y_test = train_test_split(X, y, test_size=0.25, random_state=42)\n",
    "\n",
    "knn_clf = KNeighborsClassifier(n_neighbors=5)\n",
    "knn_clf.fit(X_train,y_train)\n",
    "knn_pred = knn_clf.predict(X_test)\n",
    "knn_accuracy = accuracy_score(y_test,knn_pred)\n",
    "print(\"Training accuracy Score    : \",knn_clf.score(X_train,y_train))\n",
    "print(\"Validation accuracy Score : \",knn_accuracy )\n",
    "print(classification_report(knn_pred,y_test))"
   ]
  },
  {
   "cell_type": "code",
   "execution_count": 114,
   "id": "1da98a2a",
   "metadata": {
    "scrolled": true
   },
   "outputs": [
    {
     "data": {
      "text/plain": [
       "'\\n# Get user input\\nfollowers_count = int(input(\"Enter number of followers: \"))\\nfriends_count = int(input(\"Enter number of friends: \"))\\nstatuses_count = int(input(\"Enter number of statuses: \"))\\ntweet = input(\"Enter the tweet text: \")\\n\\n# Preprocess user input\\nuser_input = np.concatenate((np.array([followers_count, friends_count, statuses_count]).reshape(1, -1), cv.transform([tweet]).toarray()), axis=1)\\n\\n# Make prediction on user input\\nprediction = knn_clf.predict(user_input)\\n\\nif(prediction==1):\\n    print(\"Bot\")\\nelse:\\n    print(\"Human\")\\n#print(\"Prediction: \", prediction)\\n'"
      ]
     },
     "execution_count": 114,
     "metadata": {},
     "output_type": "execute_result"
    }
   ],
   "source": [
    "\"\"\"\n",
    "# Get user input\n",
    "followers_count = int(input(\"Enter number of followers: \"))\n",
    "friends_count = int(input(\"Enter number of friends: \"))\n",
    "statuses_count = int(input(\"Enter number of statuses: \"))\n",
    "tweet = input(\"Enter the tweet text: \")\n",
    "\n",
    "# Preprocess user input\n",
    "user_input = np.concatenate((np.array([followers_count, friends_count, statuses_count]).reshape(1, -1), cv.transform([tweet]).toarray()), axis=1)\n",
    "\n",
    "# Make prediction on user input\n",
    "prediction = knn_clf.predict(user_input)\n",
    "\n",
    "if(prediction==1):\n",
    "    print(\"Bot\")\n",
    "else:\n",
    "    print(\"Human\")\n",
    "#print(\"Prediction: \", prediction)\n",
    "\"\"\""
   ]
  },
  {
   "cell_type": "markdown",
   "id": "a037b0ec",
   "metadata": {},
   "source": [
    "# OneVsRestClassifier"
   ]
  },
  {
   "cell_type": "code",
   "execution_count": 115,
   "id": "3a912635",
   "metadata": {},
   "outputs": [
    {
     "name": "stdout",
     "output_type": "stream",
     "text": [
      "Training accuracy Score    :  0.7402912621359223\n",
      "Validation accuracy Score :  0.7490909090909091\n",
      "              precision    recall  f1-score   support\n",
      "\n",
      "           0       0.28      0.95      0.43        56\n",
      "           1       0.99      0.73      0.84       494\n",
      "\n",
      "    accuracy                           0.75       550\n",
      "   macro avg       0.64      0.84      0.64       550\n",
      "weighted avg       0.92      0.75      0.80       550\n",
      "\n"
     ]
    }
   ],
   "source": [
    "from sklearn.multiclass import OneVsRestClassifier\n",
    "from sklearn.svm import SVC\n",
    "\n",
    "from sklearn.metrics import accuracy_score, classification_report\n",
    "from sklearn.model_selection import train_test_split\n",
    "from sklearn.feature_extraction.text import CountVectorizer\n",
    "\n",
    "# Assuming your data is in a DataFrame called df\n",
    "X = np.concatenate((df[['followers_count', 'friends_count', 'statuses_count']].values, cv.fit_transform(df['tweet']).toarray()), axis=1)\n",
    "y = df['bot'].values\n",
    "\n",
    "# Split the data into training and testing sets\n",
    "X_train, X_test, y_train, y_test = train_test_split(X, y, test_size=0.25, random_state=42)\n",
    "\n",
    "onevsrestsvm_clf = OneVsRestClassifier(SVC()).fit(X_train,y_train)\n",
    "onevsrestsvm_pred = onevsrestsvm_clf.predict(X_test)\n",
    "onevsrestsvm_accuracy = accuracy_score(y_test,onevsrestsvm_pred)\n",
    "print(\"Training accuracy Score    : \",onevsrestsvm_clf.score(X_train,y_train))\n",
    "print(\"Validation accuracy Score : \",onevsrestsvm_accuracy )\n",
    "print(classification_report(onevsrestsvm_pred,y_test))"
   ]
  },
  {
   "cell_type": "code",
   "execution_count": 116,
   "id": "4c5e00c5",
   "metadata": {},
   "outputs": [
    {
     "data": {
      "text/plain": [
       "'\\n# Get user input\\nfollowers_count = int(input(\"Enter number of followers: \"))\\nfriends_count = int(input(\"Enter number of friends: \"))\\nstatuses_count = int(input(\"Enter number of statuses: \"))\\ntweet = input(\"Enter the tweet text: \")\\n\\n# Preprocess user input\\nuser_input = np.concatenate((np.array([followers_count, friends_count, statuses_count]).reshape(1, -1), cv.transform([tweet]).toarray()), axis=1)\\n\\n# Make prediction on user input\\nprediction = onevsrestsvm_clf.predict(user_input)\\n\\nif(prediction==1):\\n    print(\"Bot\")\\nelse:\\n    print(\"Human\")\\n#print(\"Prediction: \", prediction)\\n'"
      ]
     },
     "execution_count": 116,
     "metadata": {},
     "output_type": "execute_result"
    }
   ],
   "source": [
    "\"\"\"\n",
    "# Get user input\n",
    "followers_count = int(input(\"Enter number of followers: \"))\n",
    "friends_count = int(input(\"Enter number of friends: \"))\n",
    "statuses_count = int(input(\"Enter number of statuses: \"))\n",
    "tweet = input(\"Enter the tweet text: \")\n",
    "\n",
    "# Preprocess user input\n",
    "user_input = np.concatenate((np.array([followers_count, friends_count, statuses_count]).reshape(1, -1), cv.transform([tweet]).toarray()), axis=1)\n",
    "\n",
    "# Make prediction on user input\n",
    "prediction = onevsrestsvm_clf.predict(user_input)\n",
    "\n",
    "if(prediction==1):\n",
    "    print(\"Bot\")\n",
    "else:\n",
    "    print(\"Human\")\n",
    "#print(\"Prediction: \", prediction)\n",
    "\"\"\""
   ]
  },
  {
   "cell_type": "code",
   "execution_count": 117,
   "id": "d867a192",
   "metadata": {},
   "outputs": [
    {
     "name": "stdout",
     "output_type": "stream",
     "text": [
      "Training accuracy Score    :  0.9993932038834952\n",
      "Validation accuracy Score :  0.889090909090909\n",
      "              precision    recall  f1-score   support\n",
      "\n",
      "           0       0.84      0.84      0.84       189\n",
      "           1       0.91      0.92      0.92       361\n",
      "\n",
      "    accuracy                           0.89       550\n",
      "   macro avg       0.88      0.88      0.88       550\n",
      "weighted avg       0.89      0.89      0.89       550\n",
      "\n"
     ]
    }
   ],
   "source": [
    "from sklearn.multiclass import OneVsRestClassifier\n",
    "\n",
    "from sklearn.metrics import accuracy_score, classification_report\n",
    "from sklearn.model_selection import train_test_split\n",
    "from sklearn.feature_extraction.text import CountVectorizer\n",
    "\n",
    "# Assuming your data is in a DataFrame called df\n",
    "X = np.concatenate((df[['followers_count', 'friends_count', 'statuses_count']].values, cv.fit_transform(df['tweet']).toarray()), axis=1)\n",
    "y = df['bot'].values\n",
    "\n",
    "# Split the data into training and testing sets\n",
    "X_train, X_test, y_train, y_test = train_test_split(X, y, test_size=0.25, random_state=42)\n",
    "\n",
    "onevsrestxgb_clf = OneVsRestClassifier(xgb.XGBClassifier()).fit(X_train,y_train)\n",
    "onevsrestxgb_pred = onevsrestxgb_clf.predict(X_test)\n",
    "onevsrestxgb_accuracy = accuracy_score(y_test,onevsrestxgb_pred)\n",
    "print(\"Training accuracy Score    : \",onevsrestxgb_clf.score(X_train,y_train))\n",
    "print(\"Validation accuracy Score : \",onevsrestxgb_accuracy )\n",
    "print(classification_report(onevsrestxgb_pred,y_test))"
   ]
  },
  {
   "cell_type": "code",
   "execution_count": 118,
   "id": "a1b91291",
   "metadata": {},
   "outputs": [
    {
     "data": {
      "text/plain": [
       "'\\n# Get user input\\nfollowers_count = int(input(\"Enter number of followers: \"))\\nfriends_count = int(input(\"Enter number of friends: \"))\\nstatuses_count = int(input(\"Enter number of statuses: \"))\\ntweet = input(\"Enter the tweet text: \")\\n\\n# Preprocess user input\\nuser_input = np.concatenate((np.array([followers_count, friends_count, statuses_count]).reshape(1, -1), cv.transform([tweet]).toarray()), axis=1)\\n\\n# Make prediction on user input\\nprediction = onevsrestxgb_clf.predict(user_input)\\n\\nif(prediction==1):\\n    print(\"Bot\")\\nelse:\\n    print(\"Human\")\\n#print(\"Prediction: \", prediction)\\n'"
      ]
     },
     "execution_count": 118,
     "metadata": {},
     "output_type": "execute_result"
    }
   ],
   "source": [
    "\"\"\"\n",
    "# Get user input\n",
    "followers_count = int(input(\"Enter number of followers: \"))\n",
    "friends_count = int(input(\"Enter number of friends: \"))\n",
    "statuses_count = int(input(\"Enter number of statuses: \"))\n",
    "tweet = input(\"Enter the tweet text: \")\n",
    "\n",
    "# Preprocess user input\n",
    "user_input = np.concatenate((np.array([followers_count, friends_count, statuses_count]).reshape(1, -1), cv.transform([tweet]).toarray()), axis=1)\n",
    "\n",
    "# Make prediction on user input\n",
    "prediction = onevsrestxgb_clf.predict(user_input)\n",
    "\n",
    "if(prediction==1):\n",
    "    print(\"Bot\")\n",
    "else:\n",
    "    print(\"Human\")\n",
    "#print(\"Prediction: \", prediction)\n",
    "\"\"\""
   ]
  },
  {
   "cell_type": "code",
   "execution_count": 119,
   "id": "92b2c492",
   "metadata": {},
   "outputs": [
    {
     "name": "stdout",
     "output_type": "stream",
     "text": [
      "Training accuracy Score    :  0.9010922330097088\n",
      "Validation accuracy Score :  0.8272727272727273\n",
      "              precision    recall  f1-score   support\n",
      "\n",
      "           0       0.75      0.75      0.75       189\n",
      "           1       0.87      0.87      0.87       361\n",
      "\n",
      "    accuracy                           0.83       550\n",
      "   macro avg       0.81      0.81      0.81       550\n",
      "weighted avg       0.83      0.83      0.83       550\n",
      "\n"
     ]
    }
   ],
   "source": [
    "from sklearn.multiclass import OneVsRestClassifier\n",
    "from sklearn.neighbors import KNeighborsClassifier\n",
    "\n",
    "from sklearn.metrics import accuracy_score, classification_report\n",
    "from sklearn.model_selection import train_test_split\n",
    "from sklearn.feature_extraction.text import CountVectorizer\n",
    "\n",
    "# Assuming your data is in a DataFrame called df\n",
    "X = np.concatenate((df[['followers_count', 'friends_count', 'statuses_count']].values, cv.fit_transform(df['tweet']).toarray()), axis=1)\n",
    "y = df['bot'].values\n",
    "\n",
    "# Split the data into training and testing sets\n",
    "X_train, X_test, y_train, y_test = train_test_split(X, y, test_size=0.25, random_state=42)\n",
    "\n",
    "onevsrestknn_clf = OneVsRestClassifier(KNeighborsClassifier(n_neighbors=3)).fit(X_train,y_train)\n",
    "onevsrestknn_pred = onevsrestknn_clf.predict(X_test)\n",
    "onevsrestknn_accuracy = accuracy_score(y_test,onevsrestknn_pred)\n",
    "print(\"Training accuracy Score    : \",onevsrestknn_clf.score(X_train,y_train))\n",
    "print(\"Validation accuracy Score : \",onevsrestknn_accuracy )\n",
    "print(classification_report(onevsrestknn_pred,y_test))"
   ]
  },
  {
   "cell_type": "code",
   "execution_count": 120,
   "id": "028eed49",
   "metadata": {},
   "outputs": [
    {
     "data": {
      "text/plain": [
       "'\\n# Get user input\\nfollowers_count = int(input(\"Enter number of followers: \"))\\nfriends_count = int(input(\"Enter number of friends: \"))\\nstatuses_count = int(input(\"Enter number of statuses: \"))\\ntweet = input(\"Enter the tweet text: \")\\n\\n# Preprocess user input\\nuser_input = np.concatenate((np.array([followers_count, friends_count, statuses_count]).reshape(1, -1), cv.transform([tweet]).toarray()), axis=1)\\n\\n# Make prediction on user input\\nprediction = onevsrestknn_clf.predict(user_input)\\n\\nif(prediction==1):\\n    print(\"Bot\")\\nelse:\\n    print(\"Human\")\\n#print(\"Prediction: \", prediction)\\n'"
      ]
     },
     "execution_count": 120,
     "metadata": {},
     "output_type": "execute_result"
    }
   ],
   "source": [
    "\"\"\"\n",
    "# Get user input\n",
    "followers_count = int(input(\"Enter number of followers: \"))\n",
    "friends_count = int(input(\"Enter number of friends: \"))\n",
    "statuses_count = int(input(\"Enter number of statuses: \"))\n",
    "tweet = input(\"Enter the tweet text: \")\n",
    "\n",
    "# Preprocess user input\n",
    "user_input = np.concatenate((np.array([followers_count, friends_count, statuses_count]).reshape(1, -1), cv.transform([tweet]).toarray()), axis=1)\n",
    "\n",
    "# Make prediction on user input\n",
    "prediction = onevsrestknn_clf.predict(user_input)\n",
    "\n",
    "if(prediction==1):\n",
    "    print(\"Bot\")\n",
    "else:\n",
    "    print(\"Human\")\n",
    "#print(\"Prediction: \", prediction)\n",
    "\"\"\""
   ]
  },
  {
   "cell_type": "code",
   "execution_count": 121,
   "id": "8dc1efed",
   "metadata": {},
   "outputs": [
    {
     "name": "stdout",
     "output_type": "stream",
     "text": [
      "Training accuracy Score    :  1.0\n",
      "Validation accuracy Score :  0.84\n",
      "              precision    recall  f1-score   support\n",
      "\n",
      "           0       0.64      0.85      0.73       142\n",
      "           1       0.94      0.84      0.89       408\n",
      "\n",
      "    accuracy                           0.84       550\n",
      "   macro avg       0.79      0.84      0.81       550\n",
      "weighted avg       0.86      0.84      0.85       550\n",
      "\n"
     ]
    }
   ],
   "source": [
    "from sklearn.multiclass import OneVsRestClassifier\n",
    "from sklearn.ensemble import RandomForestClassifier\n",
    "\n",
    "from sklearn.metrics import accuracy_score, classification_report\n",
    "from sklearn.model_selection import train_test_split\n",
    "from sklearn.feature_extraction.text import CountVectorizer\n",
    "\n",
    "# Assuming your data is in a DataFrame called df\n",
    "X = np.concatenate((df[['followers_count', 'friends_count', 'statuses_count']].values, cv.fit_transform(df['tweet']).toarray()), axis=1)\n",
    "y = df['bot'].values\n",
    "\n",
    "# Split the data into training and testing sets\n",
    "X_train, X_test, y_train, y_test = train_test_split(X, y, test_size=0.25, random_state=42)\n",
    "\n",
    "onevsrestrfc_clf = OneVsRestClassifier(RandomForestClassifier()).fit(X_train,y_train)\n",
    "onevsrestrfc_pred = onevsrestrfc_clf.predict(X_test)\n",
    "onevsrestrfc_accuracy = accuracy_score(y_test,onevsrestrfc_pred)\n",
    "print(\"Training accuracy Score    : \",onevsrestrfc_clf.score(X_train,y_train))\n",
    "print(\"Validation accuracy Score : \",onevsrestrfc_accuracy )\n",
    "print(classification_report(onevsrestrfc_pred,y_test))"
   ]
  },
  {
   "cell_type": "code",
   "execution_count": 122,
   "id": "ecd74cfe",
   "metadata": {},
   "outputs": [
    {
     "data": {
      "text/plain": [
       "'\\n# Get user input\\nfollowers_count = int(input(\"Enter number of followers: \"))\\nfriends_count = int(input(\"Enter number of friends: \"))\\nstatuses_count = int(input(\"Enter number of statuses: \"))\\ntweet = input(\"Enter the tweet text: \")\\n\\n# Preprocess user input\\nuser_input = np.concatenate((np.array([followers_count, friends_count, statuses_count]).reshape(1, -1), cv.transform([tweet]).toarray()), axis=1)\\n\\n# Make prediction on user input\\nprediction = onevsrestrfc_clf.predict(user_input)\\n\\nif(prediction==1):\\n    print(\"Bot\")\\nelse:\\n    print(\"Human\")\\n#print(\"Prediction: \", prediction)\\n'"
      ]
     },
     "execution_count": 122,
     "metadata": {},
     "output_type": "execute_result"
    }
   ],
   "source": [
    "\"\"\"\n",
    "# Get user input\n",
    "followers_count = int(input(\"Enter number of followers: \"))\n",
    "friends_count = int(input(\"Enter number of friends: \"))\n",
    "statuses_count = int(input(\"Enter number of statuses: \"))\n",
    "tweet = input(\"Enter the tweet text: \")\n",
    "\n",
    "# Preprocess user input\n",
    "user_input = np.concatenate((np.array([followers_count, friends_count, statuses_count]).reshape(1, -1), cv.transform([tweet]).toarray()), axis=1)\n",
    "\n",
    "# Make prediction on user input\n",
    "prediction = onevsrestrfc_clf.predict(user_input)\n",
    "\n",
    "if(prediction==1):\n",
    "    print(\"Bot\")\n",
    "else:\n",
    "    print(\"Human\")\n",
    "#print(\"Prediction: \", prediction)\n",
    "\"\"\""
   ]
  },
  {
   "cell_type": "code",
   "execution_count": 123,
   "id": "09ff9447",
   "metadata": {},
   "outputs": [
    {
     "name": "stdout",
     "output_type": "stream",
     "text": [
      "Training accuracy Score    :  1.0\n",
      "Validation accuracy Score :  0.84\n",
      "              precision    recall  f1-score   support\n",
      "\n",
      "           0       0.77      0.77      0.77       188\n",
      "           1       0.88      0.88      0.88       362\n",
      "\n",
      "    accuracy                           0.84       550\n",
      "   macro avg       0.82      0.82      0.82       550\n",
      "weighted avg       0.84      0.84      0.84       550\n",
      "\n"
     ]
    }
   ],
   "source": [
    "from sklearn.multiclass import OneVsRestClassifier\n",
    "\n",
    "from sklearn.metrics import accuracy_score, classification_report\n",
    "from sklearn.model_selection import train_test_split\n",
    "from sklearn.feature_extraction.text import CountVectorizer\n",
    "\n",
    "# Assuming your data is in a DataFrame called df\n",
    "X = np.concatenate((df[['followers_count', 'friends_count', 'statuses_count']].values, cv.fit_transform(df['tweet']).toarray()), axis=1)\n",
    "y = df['bot'].values\n",
    "\n",
    "# Split the data into training and testing sets\n",
    "X_train, X_test, y_train, y_test = train_test_split(X, y, test_size=0.25, random_state=42)\n",
    "\n",
    "onevsrestdt_clf = OneVsRestClassifier(DecisionTreeClassifier()).fit(X_train,y_train)\n",
    "onevsrestdt_pred = onevsrestdt_clf.predict(X_test)\n",
    "onevsrestdt_accuracy = accuracy_score(y_test,onevsrestdt_pred)\n",
    "print(\"Training accuracy Score    : \",onevsrestdt_clf.score(X_train,y_train))\n",
    "print(\"Validation accuracy Score : \",onevsrestdt_accuracy )\n",
    "print(classification_report(onevsrestdt_pred,y_test))"
   ]
  },
  {
   "cell_type": "code",
   "execution_count": 124,
   "id": "a735bb49",
   "metadata": {},
   "outputs": [
    {
     "data": {
      "text/plain": [
       "'\\n# Get user input\\nfollowers_count = int(input(\"Enter number of followers: \"))\\nfriends_count = int(input(\"Enter number of friends: \"))\\nstatuses_count = int(input(\"Enter number of statuses: \"))\\ntweet = input(\"Enter the tweet text: \")\\n\\n# Preprocess user input\\nuser_input = np.concatenate((np.array([followers_count, friends_count, statuses_count]).reshape(1, -1), cv.transform([tweet]).toarray()), axis=1)\\n\\n# Make prediction on user input\\nprediction = onevsrestdt_clf.predict(user_input)\\n\\nif(prediction==1):\\n    print(\"Bot\")\\nelse:\\n    print(\"Human\")\\n#print(\"Prediction: \", prediction)\\n'"
      ]
     },
     "execution_count": 124,
     "metadata": {},
     "output_type": "execute_result"
    }
   ],
   "source": [
    "\"\"\"\n",
    "# Get user input\n",
    "followers_count = int(input(\"Enter number of followers: \"))\n",
    "friends_count = int(input(\"Enter number of friends: \"))\n",
    "statuses_count = int(input(\"Enter number of statuses: \"))\n",
    "tweet = input(\"Enter the tweet text: \")\n",
    "\n",
    "# Preprocess user input\n",
    "user_input = np.concatenate((np.array([followers_count, friends_count, statuses_count]).reshape(1, -1), cv.transform([tweet]).toarray()), axis=1)\n",
    "\n",
    "# Make prediction on user input\n",
    "prediction = onevsrestdt_clf.predict(user_input)\n",
    "\n",
    "if(prediction==1):\n",
    "    print(\"Bot\")\n",
    "else:\n",
    "    print(\"Human\")\n",
    "#print(\"Prediction: \", prediction)\n",
    "\"\"\""
   ]
  },
  {
   "cell_type": "markdown",
   "id": "b97e6c7e",
   "metadata": {},
   "source": [
    "# XGBoost - XGBClassifier"
   ]
  },
  {
   "cell_type": "code",
   "execution_count": 125,
   "id": "b19495ea",
   "metadata": {},
   "outputs": [
    {
     "name": "stdout",
     "output_type": "stream",
     "text": [
      "Requirement already satisfied: xgboost in c:\\users\\sanjeevan\\anaconda3\\lib\\site-packages (1.7.4)\n",
      "Requirement already satisfied: scipy in c:\\users\\sanjeevan\\anaconda3\\lib\\site-packages (from xgboost) (1.10.1)\n",
      "Requirement already satisfied: numpy in c:\\users\\sanjeevan\\anaconda3\\lib\\site-packages (from xgboost) (1.24.2)\n"
     ]
    }
   ],
   "source": [
    "!pip install xgboost\n",
    "\n",
    "from numpy import loadtxt\n",
    "from xgboost import XGBClassifier\n",
    "from sklearn.model_selection import train_test_split\n",
    "from sklearn.metrics import accuracy_score\n",
    "import pandas as pd\n",
    "import matplotlib.pyplot as plt\n",
    "import seaborn as sns\n",
    "\n",
    "datasetxg = pd.read_csv(\"finaldata1.csv\")\n",
    "\n"
   ]
  },
  {
   "cell_type": "code",
   "execution_count": 126,
   "id": "a1ddefff",
   "metadata": {
    "scrolled": true
   },
   "outputs": [
    {
     "data": {
      "image/png": "[encoded data removed]",
      "text/plain": [
       "<Figure size 936x504 with 1 Axes>"
      ]
     },
     "metadata": {
      "needs_background": "light"
     },
     "output_type": "display_data"
    }
   ],
   "source": [
    "plt.figure(figsize=(13,7))\n",
    "ax = sns.countplot(x=datasetxg.bot, palette={0: 'green', 1: 'red'})\n",
    "plt.title('bot vs human', fontsize=16)\n",
    "plt.ylabel('Count', fontsize=16)\n",
    "plt.xlabel('Bot vs Human Label', fontsize=16)\n",
    "plt.xticks(rotation='vertical')\n",
    "\n",
    "# Annotate each bar with its count\n",
    "for p in ax.patches:\n",
    "    ax.annotate(format(p.get_height(), '.0f'), \n",
    "                (p.get_x() + p.get_width() / 2., p.get_height()), \n",
    "                ha = 'center', va = 'center', \n",
    "                xytext = (0, 10), \n",
    "                textcoords = 'offset points')\n"
   ]
  },
  {
   "cell_type": "code",
   "execution_count": 127,
   "id": "5fcc7762",
   "metadata": {},
   "outputs": [],
   "source": [
    "#!pip install gensim\n",
    "\n",
    "#!pip install --upgrade numpy\n",
    "\n",
    "X = df[['followers_count','friends_count','statuses_count','tweet']]\n",
    "Y = df['bot']\n",
    "from sklearn.model_selection import train_test_split\n",
    "X_train, X_test, y_train, y_test = train_test_split(X, Y, test_size=0.25)"
   ]
  },
  {
   "cell_type": "code",
   "execution_count": 128,
   "id": "c09124fb",
   "metadata": {},
   "outputs": [],
   "source": [
    "import nltk\n",
    "#nltk.download('stopwords')\n",
    "from nltk.corpus import stopwords\n",
    "stop_words = set(stopwords.words('english'))#an,is,..\n",
    "from sklearn.base import BaseEstimator, TransformerMixin\n",
    "class TextSelector(BaseEstimator, TransformerMixin):\n",
    "    def __init__(self, field):\n",
    "        self.field = field\n",
    "    def fit(self, X, y=None):\n",
    "        return self\n",
    "    def transform(self, X):\n",
    "        return X[self.field]\n",
    "class NumberSelector(BaseEstimator, TransformerMixin):\n",
    "    def __init__(self, field):\n",
    "        self.field = field\n",
    "    def fit(self, X, y=None):\n",
    "        return self\n",
    "    def transform(self, X):\n",
    "        return X[[self.field]]"
   ]
  },
  {
   "cell_type": "code",
   "execution_count": 129,
   "id": "59b7c478",
   "metadata": {},
   "outputs": [],
   "source": [
    "from sklearn.pipeline import Pipeline, FeatureUnion\n",
    "from sklearn.feature_extraction.text import TfidfVectorizer\n",
    "from sklearn.preprocessing import StandardScaler\n",
    "from sklearn.decomposition import TruncatedSVD\n",
    "from sklearn.ensemble import RandomForestClassifier\n",
    "from sklearn.base import BaseEstimator, TransformerMixin\n",
    "\n",
    "from xgboost import XGBClassifier\n",
    "\n",
    "from nltk.tokenize import word_tokenize\n",
    "import re\n",
    "import nltk\n",
    "def Tokenizer(str_input):\n",
    "    words = re.sub(r\"[^A-Za-z ]\", \" \", str_input).lower().split()\n",
    "    lemmatizer = WordNetLemmatizer()\n",
    "    words = [lemmatizer.lemmatize(word) for word in words if not word in stopwords.words('english')]\n",
    "    return words\n",
    "\n",
    "\n",
    "#from sklearn.feature_extraction.stop_words import ENGLISH_STOP_WORDS as stop_words\n",
    "\n",
    "#Both pipelines are then combined into a FeatureUnion, which concatenates the output of the two pipelines into a single feature matrix.\n",
    "# TfidfVectorizer - Transforms text to feature vectors that can be used as input to estimator.\n",
    "    \n",
    "classifier = Pipeline([\n",
    "    ('features', FeatureUnion([\n",
    "        ('text', Pipeline([\n",
    "            ('colext', TextSelector('tweet')),\n",
    "            ('tfidf', TfidfVectorizer(tokenizer=Tokenizer, stop_words=stop_words,\n",
    "                     min_df=.0025, max_df=0.25, ngram_range=(1,3))),\n",
    "            ('svd', TruncatedSVD(algorithm='randomized', n_components=300)),\n",
    "        ])),\n",
    "        ('followers', Pipeline([\n",
    "            ('fext', NumberSelector('followers_count')),\n",
    "            ('fscaler', StandardScaler()),\n",
    "        ])),\n",
    "        ('friends', Pipeline([\n",
    "            ('frndext', NumberSelector('friends_count')),\n",
    "            ('frndscaler', StandardScaler()),\n",
    "        ])),\n",
    "        ('statuses', Pipeline([\n",
    "            ('stext', NumberSelector('statuses_count')),\n",
    "            ('stscaler', StandardScaler()),\n",
    "        ]))\n",
    "    ])),\n",
    "    ('clf', XGBClassifier(max_depth=3, n_estimators=350, learning_rate=0.1)),\n",
    "])"
   ]
  },
  {
   "cell_type": "code",
   "execution_count": 130,
   "id": "452529f8",
   "metadata": {},
   "outputs": [
    {
     "name": "stdout",
     "output_type": "stream",
     "text": [
      "      followers_count  friends_count  statuses_count  \\\n",
      "1955               31             39            1856   \n",
      "610                29             97               3   \n",
      "543              6805             88            3272   \n",
      "1126                7              1             246   \n",
      "1375              152              0            3301   \n",
      "...               ...            ...             ...   \n",
      "919                 5            474              81   \n",
      "2000            89537           7950           55289   \n",
      "389               275              1            1961   \n",
      "832                33             38              17   \n",
      "649              4956              7            2179   \n",
      "\n",
      "                                                  tweet  \n",
      "1955  Someone PLEASE take Gossip Girl away from me. ...  \n",
      "610   i just caught myself eating chocolate sliced b...  \n",
      "543   You can buy Twitter Followers on FollowerSale ...  \n",
      "1126    I'm not lamplit but I am illuminated by a lamp.  \n",
      "1375  EAT With so much fresh food available, seek ou...  \n",
      "...                                                 ...  \n",
      "919   For more Free VIds visit  people and to know m...  \n",
      "2000  Me toooooo! I feel like I've been on the verge...  \n",
      "389   how the #altright uses  &amp; insecurity to lu...  \n",
      "832          girls in the world smart mature housewife   \n",
      "649   519:d*NC Ant | lithograph about Antiquities ht...  \n",
      "\n",
      "[1648 rows x 4 columns]\n"
     ]
    }
   ],
   "source": [
    "\n",
    "#print(y_train)\n",
    "print(X_train)"
   ]
  },
  {
   "cell_type": "code",
   "execution_count": 131,
   "id": "5b623f85",
   "metadata": {},
   "outputs": [
    {
     "name": "stdout",
     "output_type": "stream",
     "text": [
      "Accuracy: 0.9987864077669902\n",
      "Validation accuracy Score :  0.8927272727272727\n",
      "              precision    recall  f1-score   support\n",
      "\n",
      "           0       0.85      0.83      0.84       189\n",
      "           1       0.91      0.93      0.92       361\n",
      "\n",
      "    accuracy                           0.89       550\n",
      "   macro avg       0.88      0.88      0.88       550\n",
      "weighted avg       0.89      0.89      0.89       550\n",
      "\n",
      "[[157  32]\n",
      " [ 27 334]]\n"
     ]
    }
   ],
   "source": [
    "from sklearn.metrics import accuracy_score, precision_score, classification_report, confusion_matrix\n",
    "\n",
    "classifier.fit(X_train, y_train)\n",
    "preds = classifier.predict(X_test)\n",
    "print (\"Accuracy:\", classifier.score(X_train,y_train))\n",
    "xgbboost_accuracy = accuracy_score(y_test,preds)\n",
    "print(\"Validation accuracy Score : \",xgbboost_accuracy )\n",
    "print(classification_report(y_test, preds))\n",
    "print (confusion_matrix(y_test, preds))"
   ]
  },
  {
   "cell_type": "code",
   "execution_count": 132,
   "id": "f28b0e82",
   "metadata": {},
   "outputs": [
    {
     "data": {
      "image/png": "[encoded data removed]",
      "text/plain": [
       "<Figure size 432x288 with 2 Axes>"
      ]
     },
     "metadata": {
      "needs_background": "light"
     },
     "output_type": "display_data"
    }
   ],
   "source": [
    "import seaborn as sns\n",
    "\n",
    "# Create confusion matrix\n",
    "cm = confusion_matrix(y_test, preds)\n",
    "\n",
    "# Create heatmap\n",
    "sns.heatmap(cm, annot=True, cmap=\"Blues\", fmt=\"d\")\n",
    "\n",
    "# Set axis labels\n",
    "plt.xlabel(\"Predicted label\")\n",
    "plt.ylabel(\"True label\")\n",
    "\n",
    "# Show plot\n",
    "plt.show()\n"
   ]
  },
  {
   "cell_type": "code",
   "execution_count": 133,
   "id": "8739be2b",
   "metadata": {},
   "outputs": [
    {
     "data": {
      "image/png": "[encoded data removed]",
      "text/plain": [
       "<Figure size 432x288 with 1 Axes>"
      ]
     },
     "metadata": {
      "needs_background": "light"
     },
     "output_type": "display_data"
    }
   ],
   "source": [
    "from sklearn.metrics import classification_report\n",
    "import matplotlib.pyplot as plt\n",
    "import numpy as np\n",
    "\n",
    "# Create the classification report\n",
    "report = classification_report(y_test, preds, output_dict=True)\n",
    "\n",
    "# Extract the precision, recall, and F1-score for each class\n",
    "classes = list(report.keys())[:-3]\n",
    "metrics = [\"precision\", \"recall\", \"f1-score\"]\n",
    "scores = np.zeros((len(classes), len(metrics)))\n",
    "for i, c in enumerate(classes):\n",
    "    for j, m in enumerate(metrics):\n",
    "        scores[i, j] = report[c][m]\n",
    "\n",
    "# Create the bar chart\n",
    "x = np.arange(len(classes)) * 3\n",
    "fig, ax = plt.subplots()\n",
    "for j, m in enumerate(metrics):\n",
    "    ax.bar(x - 1 + j, scores[:, j], width=0.8/len(metrics), label=m)\n",
    "ax.set_xticks(x)\n",
    "ax.set_xticklabels(classes)\n",
    "ax.set_xlabel(\"XGBoostClassifier - Precision & Recall\")\n",
    "ax.set_ylim([0, 1])\n",
    "ax.legend()\n",
    "plt.show()\n"
   ]
  },
  {
   "cell_type": "markdown",
   "id": "3144a375",
   "metadata": {},
   "source": [
    "# XGboost"
   ]
  },
  {
   "cell_type": "code",
   "execution_count": 134,
   "id": "eaa57cc7",
   "metadata": {},
   "outputs": [
    {
     "data": {
      "text/plain": [
       "'\\ninput_tweet = \"welcome tweet\" # replace \"example tweet\" with the tweet you want to classify\\ninput_followers = 100 # replace 100 with the number of followers for the Twitter user associated with the input tweet\\nfriends=200\\nstatus=30\\n# create a dataframe with the input data\\ninput_df = pd.DataFrame({\\'tweet\\': [input_tweet], \\'followers_count\\': [input_followers], \\'friends_count\\':[friends], \\'statuses_count\\':[status]})\\n\\n# use the classifier to make predictions on the input data\\npredictions = classifier.predict(input_df)\\n\\n# print the predictions\\n\\nif(predictions==1):\\n    print(\"bot\")\\nelse:\\n    print(\"human\")\\n#print(predictions)\\n'"
      ]
     },
     "execution_count": 134,
     "metadata": {},
     "output_type": "execute_result"
    }
   ],
   "source": [
    "\"\"\"\n",
    "input_tweet = \"welcome tweet\" # replace \"example tweet\" with the tweet you want to classify\n",
    "input_followers = 100 # replace 100 with the number of followers for the Twitter user associated with the input tweet\n",
    "friends=200\n",
    "status=30\n",
    "# create a dataframe with the input data\n",
    "input_df = pd.DataFrame({'tweet': [input_tweet], 'followers_count': [input_followers], 'friends_count':[friends], 'statuses_count':[status]})\n",
    "\n",
    "# use the classifier to make predictions on the input data\n",
    "predictions = classifier.predict(input_df)\n",
    "\n",
    "# print the predictions\n",
    "\n",
    "if(predictions==1):\n",
    "    print(\"bot\")\n",
    "else:\n",
    "    print(\"human\")\n",
    "#print(predictions)\n",
    "\"\"\""
   ]
  },
  {
   "cell_type": "code",
   "execution_count": null,
   "id": "04aa8b74",
   "metadata": {},
   "outputs": [],
   "source": []
  },
  {
   "cell_type": "code",
   "execution_count": null,
   "id": "5f9e75b3",
   "metadata": {},
   "outputs": [],
   "source": []
  },
  {
   "cell_type": "code",
   "execution_count": null,
   "id": "4b773b62",
   "metadata": {},
   "outputs": [],
   "source": []
  }
 ],
 "metadata": {
  "kernelspec": {
   "display_name": "Python 3",
   "language": "python",
   "name": "python3"
  },
  "language_info": {
   "codemirror_mode": {
    "name": "ipython",
    "version": 3
   },
   "file_extension": ".py",
   "mimetype": "text/x-python",
   "name": "python",
   "nbconvert_exporter": "python",
   "pygments_lexer": "ipython3",
   "version": "3.8.8"
  }
 },
 "nbformat": 4,
 "nbformat_minor": 5
}
